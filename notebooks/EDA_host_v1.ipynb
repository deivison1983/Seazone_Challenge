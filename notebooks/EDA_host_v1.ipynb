{
 "cells": [
  {
   "cell_type": "markdown",
   "id": "14230335",
   "metadata": {
    "ExecuteTime": {
     "end_time": "2023-01-30T18:17:43.132522Z",
     "start_time": "2023-01-30T18:17:43.121039Z"
    }
   },
   "source": [
    "# 0.0 Imports"
   ]
  },
  {
   "cell_type": "code",
   "execution_count": 1,
   "id": "d3ddcc44",
   "metadata": {
    "ExecuteTime": {
     "end_time": "2023-01-30T20:44:19.254092Z",
     "start_time": "2023-01-30T20:44:17.621458Z"
    }
   },
   "outputs": [],
   "source": [
    "import pandas as pd\n",
    "import numpy as np\n",
    "import seaborn as sns\n",
    "import matplotlib\n",
    "from matplotlib import pyplot as plt\n",
    "from matplotlib import gridspec\n",
    "import matplotlib.patches as mpatches\n",
    "\n",
    "from IPython.core.display    import HTML\n",
    "from IPython.display         import Image"
   ]
  },
  {
   "cell_type": "markdown",
   "id": "a8ed9520",
   "metadata": {},
   "source": [
    "## 0.1 Helper Functions"
   ]
  },
  {
   "cell_type": "code",
   "execution_count": 2,
   "id": "f55a02ec",
   "metadata": {
    "ExecuteTime": {
     "end_time": "2023-01-30T20:44:19.277999Z",
     "start_time": "2023-01-30T20:44:19.261176Z"
    }
   },
   "outputs": [],
   "source": [
    "#ajusta graficos\n",
    "def jupyter_settings():\n",
    "    %matplotlib inline\n",
    "    #%pylab inline\n",
    "    \n",
    "    plt.style.use( 'bmh' )\n",
    "    plt.rcParams['figure.figsize'] = [25, 12]\n",
    "    plt.rcParams['font.size'] = 40\n",
    "    \n",
    "    \n",
    "    display( HTML( '<style>.container { width:100% !important; }</style>') )\n",
    "    pd.options.display.max_columns = None\n",
    "    pd.options.display.max_rows = None\n",
    "    pd.set_option( 'display.expand_frame_repr', False )\n",
    "    \n",
    "    sns.set()\n",
    "#     plt.rcParams['axes.titlesize']  = 20\n",
    "#     plt.rcParams['axes.labelsize']  = 16\n",
    "    plt.rcParams['xtick.labelsize'] = 18\n",
    "    plt.rcParams['ytick.labelsize'] = 18\n",
    "    \n",
    "    \n",
    "    \n",
    "#Retirar notação cientifica\n",
    "pd.set_option('display.float_format', lambda x: '%.2f' % x)"
   ]
  },
  {
   "cell_type": "code",
   "execution_count": 3,
   "id": "58be1ac3",
   "metadata": {
    "ExecuteTime": {
     "end_time": "2023-01-30T20:44:19.388409Z",
     "start_time": "2023-01-30T20:44:19.281627Z"
    }
   },
   "outputs": [
    {
     "data": {
      "text/html": [
       "<style>.container { width:100% !important; }</style>"
      ],
      "text/plain": [
       "<IPython.core.display.HTML object>"
      ]
     },
     "metadata": {},
     "output_type": "display_data"
    }
   ],
   "source": [
    "jupyter_settings()"
   ]
  },
  {
   "cell_type": "markdown",
   "id": "0cdc6a80",
   "metadata": {},
   "source": [
    "## 0.2 Loading Data"
   ]
  },
  {
   "cell_type": "code",
   "execution_count": 4,
   "id": "abf11895",
   "metadata": {
    "ExecuteTime": {
     "end_time": "2023-01-30T20:44:19.515954Z",
     "start_time": "2023-01-30T20:44:19.391230Z"
    }
   },
   "outputs": [],
   "source": [
    "data = pd.read_csv('../data/data_base/Hosts_ids_Itapema.csv')"
   ]
  },
  {
   "cell_type": "code",
   "execution_count": 5,
   "id": "69df8688",
   "metadata": {
    "ExecuteTime": {
     "end_time": "2023-01-30T20:44:19.526874Z",
     "start_time": "2023-01-30T20:44:19.520345Z"
    }
   },
   "outputs": [
    {
     "data": {
      "text/plain": [
       "(1357, 12)"
      ]
     },
     "execution_count": 5,
     "metadata": {},
     "output_type": "execute_result"
    }
   ],
   "source": [
    "data.shape"
   ]
  },
  {
   "cell_type": "code",
   "execution_count": 6,
   "id": "491793b1",
   "metadata": {
    "ExecuteTime": {
     "end_time": "2023-01-30T20:44:19.570787Z",
     "start_time": "2023-01-30T20:44:19.529960Z"
    }
   },
   "outputs": [
    {
     "data": {
      "text/html": [
       "<div>\n",
       "<style scoped>\n",
       "    .dataframe tbody tr th:only-of-type {\n",
       "        vertical-align: middle;\n",
       "    }\n",
       "\n",
       "    .dataframe tbody tr th {\n",
       "        vertical-align: top;\n",
       "    }\n",
       "\n",
       "    .dataframe thead th {\n",
       "        text-align: right;\n",
       "    }\n",
       "</style>\n",
       "<table border=\"1\" class=\"dataframe\">\n",
       "  <thead>\n",
       "    <tr style=\"text-align: right;\">\n",
       "      <th></th>\n",
       "      <th>host_id</th>\n",
       "      <th>host_name</th>\n",
       "      <th>host_rating</th>\n",
       "      <th>n_reviews</th>\n",
       "      <th>n_reviews_from_host</th>\n",
       "      <th>n_listings</th>\n",
       "      <th>about_host</th>\n",
       "      <th>comments</th>\n",
       "      <th>aquisition_date</th>\n",
       "      <th>ano</th>\n",
       "      <th>mes</th>\n",
       "      <th>dia</th>\n",
       "    </tr>\n",
       "  </thead>\n",
       "  <tbody>\n",
       "    <tr>\n",
       "      <th>0</th>\n",
       "      <td>160913639</td>\n",
       "      <td>Cayo</td>\n",
       "      <td>0.00</td>\n",
       "      <td>0</td>\n",
       "      <td>0</td>\n",
       "      <td>1</td>\n",
       "      <td>NaN</td>\n",
       "      <td>NaN</td>\n",
       "      <td>2022-12-05</td>\n",
       "      <td>2022</td>\n",
       "      <td>12</td>\n",
       "      <td>5</td>\n",
       "    </tr>\n",
       "    <tr>\n",
       "      <th>1</th>\n",
       "      <td>84162292</td>\n",
       "      <td>Ricardo</td>\n",
       "      <td>4.93</td>\n",
       "      <td>42</td>\n",
       "      <td>1</td>\n",
       "      <td>3</td>\n",
       "      <td>Sou casado, tenho uma filha de 9 anos e um fil...</td>\n",
       "      <td>[\"Obrigado Ricardo a estadia  foi ótima muito ...</td>\n",
       "      <td>2022-12-05</td>\n",
       "      <td>2022</td>\n",
       "      <td>12</td>\n",
       "      <td>5</td>\n",
       "    </tr>\n",
       "    <tr>\n",
       "      <th>2</th>\n",
       "      <td>96045548</td>\n",
       "      <td>Eduardo</td>\n",
       "      <td>0.00</td>\n",
       "      <td>26</td>\n",
       "      <td>0</td>\n",
       "      <td>3</td>\n",
       "      <td>NaN</td>\n",
       "      <td>[\"Otimo\", \"muito bom local e muito claro nas e...</td>\n",
       "      <td>2022-12-05</td>\n",
       "      <td>2022</td>\n",
       "      <td>12</td>\n",
       "      <td>5</td>\n",
       "    </tr>\n",
       "    <tr>\n",
       "      <th>3</th>\n",
       "      <td>419526733</td>\n",
       "      <td>Korban</td>\n",
       "      <td>0.00</td>\n",
       "      <td>13</td>\n",
       "      <td>0</td>\n",
       "      <td>3</td>\n",
       "      <td>Korban Empreendimentos, empresa com 3 filiais,...</td>\n",
       "      <td>[\"ótimo acesso a praia   lugar bem tranquilo.\"...</td>\n",
       "      <td>2022-12-05</td>\n",
       "      <td>2022</td>\n",
       "      <td>12</td>\n",
       "      <td>5</td>\n",
       "    </tr>\n",
       "    <tr>\n",
       "      <th>4</th>\n",
       "      <td>183738964</td>\n",
       "      <td>Fabiane</td>\n",
       "      <td>4.70</td>\n",
       "      <td>10</td>\n",
       "      <td>0</td>\n",
       "      <td>1</td>\n",
       "      <td>NaN</td>\n",
       "      <td>[\"Ótima localização  muito boa hospedagem.\", \"...</td>\n",
       "      <td>2022-12-05</td>\n",
       "      <td>2022</td>\n",
       "      <td>12</td>\n",
       "      <td>5</td>\n",
       "    </tr>\n",
       "  </tbody>\n",
       "</table>\n",
       "</div>"
      ],
      "text/plain": [
       "     host_id host_name  host_rating  n_reviews  n_reviews_from_host  n_listings                                         about_host                                           comments aquisition_date   ano  mes  dia\n",
       "0  160913639      Cayo         0.00          0                    0           1                                                NaN                                                NaN      2022-12-05  2022   12    5\n",
       "1   84162292   Ricardo         4.93         42                    1           3  Sou casado, tenho uma filha de 9 anos e um fil...  [\"Obrigado Ricardo a estadia  foi ótima muito ...      2022-12-05  2022   12    5\n",
       "2   96045548   Eduardo         0.00         26                    0           3                                                NaN  [\"Otimo\", \"muito bom local e muito claro nas e...      2022-12-05  2022   12    5\n",
       "3  419526733    Korban         0.00         13                    0           3  Korban Empreendimentos, empresa com 3 filiais,...  [\"ótimo acesso a praia   lugar bem tranquilo.\"...      2022-12-05  2022   12    5\n",
       "4  183738964   Fabiane         4.70         10                    0           1                                                NaN  [\"Ótima localização  muito boa hospedagem.\", \"...      2022-12-05  2022   12    5"
      ]
     },
     "execution_count": 6,
     "metadata": {},
     "output_type": "execute_result"
    }
   ],
   "source": [
    "data.head()"
   ]
  },
  {
   "cell_type": "markdown",
   "id": "4a0756b4",
   "metadata": {},
   "source": [
    "# 1.0 Data Description"
   ]
  },
  {
   "cell_type": "code",
   "execution_count": 7,
   "id": "c87762d5",
   "metadata": {
    "ExecuteTime": {
     "end_time": "2023-01-30T20:44:19.580503Z",
     "start_time": "2023-01-30T20:44:19.575017Z"
    }
   },
   "outputs": [],
   "source": [
    "df1 = data.copy()"
   ]
  },
  {
   "cell_type": "code",
   "execution_count": 8,
   "id": "fc26ece4",
   "metadata": {
    "ExecuteTime": {
     "end_time": "2023-01-30T20:44:19.598530Z",
     "start_time": "2023-01-30T20:44:19.585298Z"
    }
   },
   "outputs": [
    {
     "data": {
      "text/plain": [
       "host_id                  int64\n",
       "host_name               object\n",
       "host_rating            float64\n",
       "n_reviews                int64\n",
       "n_reviews_from_host      int64\n",
       "n_listings               int64\n",
       "about_host              object\n",
       "comments                object\n",
       "aquisition_date         object\n",
       "ano                      int64\n",
       "mes                      int64\n",
       "dia                      int64\n",
       "dtype: object"
      ]
     },
     "execution_count": 8,
     "metadata": {},
     "output_type": "execute_result"
    }
   ],
   "source": [
    "df1.dtypes"
   ]
  },
  {
   "cell_type": "markdown",
   "id": "46643a57",
   "metadata": {},
   "source": [
    "## 1.1 Columns"
   ]
  },
  {
   "cell_type": "code",
   "execution_count": 9,
   "id": "2457bec6",
   "metadata": {
    "ExecuteTime": {
     "end_time": "2023-01-30T20:44:19.613036Z",
     "start_time": "2023-01-30T20:44:19.605288Z"
    }
   },
   "outputs": [
    {
     "data": {
      "text/plain": [
       "Index(['host_id', 'host_name', 'host_rating', 'n_reviews',\n",
       "       'n_reviews_from_host', 'n_listings', 'about_host', 'comments',\n",
       "       'aquisition_date', 'ano', 'mes', 'dia'],\n",
       "      dtype='object')"
      ]
     },
     "execution_count": 9,
     "metadata": {},
     "output_type": "execute_result"
    }
   ],
   "source": [
    "df1.columns"
   ]
  },
  {
   "cell_type": "markdown",
   "id": "a81f1ca6",
   "metadata": {},
   "source": [
    "## 1.2 Data Dimension"
   ]
  },
  {
   "cell_type": "code",
   "execution_count": 10,
   "id": "64ffb4a7",
   "metadata": {
    "ExecuteTime": {
     "end_time": "2023-01-30T20:44:19.624154Z",
     "start_time": "2023-01-30T20:44:19.617604Z"
    }
   },
   "outputs": [
    {
     "name": "stdout",
     "output_type": "stream",
     "text": [
      "Numero de colunas do dataframe:  12 \n",
      "\n",
      "Numero de linhas do dataframe: 1357 \n"
     ]
    }
   ],
   "source": [
    "# Dimensão do dataframe e dimensionalidade\n",
    "print('Numero de colunas do dataframe:  {} '.format(df1.shape[1]) )\n",
    "print('\\nNumero de linhas do dataframe: {} '.format(df1.shape[0]) )"
   ]
  },
  {
   "cell_type": "markdown",
   "id": "e1fbb077",
   "metadata": {},
   "source": [
    "## 1.3 Data type"
   ]
  },
  {
   "cell_type": "code",
   "execution_count": 11,
   "id": "a09186b4",
   "metadata": {
    "ExecuteTime": {
     "end_time": "2023-01-30T20:44:19.638003Z",
     "start_time": "2023-01-30T20:44:19.629218Z"
    }
   },
   "outputs": [
    {
     "data": {
      "text/plain": [
       "host_id                  int64\n",
       "host_name               object\n",
       "host_rating            float64\n",
       "n_reviews                int64\n",
       "n_reviews_from_host      int64\n",
       "n_listings               int64\n",
       "about_host              object\n",
       "comments                object\n",
       "aquisition_date         object\n",
       "ano                      int64\n",
       "mes                      int64\n",
       "dia                      int64\n",
       "dtype: object"
      ]
     },
     "execution_count": 11,
     "metadata": {},
     "output_type": "execute_result"
    }
   ],
   "source": [
    "#Verificar os tipos de cada variavel\n",
    "df1.dtypes"
   ]
  },
  {
   "cell_type": "markdown",
   "id": "7ccdafde",
   "metadata": {},
   "source": [
    "## 1.4 Check Na's"
   ]
  },
  {
   "cell_type": "code",
   "execution_count": 12,
   "id": "a35d59d2",
   "metadata": {
    "ExecuteTime": {
     "end_time": "2023-01-30T20:44:19.655350Z",
     "start_time": "2023-01-30T20:44:19.642544Z"
    }
   },
   "outputs": [
    {
     "data": {
      "text/plain": [
       "host_id                   0\n",
       "host_name                 0\n",
       "host_rating               0\n",
       "n_reviews                 0\n",
       "n_reviews_from_host       0\n",
       "n_listings                0\n",
       "about_host             1032\n",
       "comments                296\n",
       "aquisition_date           0\n",
       "ano                       0\n",
       "mes                       0\n",
       "dia                       0\n",
       "dtype: int64"
      ]
     },
     "execution_count": 12,
     "metadata": {},
     "output_type": "execute_result"
    }
   ],
   "source": [
    "df1.isna().sum()"
   ]
  },
  {
   "cell_type": "code",
   "execution_count": 13,
   "id": "6c592d96",
   "metadata": {
    "ExecuteTime": {
     "end_time": "2023-01-30T20:44:19.685785Z",
     "start_time": "2023-01-30T20:44:19.659069Z"
    }
   },
   "outputs": [
    {
     "data": {
      "text/html": [
       "<div>\n",
       "<style scoped>\n",
       "    .dataframe tbody tr th:only-of-type {\n",
       "        vertical-align: middle;\n",
       "    }\n",
       "\n",
       "    .dataframe tbody tr th {\n",
       "        vertical-align: top;\n",
       "    }\n",
       "\n",
       "    .dataframe thead th {\n",
       "        text-align: right;\n",
       "    }\n",
       "</style>\n",
       "<table border=\"1\" class=\"dataframe\">\n",
       "  <thead>\n",
       "    <tr style=\"text-align: right;\">\n",
       "      <th></th>\n",
       "      <th>host_id</th>\n",
       "      <th>host_name</th>\n",
       "      <th>host_rating</th>\n",
       "      <th>n_reviews</th>\n",
       "      <th>n_reviews_from_host</th>\n",
       "      <th>n_listings</th>\n",
       "      <th>about_host</th>\n",
       "      <th>comments</th>\n",
       "      <th>aquisition_date</th>\n",
       "      <th>ano</th>\n",
       "      <th>mes</th>\n",
       "      <th>dia</th>\n",
       "    </tr>\n",
       "  </thead>\n",
       "  <tbody>\n",
       "    <tr>\n",
       "      <th>0</th>\n",
       "      <td>160913639</td>\n",
       "      <td>Cayo</td>\n",
       "      <td>0.00</td>\n",
       "      <td>0</td>\n",
       "      <td>0</td>\n",
       "      <td>1</td>\n",
       "      <td>NaN</td>\n",
       "      <td>NaN</td>\n",
       "      <td>2022-12-05</td>\n",
       "      <td>2022</td>\n",
       "      <td>12</td>\n",
       "      <td>5</td>\n",
       "    </tr>\n",
       "    <tr>\n",
       "      <th>2</th>\n",
       "      <td>96045548</td>\n",
       "      <td>Eduardo</td>\n",
       "      <td>0.00</td>\n",
       "      <td>26</td>\n",
       "      <td>0</td>\n",
       "      <td>3</td>\n",
       "      <td>NaN</td>\n",
       "      <td>[\"Otimo\", \"muito bom local e muito claro nas e...</td>\n",
       "      <td>2022-12-05</td>\n",
       "      <td>2022</td>\n",
       "      <td>12</td>\n",
       "      <td>5</td>\n",
       "    </tr>\n",
       "    <tr>\n",
       "      <th>4</th>\n",
       "      <td>183738964</td>\n",
       "      <td>Fabiane</td>\n",
       "      <td>4.70</td>\n",
       "      <td>10</td>\n",
       "      <td>0</td>\n",
       "      <td>1</td>\n",
       "      <td>NaN</td>\n",
       "      <td>[\"Ótima localização  muito boa hospedagem.\", \"...</td>\n",
       "      <td>2022-12-05</td>\n",
       "      <td>2022</td>\n",
       "      <td>12</td>\n",
       "      <td>5</td>\n",
       "    </tr>\n",
       "    <tr>\n",
       "      <th>6</th>\n",
       "      <td>364423090</td>\n",
       "      <td>Rafael Fernando</td>\n",
       "      <td>5.00</td>\n",
       "      <td>3</td>\n",
       "      <td>0</td>\n",
       "      <td>1</td>\n",
       "      <td>NaN</td>\n",
       "      <td>[\"Não tenha dúvidas na hora de escolheredte ap...</td>\n",
       "      <td>2022-12-05</td>\n",
       "      <td>2022</td>\n",
       "      <td>12</td>\n",
       "      <td>5</td>\n",
       "    </tr>\n",
       "    <tr>\n",
       "      <th>7</th>\n",
       "      <td>381438849</td>\n",
       "      <td>Ana</td>\n",
       "      <td>5.00</td>\n",
       "      <td>5</td>\n",
       "      <td>0</td>\n",
       "      <td>1</td>\n",
       "      <td>NaN</td>\n",
       "      <td>[\"Excelente recpeçao responde super rápido sup...</td>\n",
       "      <td>2022-12-05</td>\n",
       "      <td>2022</td>\n",
       "      <td>12</td>\n",
       "      <td>5</td>\n",
       "    </tr>\n",
       "  </tbody>\n",
       "</table>\n",
       "</div>"
      ],
      "text/plain": [
       "     host_id        host_name  host_rating  n_reviews  n_reviews_from_host  n_listings about_host                                           comments aquisition_date   ano  mes  dia\n",
       "0  160913639             Cayo         0.00          0                    0           1        NaN                                                NaN      2022-12-05  2022   12    5\n",
       "2   96045548          Eduardo         0.00         26                    0           3        NaN  [\"Otimo\", \"muito bom local e muito claro nas e...      2022-12-05  2022   12    5\n",
       "4  183738964          Fabiane         4.70         10                    0           1        NaN  [\"Ótima localização  muito boa hospedagem.\", \"...      2022-12-05  2022   12    5\n",
       "6  364423090  Rafael Fernando         5.00          3                    0           1        NaN  [\"Não tenha dúvidas na hora de escolheredte ap...      2022-12-05  2022   12    5\n",
       "7  381438849              Ana         5.00          5                    0           1        NaN  [\"Excelente recpeçao responde super rápido sup...      2022-12-05  2022   12    5"
      ]
     },
     "execution_count": 13,
     "metadata": {},
     "output_type": "execute_result"
    }
   ],
   "source": [
    "# about_host - na's\n",
    "df1.loc[df1['about_host'].isna()].head()"
   ]
  },
  {
   "cell_type": "code",
   "execution_count": 14,
   "id": "8018c953",
   "metadata": {
    "ExecuteTime": {
     "end_time": "2023-01-30T20:44:19.724070Z",
     "start_time": "2023-01-30T20:44:19.696708Z"
    }
   },
   "outputs": [
    {
     "data": {
      "text/html": [
       "<div>\n",
       "<style scoped>\n",
       "    .dataframe tbody tr th:only-of-type {\n",
       "        vertical-align: middle;\n",
       "    }\n",
       "\n",
       "    .dataframe tbody tr th {\n",
       "        vertical-align: top;\n",
       "    }\n",
       "\n",
       "    .dataframe thead th {\n",
       "        text-align: right;\n",
       "    }\n",
       "</style>\n",
       "<table border=\"1\" class=\"dataframe\">\n",
       "  <thead>\n",
       "    <tr style=\"text-align: right;\">\n",
       "      <th></th>\n",
       "      <th>host_id</th>\n",
       "      <th>host_name</th>\n",
       "      <th>host_rating</th>\n",
       "      <th>n_reviews</th>\n",
       "      <th>n_reviews_from_host</th>\n",
       "      <th>n_listings</th>\n",
       "      <th>about_host</th>\n",
       "      <th>comments</th>\n",
       "      <th>aquisition_date</th>\n",
       "      <th>ano</th>\n",
       "      <th>mes</th>\n",
       "      <th>dia</th>\n",
       "    </tr>\n",
       "  </thead>\n",
       "  <tbody>\n",
       "    <tr>\n",
       "      <th>1</th>\n",
       "      <td>84162292</td>\n",
       "      <td>Ricardo</td>\n",
       "      <td>4.93</td>\n",
       "      <td>42</td>\n",
       "      <td>1</td>\n",
       "      <td>3</td>\n",
       "      <td>Sou casado, tenho uma filha de 9 anos e um fil...</td>\n",
       "      <td>[\"Obrigado Ricardo a estadia  foi ótima muito ...</td>\n",
       "      <td>2022-12-05</td>\n",
       "      <td>2022</td>\n",
       "      <td>12</td>\n",
       "      <td>5</td>\n",
       "    </tr>\n",
       "    <tr>\n",
       "      <th>3</th>\n",
       "      <td>419526733</td>\n",
       "      <td>Korban</td>\n",
       "      <td>0.00</td>\n",
       "      <td>13</td>\n",
       "      <td>0</td>\n",
       "      <td>3</td>\n",
       "      <td>Korban Empreendimentos, empresa com 3 filiais,...</td>\n",
       "      <td>[\"ótimo acesso a praia   lugar bem tranquilo.\"...</td>\n",
       "      <td>2022-12-05</td>\n",
       "      <td>2022</td>\n",
       "      <td>12</td>\n",
       "      <td>5</td>\n",
       "    </tr>\n",
       "    <tr>\n",
       "      <th>5</th>\n",
       "      <td>78577847</td>\n",
       "      <td>Hugo</td>\n",
       "      <td>5.00</td>\n",
       "      <td>113</td>\n",
       "      <td>11</td>\n",
       "      <td>1</td>\n",
       "      <td>Profissional capacitado e com sólida experiênc...</td>\n",
       "      <td>[\"Excelente apartamento  o acesso à praia é rá...</td>\n",
       "      <td>2022-12-05</td>\n",
       "      <td>2022</td>\n",
       "      <td>12</td>\n",
       "      <td>5</td>\n",
       "    </tr>\n",
       "    <tr>\n",
       "      <th>12</th>\n",
       "      <td>167170659</td>\n",
       "      <td>Jorge</td>\n",
       "      <td>0.00</td>\n",
       "      <td>0</td>\n",
       "      <td>5</td>\n",
       "      <td>1</td>\n",
       "      <td>Engenheiro de Segurança do Trabalho, atualment...</td>\n",
       "      <td>NaN</td>\n",
       "      <td>2022-12-05</td>\n",
       "      <td>2022</td>\n",
       "      <td>12</td>\n",
       "      <td>5</td>\n",
       "    </tr>\n",
       "    <tr>\n",
       "      <th>15</th>\n",
       "      <td>116817328</td>\n",
       "      <td>Luka</td>\n",
       "      <td>5.00</td>\n",
       "      <td>5</td>\n",
       "      <td>0</td>\n",
       "      <td>2</td>\n",
       "      <td>Sou Corretora de Imóveis, moro em Florianópoli...</td>\n",
       "      <td>[\"Luka é uma excelente anfitriã  muita prestat...</td>\n",
       "      <td>2022-12-05</td>\n",
       "      <td>2022</td>\n",
       "      <td>12</td>\n",
       "      <td>5</td>\n",
       "    </tr>\n",
       "  </tbody>\n",
       "</table>\n",
       "</div>"
      ],
      "text/plain": [
       "      host_id host_name  host_rating  n_reviews  n_reviews_from_host  n_listings                                         about_host                                           comments aquisition_date   ano  mes  dia\n",
       "1    84162292   Ricardo         4.93         42                    1           3  Sou casado, tenho uma filha de 9 anos e um fil...  [\"Obrigado Ricardo a estadia  foi ótima muito ...      2022-12-05  2022   12    5\n",
       "3   419526733    Korban         0.00         13                    0           3  Korban Empreendimentos, empresa com 3 filiais,...  [\"ótimo acesso a praia   lugar bem tranquilo.\"...      2022-12-05  2022   12    5\n",
       "5    78577847      Hugo         5.00        113                   11           1  Profissional capacitado e com sólida experiênc...  [\"Excelente apartamento  o acesso à praia é rá...      2022-12-05  2022   12    5\n",
       "12  167170659     Jorge         0.00          0                    5           1  Engenheiro de Segurança do Trabalho, atualment...                                                NaN      2022-12-05  2022   12    5\n",
       "15  116817328      Luka         5.00          5                    0           2  Sou Corretora de Imóveis, moro em Florianópoli...  [\"Luka é uma excelente anfitriã  muita prestat...      2022-12-05  2022   12    5"
      ]
     },
     "execution_count": 14,
     "metadata": {},
     "output_type": "execute_result"
    }
   ],
   "source": [
    "# about_host - no na's\n",
    "df1.loc[~df1['about_host'].isna()].head()"
   ]
  },
  {
   "cell_type": "code",
   "execution_count": 15,
   "id": "5df7c474",
   "metadata": {
    "ExecuteTime": {
     "end_time": "2023-01-30T20:44:19.749570Z",
     "start_time": "2023-01-30T20:44:19.728023Z"
    }
   },
   "outputs": [
    {
     "data": {
      "text/html": [
       "<div>\n",
       "<style scoped>\n",
       "    .dataframe tbody tr th:only-of-type {\n",
       "        vertical-align: middle;\n",
       "    }\n",
       "\n",
       "    .dataframe tbody tr th {\n",
       "        vertical-align: top;\n",
       "    }\n",
       "\n",
       "    .dataframe thead th {\n",
       "        text-align: right;\n",
       "    }\n",
       "</style>\n",
       "<table border=\"1\" class=\"dataframe\">\n",
       "  <thead>\n",
       "    <tr style=\"text-align: right;\">\n",
       "      <th></th>\n",
       "      <th>host_id</th>\n",
       "      <th>host_name</th>\n",
       "      <th>host_rating</th>\n",
       "      <th>n_reviews</th>\n",
       "      <th>n_reviews_from_host</th>\n",
       "      <th>n_listings</th>\n",
       "      <th>about_host</th>\n",
       "      <th>comments</th>\n",
       "      <th>aquisition_date</th>\n",
       "      <th>ano</th>\n",
       "      <th>mes</th>\n",
       "      <th>dia</th>\n",
       "    </tr>\n",
       "  </thead>\n",
       "  <tbody>\n",
       "    <tr>\n",
       "      <th>0</th>\n",
       "      <td>160913639</td>\n",
       "      <td>Cayo</td>\n",
       "      <td>0.00</td>\n",
       "      <td>0</td>\n",
       "      <td>0</td>\n",
       "      <td>1</td>\n",
       "      <td>NaN</td>\n",
       "      <td>NaN</td>\n",
       "      <td>2022-12-05</td>\n",
       "      <td>2022</td>\n",
       "      <td>12</td>\n",
       "      <td>5</td>\n",
       "    </tr>\n",
       "    <tr>\n",
       "      <th>9</th>\n",
       "      <td>237768745</td>\n",
       "      <td>Emerson</td>\n",
       "      <td>0.00</td>\n",
       "      <td>0</td>\n",
       "      <td>0</td>\n",
       "      <td>1</td>\n",
       "      <td>NaN</td>\n",
       "      <td>NaN</td>\n",
       "      <td>2022-12-05</td>\n",
       "      <td>2022</td>\n",
       "      <td>12</td>\n",
       "      <td>5</td>\n",
       "    </tr>\n",
       "    <tr>\n",
       "      <th>10</th>\n",
       "      <td>479430333</td>\n",
       "      <td>Neliane</td>\n",
       "      <td>0.00</td>\n",
       "      <td>0</td>\n",
       "      <td>0</td>\n",
       "      <td>1</td>\n",
       "      <td>NaN</td>\n",
       "      <td>NaN</td>\n",
       "      <td>2022-12-05</td>\n",
       "      <td>2022</td>\n",
       "      <td>12</td>\n",
       "      <td>5</td>\n",
       "    </tr>\n",
       "    <tr>\n",
       "      <th>11</th>\n",
       "      <td>336892825</td>\n",
       "      <td>Gabriel</td>\n",
       "      <td>0.00</td>\n",
       "      <td>0</td>\n",
       "      <td>7</td>\n",
       "      <td>1</td>\n",
       "      <td>NaN</td>\n",
       "      <td>NaN</td>\n",
       "      <td>2022-12-05</td>\n",
       "      <td>2022</td>\n",
       "      <td>12</td>\n",
       "      <td>5</td>\n",
       "    </tr>\n",
       "    <tr>\n",
       "      <th>12</th>\n",
       "      <td>167170659</td>\n",
       "      <td>Jorge</td>\n",
       "      <td>0.00</td>\n",
       "      <td>0</td>\n",
       "      <td>5</td>\n",
       "      <td>1</td>\n",
       "      <td>Engenheiro de Segurança do Trabalho, atualment...</td>\n",
       "      <td>NaN</td>\n",
       "      <td>2022-12-05</td>\n",
       "      <td>2022</td>\n",
       "      <td>12</td>\n",
       "      <td>5</td>\n",
       "    </tr>\n",
       "  </tbody>\n",
       "</table>\n",
       "</div>"
      ],
      "text/plain": [
       "      host_id host_name  host_rating  n_reviews  n_reviews_from_host  n_listings                                         about_host comments aquisition_date   ano  mes  dia\n",
       "0   160913639      Cayo         0.00          0                    0           1                                                NaN      NaN      2022-12-05  2022   12    5\n",
       "9   237768745   Emerson         0.00          0                    0           1                                                NaN      NaN      2022-12-05  2022   12    5\n",
       "10  479430333   Neliane         0.00          0                    0           1                                                NaN      NaN      2022-12-05  2022   12    5\n",
       "11  336892825   Gabriel         0.00          0                    7           1                                                NaN      NaN      2022-12-05  2022   12    5\n",
       "12  167170659     Jorge         0.00          0                    5           1  Engenheiro de Segurança do Trabalho, atualment...      NaN      2022-12-05  2022   12    5"
      ]
     },
     "execution_count": 15,
     "metadata": {},
     "output_type": "execute_result"
    }
   ],
   "source": [
    "# comments - na's\n",
    "df1.loc[df1['comments'].isna()].head()"
   ]
  },
  {
   "cell_type": "code",
   "execution_count": 16,
   "id": "5b68a8a2",
   "metadata": {
    "ExecuteTime": {
     "end_time": "2023-01-30T20:44:19.780945Z",
     "start_time": "2023-01-30T20:44:19.753723Z"
    }
   },
   "outputs": [
    {
     "data": {
      "text/html": [
       "<div>\n",
       "<style scoped>\n",
       "    .dataframe tbody tr th:only-of-type {\n",
       "        vertical-align: middle;\n",
       "    }\n",
       "\n",
       "    .dataframe tbody tr th {\n",
       "        vertical-align: top;\n",
       "    }\n",
       "\n",
       "    .dataframe thead th {\n",
       "        text-align: right;\n",
       "    }\n",
       "</style>\n",
       "<table border=\"1\" class=\"dataframe\">\n",
       "  <thead>\n",
       "    <tr style=\"text-align: right;\">\n",
       "      <th></th>\n",
       "      <th>host_id</th>\n",
       "      <th>host_name</th>\n",
       "      <th>host_rating</th>\n",
       "      <th>n_reviews</th>\n",
       "      <th>n_reviews_from_host</th>\n",
       "      <th>n_listings</th>\n",
       "      <th>about_host</th>\n",
       "      <th>comments</th>\n",
       "      <th>aquisition_date</th>\n",
       "      <th>ano</th>\n",
       "      <th>mes</th>\n",
       "      <th>dia</th>\n",
       "    </tr>\n",
       "  </thead>\n",
       "  <tbody>\n",
       "    <tr>\n",
       "      <th>1</th>\n",
       "      <td>84162292</td>\n",
       "      <td>Ricardo</td>\n",
       "      <td>4.93</td>\n",
       "      <td>42</td>\n",
       "      <td>1</td>\n",
       "      <td>3</td>\n",
       "      <td>Sou casado, tenho uma filha de 9 anos e um fil...</td>\n",
       "      <td>[\"Obrigado Ricardo a estadia  foi ótima muito ...</td>\n",
       "      <td>2022-12-05</td>\n",
       "      <td>2022</td>\n",
       "      <td>12</td>\n",
       "      <td>5</td>\n",
       "    </tr>\n",
       "    <tr>\n",
       "      <th>2</th>\n",
       "      <td>96045548</td>\n",
       "      <td>Eduardo</td>\n",
       "      <td>0.00</td>\n",
       "      <td>26</td>\n",
       "      <td>0</td>\n",
       "      <td>3</td>\n",
       "      <td>NaN</td>\n",
       "      <td>[\"Otimo\", \"muito bom local e muito claro nas e...</td>\n",
       "      <td>2022-12-05</td>\n",
       "      <td>2022</td>\n",
       "      <td>12</td>\n",
       "      <td>5</td>\n",
       "    </tr>\n",
       "    <tr>\n",
       "      <th>3</th>\n",
       "      <td>419526733</td>\n",
       "      <td>Korban</td>\n",
       "      <td>0.00</td>\n",
       "      <td>13</td>\n",
       "      <td>0</td>\n",
       "      <td>3</td>\n",
       "      <td>Korban Empreendimentos, empresa com 3 filiais,...</td>\n",
       "      <td>[\"ótimo acesso a praia   lugar bem tranquilo.\"...</td>\n",
       "      <td>2022-12-05</td>\n",
       "      <td>2022</td>\n",
       "      <td>12</td>\n",
       "      <td>5</td>\n",
       "    </tr>\n",
       "    <tr>\n",
       "      <th>4</th>\n",
       "      <td>183738964</td>\n",
       "      <td>Fabiane</td>\n",
       "      <td>4.70</td>\n",
       "      <td>10</td>\n",
       "      <td>0</td>\n",
       "      <td>1</td>\n",
       "      <td>NaN</td>\n",
       "      <td>[\"Ótima localização  muito boa hospedagem.\", \"...</td>\n",
       "      <td>2022-12-05</td>\n",
       "      <td>2022</td>\n",
       "      <td>12</td>\n",
       "      <td>5</td>\n",
       "    </tr>\n",
       "    <tr>\n",
       "      <th>5</th>\n",
       "      <td>78577847</td>\n",
       "      <td>Hugo</td>\n",
       "      <td>5.00</td>\n",
       "      <td>113</td>\n",
       "      <td>11</td>\n",
       "      <td>1</td>\n",
       "      <td>Profissional capacitado e com sólida experiênc...</td>\n",
       "      <td>[\"Excelente apartamento  o acesso à praia é rá...</td>\n",
       "      <td>2022-12-05</td>\n",
       "      <td>2022</td>\n",
       "      <td>12</td>\n",
       "      <td>5</td>\n",
       "    </tr>\n",
       "  </tbody>\n",
       "</table>\n",
       "</div>"
      ],
      "text/plain": [
       "     host_id host_name  host_rating  n_reviews  n_reviews_from_host  n_listings                                         about_host                                           comments aquisition_date   ano  mes  dia\n",
       "1   84162292   Ricardo         4.93         42                    1           3  Sou casado, tenho uma filha de 9 anos e um fil...  [\"Obrigado Ricardo a estadia  foi ótima muito ...      2022-12-05  2022   12    5\n",
       "2   96045548   Eduardo         0.00         26                    0           3                                                NaN  [\"Otimo\", \"muito bom local e muito claro nas e...      2022-12-05  2022   12    5\n",
       "3  419526733    Korban         0.00         13                    0           3  Korban Empreendimentos, empresa com 3 filiais,...  [\"ótimo acesso a praia   lugar bem tranquilo.\"...      2022-12-05  2022   12    5\n",
       "4  183738964   Fabiane         4.70         10                    0           1                                                NaN  [\"Ótima localização  muito boa hospedagem.\", \"...      2022-12-05  2022   12    5\n",
       "5   78577847      Hugo         5.00        113                   11           1  Profissional capacitado e com sólida experiênc...  [\"Excelente apartamento  o acesso à praia é rá...      2022-12-05  2022   12    5"
      ]
     },
     "execution_count": 16,
     "metadata": {},
     "output_type": "execute_result"
    }
   ],
   "source": [
    "# comments - No na's\n",
    "df1.loc[~df1['comments'].isna()].head()"
   ]
  },
  {
   "cell_type": "markdown",
   "id": "de7926cb",
   "metadata": {},
   "source": [
    "## 1.5 Fill Na's"
   ]
  },
  {
   "cell_type": "code",
   "execution_count": 17,
   "id": "6dcff3b1",
   "metadata": {
    "ExecuteTime": {
     "end_time": "2023-01-30T20:44:19.790530Z",
     "start_time": "2023-01-30T20:44:19.784700Z"
    }
   },
   "outputs": [],
   "source": [
    "df1['comments'] = df1['comments'].fillna('no_description')"
   ]
  },
  {
   "cell_type": "code",
   "execution_count": 18,
   "id": "c01a3cbb",
   "metadata": {
    "ExecuteTime": {
     "end_time": "2023-01-30T20:44:19.800420Z",
     "start_time": "2023-01-30T20:44:19.794808Z"
    }
   },
   "outputs": [],
   "source": [
    "df1['about_host'] = df1['about_host'].fillna('no_description')"
   ]
  },
  {
   "cell_type": "code",
   "execution_count": 19,
   "id": "f7c06312",
   "metadata": {
    "ExecuteTime": {
     "end_time": "2023-01-30T20:44:19.821655Z",
     "start_time": "2023-01-30T20:44:19.804657Z"
    }
   },
   "outputs": [
    {
     "data": {
      "text/plain": [
       "host_id                0\n",
       "host_name              0\n",
       "host_rating            0\n",
       "n_reviews              0\n",
       "n_reviews_from_host    0\n",
       "n_listings             0\n",
       "about_host             0\n",
       "comments               0\n",
       "aquisition_date        0\n",
       "ano                    0\n",
       "mes                    0\n",
       "dia                    0\n",
       "dtype: int64"
      ]
     },
     "execution_count": 19,
     "metadata": {},
     "output_type": "execute_result"
    }
   ],
   "source": [
    "df1.isna().sum()"
   ]
  },
  {
   "cell_type": "markdown",
   "id": "94ba0940",
   "metadata": {},
   "source": [
    "## 1.6 Change Type"
   ]
  },
  {
   "cell_type": "code",
   "execution_count": 20,
   "id": "9e1a8f37",
   "metadata": {
    "ExecuteTime": {
     "end_time": "2023-01-30T20:44:19.835165Z",
     "start_time": "2023-01-30T20:44:19.826079Z"
    }
   },
   "outputs": [],
   "source": [
    "df1['aquisition_date'] = pd.to_datetime(df1['aquisition_date'])"
   ]
  },
  {
   "cell_type": "code",
   "execution_count": 21,
   "id": "bfbb2346",
   "metadata": {
    "ExecuteTime": {
     "end_time": "2023-01-30T20:44:19.847510Z",
     "start_time": "2023-01-30T20:44:19.838672Z"
    }
   },
   "outputs": [
    {
     "data": {
      "text/plain": [
       "host_id                         int64\n",
       "host_name                      object\n",
       "host_rating                   float64\n",
       "n_reviews                       int64\n",
       "n_reviews_from_host             int64\n",
       "n_listings                      int64\n",
       "about_host                     object\n",
       "comments                       object\n",
       "aquisition_date        datetime64[ns]\n",
       "ano                             int64\n",
       "mes                             int64\n",
       "dia                             int64\n",
       "dtype: object"
      ]
     },
     "execution_count": 21,
     "metadata": {},
     "output_type": "execute_result"
    }
   ],
   "source": [
    "df1.dtypes"
   ]
  },
  {
   "cell_type": "markdown",
   "id": "3ff418ee",
   "metadata": {},
   "source": [
    "## 1.7 Statistical Descriptive"
   ]
  },
  {
   "cell_type": "code",
   "execution_count": 22,
   "id": "2f63083e",
   "metadata": {
    "ExecuteTime": {
     "end_time": "2023-01-30T20:44:19.875073Z",
     "start_time": "2023-01-30T20:44:19.855144Z"
    }
   },
   "outputs": [
    {
     "data": {
      "text/html": [
       "<div>\n",
       "<style scoped>\n",
       "    .dataframe tbody tr th:only-of-type {\n",
       "        vertical-align: middle;\n",
       "    }\n",
       "\n",
       "    .dataframe tbody tr th {\n",
       "        vertical-align: top;\n",
       "    }\n",
       "\n",
       "    .dataframe thead th {\n",
       "        text-align: right;\n",
       "    }\n",
       "</style>\n",
       "<table border=\"1\" class=\"dataframe\">\n",
       "  <thead>\n",
       "    <tr style=\"text-align: right;\">\n",
       "      <th></th>\n",
       "      <th>host_rating</th>\n",
       "      <th>n_reviews</th>\n",
       "      <th>n_reviews_from_host</th>\n",
       "      <th>n_listings</th>\n",
       "    </tr>\n",
       "  </thead>\n",
       "  <tbody>\n",
       "    <tr>\n",
       "      <th>0</th>\n",
       "      <td>0.00</td>\n",
       "      <td>0</td>\n",
       "      <td>0</td>\n",
       "      <td>1</td>\n",
       "    </tr>\n",
       "    <tr>\n",
       "      <th>1</th>\n",
       "      <td>4.93</td>\n",
       "      <td>42</td>\n",
       "      <td>1</td>\n",
       "      <td>3</td>\n",
       "    </tr>\n",
       "    <tr>\n",
       "      <th>2</th>\n",
       "      <td>0.00</td>\n",
       "      <td>26</td>\n",
       "      <td>0</td>\n",
       "      <td>3</td>\n",
       "    </tr>\n",
       "    <tr>\n",
       "      <th>3</th>\n",
       "      <td>0.00</td>\n",
       "      <td>13</td>\n",
       "      <td>0</td>\n",
       "      <td>3</td>\n",
       "    </tr>\n",
       "    <tr>\n",
       "      <th>4</th>\n",
       "      <td>4.70</td>\n",
       "      <td>10</td>\n",
       "      <td>0</td>\n",
       "      <td>1</td>\n",
       "    </tr>\n",
       "  </tbody>\n",
       "</table>\n",
       "</div>"
      ],
      "text/plain": [
       "   host_rating  n_reviews  n_reviews_from_host  n_listings\n",
       "0         0.00          0                    0           1\n",
       "1         4.93         42                    1           3\n",
       "2         0.00         26                    0           3\n",
       "3         0.00         13                    0           3\n",
       "4         4.70         10                    0           1"
      ]
     },
     "execution_count": 22,
     "metadata": {},
     "output_type": "execute_result"
    }
   ],
   "source": [
    "# separar todas as variaveis numericas, exceto 'date'\n",
    "cols_drop = ['host_id','host_name', 'about_host', 'comments','aquisition_date', 'ano', 'mes', 'dia']\n",
    "num_attributes = df1.drop(cols_drop, axis = 1 )\n",
    "\n",
    "# variaveis numericas\n",
    "num_attributes.head()"
   ]
  },
  {
   "cell_type": "code",
   "execution_count": 23,
   "id": "5c23161f",
   "metadata": {
    "ExecuteTime": {
     "end_time": "2023-01-30T20:44:19.934685Z",
     "start_time": "2023-01-30T20:44:19.896775Z"
    }
   },
   "outputs": [
    {
     "data": {
      "text/html": [
       "<div>\n",
       "<style scoped>\n",
       "    .dataframe tbody tr th:only-of-type {\n",
       "        vertical-align: middle;\n",
       "    }\n",
       "\n",
       "    .dataframe tbody tr th {\n",
       "        vertical-align: top;\n",
       "    }\n",
       "\n",
       "    .dataframe thead th {\n",
       "        text-align: right;\n",
       "    }\n",
       "</style>\n",
       "<table border=\"1\" class=\"dataframe\">\n",
       "  <thead>\n",
       "    <tr style=\"text-align: right;\">\n",
       "      <th></th>\n",
       "      <th>host_name</th>\n",
       "      <th>about_host</th>\n",
       "      <th>comments</th>\n",
       "    </tr>\n",
       "  </thead>\n",
       "  <tbody>\n",
       "    <tr>\n",
       "      <th>0</th>\n",
       "      <td>Cayo</td>\n",
       "      <td>no_description</td>\n",
       "      <td>no_description</td>\n",
       "    </tr>\n",
       "    <tr>\n",
       "      <th>1</th>\n",
       "      <td>Ricardo</td>\n",
       "      <td>Sou casado, tenho uma filha de 9 anos e um fil...</td>\n",
       "      <td>[\"Obrigado Ricardo a estadia  foi ótima muito ...</td>\n",
       "    </tr>\n",
       "    <tr>\n",
       "      <th>2</th>\n",
       "      <td>Eduardo</td>\n",
       "      <td>no_description</td>\n",
       "      <td>[\"Otimo\", \"muito bom local e muito claro nas e...</td>\n",
       "    </tr>\n",
       "    <tr>\n",
       "      <th>3</th>\n",
       "      <td>Korban</td>\n",
       "      <td>Korban Empreendimentos, empresa com 3 filiais,...</td>\n",
       "      <td>[\"ótimo acesso a praia   lugar bem tranquilo.\"...</td>\n",
       "    </tr>\n",
       "    <tr>\n",
       "      <th>4</th>\n",
       "      <td>Fabiane</td>\n",
       "      <td>no_description</td>\n",
       "      <td>[\"Ótima localização  muito boa hospedagem.\", \"...</td>\n",
       "    </tr>\n",
       "  </tbody>\n",
       "</table>\n",
       "</div>"
      ],
      "text/plain": [
       "  host_name                                         about_host                                           comments\n",
       "0      Cayo                                     no_description                                     no_description\n",
       "1   Ricardo  Sou casado, tenho uma filha de 9 anos e um fil...  [\"Obrigado Ricardo a estadia  foi ótima muito ...\n",
       "2   Eduardo                                     no_description  [\"Otimo\", \"muito bom local e muito claro nas e...\n",
       "3    Korban  Korban Empreendimentos, empresa com 3 filiais,...  [\"ótimo acesso a praia   lugar bem tranquilo.\"...\n",
       "4   Fabiane                                     no_description  [\"Ótima localização  muito boa hospedagem.\", \"..."
      ]
     },
     "execution_count": 23,
     "metadata": {},
     "output_type": "execute_result"
    }
   ],
   "source": [
    "# separar todas as variaveis categoricas, exceto 'date'\n",
    "cols_drop = ['host_rating', 'n_reviews', 'n_reviews_from_host', 'n_listings','aquisition_date', 'ano', 'mes', 'dia']\n",
    "cat_attributes = df1[['host_name', 'about_host', 'comments']]\n",
    "\n",
    "cat_attributes.head()"
   ]
  },
  {
   "cell_type": "markdown",
   "id": "14e643bc",
   "metadata": {},
   "source": [
    "### 1.7.1 Numerical Attributes"
   ]
  },
  {
   "cell_type": "markdown",
   "id": "e4c9e3f0",
   "metadata": {},
   "source": [
    "#### Central Tendency"
   ]
  },
  {
   "cell_type": "code",
   "execution_count": 24,
   "id": "ef09d1dc",
   "metadata": {
    "ExecuteTime": {
     "end_time": "2023-01-30T20:44:19.962930Z",
     "start_time": "2023-01-30T20:44:19.943073Z"
    }
   },
   "outputs": [],
   "source": [
    "# media\n",
    "ct1 = pd.DataFrame( num_attributes.apply(np.mean ) ).T\n",
    "\n",
    "# mediana\n",
    "ct2 = pd.DataFrame( num_attributes.apply(np.median ) ).T"
   ]
  },
  {
   "cell_type": "markdown",
   "id": "c6a03a50",
   "metadata": {},
   "source": [
    "#### Dispersion"
   ]
  },
  {
   "cell_type": "code",
   "execution_count": 25,
   "id": "176efcbf",
   "metadata": {
    "ExecuteTime": {
     "end_time": "2023-01-30T20:44:19.996365Z",
     "start_time": "2023-01-30T20:44:19.967786Z"
    }
   },
   "outputs": [],
   "source": [
    "# min\n",
    "d1 = pd.DataFrame( num_attributes.apply( np.min ) ).T\n",
    "\n",
    "#max\n",
    "d2 = pd.DataFrame( num_attributes.apply( np.max ) ).T\n",
    "\n",
    "#range\n",
    "d3 = pd.DataFrame( num_attributes.apply( lambda x: x.max() - x.min() ) ).T\n",
    "\n",
    "# desvio padrao\n",
    "d4 = pd.DataFrame( num_attributes.apply( np.std ) ).T\n",
    "\n",
    "# assimetria - skew\n",
    "d5 = pd.DataFrame( num_attributes.apply( lambda x: x.skew() ) ).T\n",
    "\n",
    "# Curtosi - Kurtosis\n",
    "d6 = pd.DataFrame( num_attributes.apply( lambda x: x.kurtosis() ) ).T"
   ]
  },
  {
   "cell_type": "markdown",
   "id": "00e4312e",
   "metadata": {},
   "source": [
    "#### Table"
   ]
  },
  {
   "cell_type": "code",
   "execution_count": 26,
   "id": "dcdd49bf",
   "metadata": {
    "ExecuteTime": {
     "end_time": "2023-01-30T20:44:20.036765Z",
     "start_time": "2023-01-30T20:44:20.000372Z"
    }
   },
   "outputs": [
    {
     "data": {
      "text/html": [
       "<div>\n",
       "<style scoped>\n",
       "    .dataframe tbody tr th:only-of-type {\n",
       "        vertical-align: middle;\n",
       "    }\n",
       "\n",
       "    .dataframe tbody tr th {\n",
       "        vertical-align: top;\n",
       "    }\n",
       "\n",
       "    .dataframe thead th {\n",
       "        text-align: right;\n",
       "    }\n",
       "</style>\n",
       "<table border=\"1\" class=\"dataframe\">\n",
       "  <thead>\n",
       "    <tr style=\"text-align: right;\">\n",
       "      <th></th>\n",
       "      <th>attributes</th>\n",
       "      <th>min</th>\n",
       "      <th>max</th>\n",
       "      <th>range</th>\n",
       "      <th>mean</th>\n",
       "      <th>median</th>\n",
       "      <th>std</th>\n",
       "      <th>skew</th>\n",
       "      <th>kurtosis</th>\n",
       "    </tr>\n",
       "  </thead>\n",
       "  <tbody>\n",
       "    <tr>\n",
       "      <th>0</th>\n",
       "      <td>host_rating</td>\n",
       "      <td>0.00</td>\n",
       "      <td>5.00</td>\n",
       "      <td>5.00</td>\n",
       "      <td>2.45</td>\n",
       "      <td>2.50</td>\n",
       "      <td>2.30</td>\n",
       "      <td>-0.02</td>\n",
       "      <td>-1.88</td>\n",
       "    </tr>\n",
       "    <tr>\n",
       "      <th>1</th>\n",
       "      <td>n_reviews</td>\n",
       "      <td>0.00</td>\n",
       "      <td>8362.00</td>\n",
       "      <td>8362.00</td>\n",
       "      <td>34.21</td>\n",
       "      <td>5.00</td>\n",
       "      <td>261.78</td>\n",
       "      <td>25.86</td>\n",
       "      <td>778.05</td>\n",
       "    </tr>\n",
       "    <tr>\n",
       "      <th>2</th>\n",
       "      <td>n_reviews_from_host</td>\n",
       "      <td>0.00</td>\n",
       "      <td>51.00</td>\n",
       "      <td>51.00</td>\n",
       "      <td>1.31</td>\n",
       "      <td>0.00</td>\n",
       "      <td>3.06</td>\n",
       "      <td>6.13</td>\n",
       "      <td>65.84</td>\n",
       "    </tr>\n",
       "    <tr>\n",
       "      <th>3</th>\n",
       "      <td>n_listings</td>\n",
       "      <td>0.00</td>\n",
       "      <td>638.00</td>\n",
       "      <td>638.00</td>\n",
       "      <td>3.42</td>\n",
       "      <td>1.00</td>\n",
       "      <td>24.20</td>\n",
       "      <td>20.36</td>\n",
       "      <td>459.35</td>\n",
       "    </tr>\n",
       "  </tbody>\n",
       "</table>\n",
       "</div>"
      ],
      "text/plain": [
       "            attributes  min     max   range  mean  median    std  skew  kurtosis\n",
       "0          host_rating 0.00    5.00    5.00  2.45    2.50   2.30 -0.02     -1.88\n",
       "1            n_reviews 0.00 8362.00 8362.00 34.21    5.00 261.78 25.86    778.05\n",
       "2  n_reviews_from_host 0.00   51.00   51.00  1.31    0.00   3.06  6.13     65.84\n",
       "3           n_listings 0.00  638.00  638.00  3.42    1.00  24.20 20.36    459.35"
      ]
     },
     "execution_count": 26,
     "metadata": {},
     "output_type": "execute_result"
    }
   ],
   "source": [
    "table = pd.concat( [d1, d2, d3, ct1, ct2, d4, d5, d6] ).T.reset_index()\n",
    "table.columns = ['attributes', 'min','max','range','mean', 'median','std','skew','kurtosis']\n",
    "table"
   ]
  },
  {
   "cell_type": "markdown",
   "id": "6ff5a7de",
   "metadata": {},
   "source": [
    "### 1.7.2 Categorical Attributes"
   ]
  },
  {
   "cell_type": "code",
   "execution_count": 27,
   "id": "31c9caa7",
   "metadata": {
    "ExecuteTime": {
     "end_time": "2023-01-30T20:44:20.087082Z",
     "start_time": "2023-01-30T20:44:20.042696Z"
    }
   },
   "outputs": [
    {
     "data": {
      "text/plain": [
       "host_name      898\n",
       "about_host     325\n",
       "comments      1060\n",
       "dtype: int64"
      ]
     },
     "execution_count": 27,
     "metadata": {},
     "output_type": "execute_result"
    }
   ],
   "source": [
    "# quantidade de categorias de cada variavel categorica\n",
    "cat_attributes.apply( lambda x: x.unique().shape[0] )"
   ]
  },
  {
   "cell_type": "markdown",
   "id": "9613ed1b",
   "metadata": {},
   "source": [
    "# 2.0 Feature Engineering"
   ]
  },
  {
   "cell_type": "code",
   "execution_count": 28,
   "id": "4d0d2a73",
   "metadata": {
    "ExecuteTime": {
     "end_time": "2023-01-30T20:44:20.112322Z",
     "start_time": "2023-01-30T20:44:20.090464Z"
    }
   },
   "outputs": [
    {
     "data": {
      "text/html": [
       "<div>\n",
       "<style scoped>\n",
       "    .dataframe tbody tr th:only-of-type {\n",
       "        vertical-align: middle;\n",
       "    }\n",
       "\n",
       "    .dataframe tbody tr th {\n",
       "        vertical-align: top;\n",
       "    }\n",
       "\n",
       "    .dataframe thead th {\n",
       "        text-align: right;\n",
       "    }\n",
       "</style>\n",
       "<table border=\"1\" class=\"dataframe\">\n",
       "  <thead>\n",
       "    <tr style=\"text-align: right;\">\n",
       "      <th></th>\n",
       "      <th>host_id</th>\n",
       "      <th>host_name</th>\n",
       "      <th>host_rating</th>\n",
       "      <th>n_reviews</th>\n",
       "      <th>n_reviews_from_host</th>\n",
       "      <th>n_listings</th>\n",
       "      <th>about_host</th>\n",
       "      <th>comments</th>\n",
       "      <th>aquisition_date</th>\n",
       "      <th>ano</th>\n",
       "      <th>mes</th>\n",
       "      <th>dia</th>\n",
       "    </tr>\n",
       "  </thead>\n",
       "  <tbody>\n",
       "    <tr>\n",
       "      <th>0</th>\n",
       "      <td>160913639</td>\n",
       "      <td>Cayo</td>\n",
       "      <td>0.00</td>\n",
       "      <td>0</td>\n",
       "      <td>0</td>\n",
       "      <td>1</td>\n",
       "      <td>no_description</td>\n",
       "      <td>no_description</td>\n",
       "      <td>2022-12-05</td>\n",
       "      <td>2022</td>\n",
       "      <td>12</td>\n",
       "      <td>5</td>\n",
       "    </tr>\n",
       "    <tr>\n",
       "      <th>1</th>\n",
       "      <td>84162292</td>\n",
       "      <td>Ricardo</td>\n",
       "      <td>4.93</td>\n",
       "      <td>42</td>\n",
       "      <td>1</td>\n",
       "      <td>3</td>\n",
       "      <td>Sou casado, tenho uma filha de 9 anos e um fil...</td>\n",
       "      <td>[\"Obrigado Ricardo a estadia  foi ótima muito ...</td>\n",
       "      <td>2022-12-05</td>\n",
       "      <td>2022</td>\n",
       "      <td>12</td>\n",
       "      <td>5</td>\n",
       "    </tr>\n",
       "    <tr>\n",
       "      <th>2</th>\n",
       "      <td>96045548</td>\n",
       "      <td>Eduardo</td>\n",
       "      <td>0.00</td>\n",
       "      <td>26</td>\n",
       "      <td>0</td>\n",
       "      <td>3</td>\n",
       "      <td>no_description</td>\n",
       "      <td>[\"Otimo\", \"muito bom local e muito claro nas e...</td>\n",
       "      <td>2022-12-05</td>\n",
       "      <td>2022</td>\n",
       "      <td>12</td>\n",
       "      <td>5</td>\n",
       "    </tr>\n",
       "    <tr>\n",
       "      <th>3</th>\n",
       "      <td>419526733</td>\n",
       "      <td>Korban</td>\n",
       "      <td>0.00</td>\n",
       "      <td>13</td>\n",
       "      <td>0</td>\n",
       "      <td>3</td>\n",
       "      <td>Korban Empreendimentos, empresa com 3 filiais,...</td>\n",
       "      <td>[\"ótimo acesso a praia   lugar bem tranquilo.\"...</td>\n",
       "      <td>2022-12-05</td>\n",
       "      <td>2022</td>\n",
       "      <td>12</td>\n",
       "      <td>5</td>\n",
       "    </tr>\n",
       "    <tr>\n",
       "      <th>4</th>\n",
       "      <td>183738964</td>\n",
       "      <td>Fabiane</td>\n",
       "      <td>4.70</td>\n",
       "      <td>10</td>\n",
       "      <td>0</td>\n",
       "      <td>1</td>\n",
       "      <td>no_description</td>\n",
       "      <td>[\"Ótima localização  muito boa hospedagem.\", \"...</td>\n",
       "      <td>2022-12-05</td>\n",
       "      <td>2022</td>\n",
       "      <td>12</td>\n",
       "      <td>5</td>\n",
       "    </tr>\n",
       "  </tbody>\n",
       "</table>\n",
       "</div>"
      ],
      "text/plain": [
       "     host_id host_name  host_rating  n_reviews  n_reviews_from_host  n_listings                                         about_host                                           comments aquisition_date   ano  mes  dia\n",
       "0  160913639      Cayo         0.00          0                    0           1                                     no_description                                     no_description      2022-12-05  2022   12    5\n",
       "1   84162292   Ricardo         4.93         42                    1           3  Sou casado, tenho uma filha de 9 anos e um fil...  [\"Obrigado Ricardo a estadia  foi ótima muito ...      2022-12-05  2022   12    5\n",
       "2   96045548   Eduardo         0.00         26                    0           3                                     no_description  [\"Otimo\", \"muito bom local e muito claro nas e...      2022-12-05  2022   12    5\n",
       "3  419526733    Korban         0.00         13                    0           3  Korban Empreendimentos, empresa com 3 filiais,...  [\"ótimo acesso a praia   lugar bem tranquilo.\"...      2022-12-05  2022   12    5\n",
       "4  183738964   Fabiane         4.70         10                    0           1                                     no_description  [\"Ótima localização  muito boa hospedagem.\", \"...      2022-12-05  2022   12    5"
      ]
     },
     "execution_count": 28,
     "metadata": {},
     "output_type": "execute_result"
    }
   ],
   "source": [
    "df2 = df1.copy()\n",
    "df2.head()"
   ]
  },
  {
   "cell_type": "markdown",
   "id": "6d0ecbd4",
   "metadata": {},
   "source": [
    "## host_rating"
   ]
  },
  {
   "cell_type": "code",
   "execution_count": 29,
   "id": "39a0857f",
   "metadata": {
    "ExecuteTime": {
     "end_time": "2023-01-30T20:44:20.123003Z",
     "start_time": "2023-01-30T20:44:20.116111Z"
    }
   },
   "outputs": [
    {
     "data": {
      "text/plain": [
       "203"
      ]
     },
     "execution_count": 29,
     "metadata": {},
     "output_type": "execute_result"
    }
   ],
   "source": [
    "df2['host_rating'].unique().shape[0]"
   ]
  },
  {
   "cell_type": "code",
   "execution_count": 30,
   "id": "540b2709",
   "metadata": {
    "ExecuteTime": {
     "end_time": "2023-01-30T20:44:20.135943Z",
     "start_time": "2023-01-30T20:44:20.127080Z"
    }
   },
   "outputs": [],
   "source": [
    "# create new variable as a categorical host_rating\n",
    "df2['host_rating_cat'] = ( pd.cut( df2['host_rating'], bins =[-1, 3.0, 3.5,4.0,4.5,5], \n",
    "                                   labels = ['no_rating','low','medium','high','very_high'] ) )"
   ]
  },
  {
   "cell_type": "code",
   "execution_count": 31,
   "id": "55beba35",
   "metadata": {
    "ExecuteTime": {
     "end_time": "2023-01-30T20:44:20.151385Z",
     "start_time": "2023-01-30T20:44:20.142745Z"
    }
   },
   "outputs": [
    {
     "data": {
      "text/plain": [
       "['no_rating', 'very_high', 'high', 'low', 'medium']\n",
       "Categories (5, object): ['no_rating' < 'low' < 'medium' < 'high' < 'very_high']"
      ]
     },
     "execution_count": 31,
     "metadata": {},
     "output_type": "execute_result"
    }
   ],
   "source": [
    "df2['host_rating_cat'].unique()"
   ]
  },
  {
   "cell_type": "code",
   "execution_count": 32,
   "id": "0ef8db53",
   "metadata": {
    "ExecuteTime": {
     "end_time": "2023-01-30T20:44:20.166335Z",
     "start_time": "2023-01-30T20:44:20.155546Z"
    }
   },
   "outputs": [
    {
     "data": {
      "text/plain": [
       "no_rating    712\n",
       "very_high    568\n",
       "high          36\n",
       "low           24\n",
       "medium        17\n",
       "Name: host_rating_cat, dtype: int64"
      ]
     },
     "execution_count": 32,
     "metadata": {},
     "output_type": "execute_result"
    }
   ],
   "source": [
    "df2['host_rating_cat'].value_counts()"
   ]
  },
  {
   "cell_type": "code",
   "execution_count": 33,
   "id": "be342888",
   "metadata": {
    "ExecuteTime": {
     "end_time": "2023-01-30T20:44:20.180862Z",
     "start_time": "2023-01-30T20:44:20.170087Z"
    }
   },
   "outputs": [
    {
     "data": {
      "text/plain": [
       "no_rating   0.52\n",
       "very_high   0.42\n",
       "high        0.03\n",
       "low         0.02\n",
       "medium      0.01\n",
       "Name: host_rating_cat, dtype: float64"
      ]
     },
     "execution_count": 33,
     "metadata": {},
     "output_type": "execute_result"
    }
   ],
   "source": [
    "df2['host_rating_cat'].value_counts(normalize = True)"
   ]
  },
  {
   "cell_type": "markdown",
   "id": "fafde27f",
   "metadata": {},
   "source": [
    "## n_reviews"
   ]
  },
  {
   "cell_type": "code",
   "execution_count": 34,
   "id": "6c5903a7",
   "metadata": {
    "ExecuteTime": {
     "end_time": "2023-01-30T20:44:20.191951Z",
     "start_time": "2023-01-30T20:44:20.184461Z"
    }
   },
   "outputs": [
    {
     "data": {
      "text/plain": [
       "8362"
      ]
     },
     "execution_count": 34,
     "metadata": {},
     "output_type": "execute_result"
    }
   ],
   "source": [
    "df2['n_reviews'].max()"
   ]
  },
  {
   "cell_type": "code",
   "execution_count": 35,
   "id": "bbdc380e",
   "metadata": {
    "ExecuteTime": {
     "end_time": "2023-01-30T20:44:20.211983Z",
     "start_time": "2023-01-30T20:44:20.196383Z"
    }
   },
   "outputs": [
    {
     "data": {
      "text/plain": [
       "['0-5_reviews', '25-max_reviews', '10-15_reviews', '5-10_reviews', '15-20_reviews', '20-25_reviews']\n",
       "Categories (6, object): ['0-5_reviews' < '5-10_reviews' < '10-15_reviews' < '15-20_reviews' < '20-25_reviews' < '25-max_reviews']"
      ]
     },
     "execution_count": 35,
     "metadata": {},
     "output_type": "execute_result"
    }
   ],
   "source": [
    "df2['n_reviews_cat'] = ( pd.cut( df2['n_reviews'], bins =[-1, 5.0, 10.0,15.0,20.0,25,8362], \n",
    "                                   labels = ['0-5_reviews','5-10_reviews','10-15_reviews','15-20_reviews','20-25_reviews', \n",
    "                                             '25-max_reviews'] ) )\n",
    "df2['n_reviews_cat'].unique()"
   ]
  },
  {
   "cell_type": "markdown",
   "id": "b70137aa",
   "metadata": {},
   "source": [
    "# 3.0 Exploratory Data Analysis"
   ]
  },
  {
   "cell_type": "code",
   "execution_count": 36,
   "id": "de4e1a2c",
   "metadata": {
    "ExecuteTime": {
     "end_time": "2023-01-30T20:44:20.220470Z",
     "start_time": "2023-01-30T20:44:20.215811Z"
    }
   },
   "outputs": [],
   "source": [
    "df3 = df2.copy()"
   ]
  },
  {
   "cell_type": "markdown",
   "id": "af0a20a0",
   "metadata": {},
   "source": [
    "## 3.1 Univariate Analysis"
   ]
  },
  {
   "cell_type": "markdown",
   "id": "d3660d51",
   "metadata": {},
   "source": [
    "### Host_rating_cat"
   ]
  },
  {
   "cell_type": "code",
   "execution_count": 37,
   "id": "b108921d",
   "metadata": {
    "ExecuteTime": {
     "end_time": "2023-01-30T20:44:20.738923Z",
     "start_time": "2023-01-30T20:44:20.225324Z"
    }
   },
   "outputs": [
    {
     "data": {
      "image/png": "[encoded data removed]",
      "text/plain": [
       "<Figure size 2500x1200 with 1 Axes>"
      ]
     },
     "metadata": {},
     "output_type": "display_data"
    }
   ],
   "source": [
    "sns.countplot(data = df3, x = 'host_rating_cat');\n",
    "plt.xlabel('Categories', fontsize = 20, fontweight='bold', color= 'black');\n",
    "plt.ylabel('Number of rating', fontsize = 20, fontweight = 'bold', color = 'black');"
   ]
  },
  {
   "cell_type": "markdown",
   "id": "7009e4a8",
   "metadata": {},
   "source": [
    "### host_id"
   ]
  },
  {
   "cell_type": "code",
   "execution_count": 38,
   "id": "fb375962",
   "metadata": {
    "ExecuteTime": {
     "end_time": "2023-01-30T20:44:20.752170Z",
     "start_time": "2023-01-30T20:44:20.744175Z"
    }
   },
   "outputs": [
    {
     "data": {
      "text/plain": [
       "1357"
      ]
     },
     "execution_count": 38,
     "metadata": {},
     "output_type": "execute_result"
    }
   ],
   "source": [
    "df3['host_id'].unique().shape[0]"
   ]
  },
  {
   "cell_type": "code",
   "execution_count": 39,
   "id": "4f20f7d2",
   "metadata": {
    "ExecuteTime": {
     "end_time": "2023-01-30T20:44:20.770923Z",
     "start_time": "2023-01-30T20:44:20.757921Z"
    }
   },
   "outputs": [
    {
     "data": {
      "text/plain": [
       "1357"
      ]
     },
     "execution_count": 39,
     "metadata": {},
     "output_type": "execute_result"
    }
   ],
   "source": [
    "df3.shape[0]"
   ]
  },
  {
   "cell_type": "markdown",
   "id": "6cc6f986",
   "metadata": {},
   "source": [
    "**All values is a unique host**"
   ]
  },
  {
   "cell_type": "markdown",
   "id": "a4d00cc0",
   "metadata": {
    "ExecuteTime": {
     "end_time": "2023-01-30T19:46:05.199612Z",
     "start_time": "2023-01-30T19:46:05.177925Z"
    }
   },
   "source": [
    "### host_name"
   ]
  },
  {
   "cell_type": "code",
   "execution_count": 40,
   "id": "a97893ee",
   "metadata": {
    "ExecuteTime": {
     "end_time": "2023-01-30T20:44:20.785332Z",
     "start_time": "2023-01-30T20:44:20.777750Z"
    }
   },
   "outputs": [
    {
     "data": {
      "text/plain": [
       "array(['Cayo', 'Ricardo', 'Eduardo', 'Korban', 'Fabiane', 'Hugo',\n",
       "       'Rafael Fernando', 'Ana', 'Marilu', 'Emerson'], dtype=object)"
      ]
     },
     "execution_count": 40,
     "metadata": {},
     "output_type": "execute_result"
    }
   ],
   "source": [
    "df3['host_name'].unique()[0:10]"
   ]
  },
  {
   "cell_type": "code",
   "execution_count": 41,
   "id": "c5c8d724",
   "metadata": {
    "ExecuteTime": {
     "end_time": "2023-01-30T20:44:20.810041Z",
     "start_time": "2023-01-30T20:44:20.802176Z"
    }
   },
   "outputs": [
    {
     "data": {
      "text/plain": [
       "898"
      ]
     },
     "execution_count": 41,
     "metadata": {},
     "output_type": "execute_result"
    }
   ],
   "source": [
    "df3['host_name'].unique().shape[0]"
   ]
  },
  {
   "cell_type": "code",
   "execution_count": 42,
   "id": "f7f6caa5",
   "metadata": {
    "ExecuteTime": {
     "end_time": "2023-01-30T20:44:20.844126Z",
     "start_time": "2023-01-30T20:44:20.814477Z"
    }
   },
   "outputs": [
    {
     "data": {
      "text/html": [
       "<div>\n",
       "<style scoped>\n",
       "    .dataframe tbody tr th:only-of-type {\n",
       "        vertical-align: middle;\n",
       "    }\n",
       "\n",
       "    .dataframe tbody tr th {\n",
       "        vertical-align: top;\n",
       "    }\n",
       "\n",
       "    .dataframe thead th {\n",
       "        text-align: right;\n",
       "    }\n",
       "</style>\n",
       "<table border=\"1\" class=\"dataframe\">\n",
       "  <thead>\n",
       "    <tr style=\"text-align: right;\">\n",
       "      <th></th>\n",
       "      <th>host_id</th>\n",
       "      <th>host_name</th>\n",
       "      <th>host_rating</th>\n",
       "      <th>n_reviews</th>\n",
       "      <th>n_reviews_from_host</th>\n",
       "      <th>n_listings</th>\n",
       "      <th>about_host</th>\n",
       "      <th>comments</th>\n",
       "      <th>aquisition_date</th>\n",
       "      <th>ano</th>\n",
       "      <th>mes</th>\n",
       "      <th>dia</th>\n",
       "      <th>host_rating_cat</th>\n",
       "      <th>n_reviews_cat</th>\n",
       "    </tr>\n",
       "  </thead>\n",
       "  <tbody>\n",
       "    <tr>\n",
       "      <th>1</th>\n",
       "      <td>84162292</td>\n",
       "      <td>Ricardo</td>\n",
       "      <td>4.93</td>\n",
       "      <td>42</td>\n",
       "      <td>1</td>\n",
       "      <td>3</td>\n",
       "      <td>Sou casado, tenho uma filha de 9 anos e um fil...</td>\n",
       "      <td>[\"Obrigado Ricardo a estadia  foi ótima muito ...</td>\n",
       "      <td>2022-12-05</td>\n",
       "      <td>2022</td>\n",
       "      <td>12</td>\n",
       "      <td>5</td>\n",
       "      <td>very_high</td>\n",
       "      <td>25-max_reviews</td>\n",
       "    </tr>\n",
       "    <tr>\n",
       "      <th>39</th>\n",
       "      <td>187183025</td>\n",
       "      <td>Ricardo</td>\n",
       "      <td>4.71</td>\n",
       "      <td>7</td>\n",
       "      <td>0</td>\n",
       "      <td>1</td>\n",
       "      <td>no_description</td>\n",
       "      <td>[\"Adoramos o Apto  camas boas  chuveiros ótimo...</td>\n",
       "      <td>2022-12-05</td>\n",
       "      <td>2022</td>\n",
       "      <td>12</td>\n",
       "      <td>5</td>\n",
       "      <td>very_high</td>\n",
       "      <td>5-10_reviews</td>\n",
       "    </tr>\n",
       "    <tr>\n",
       "      <th>438</th>\n",
       "      <td>356383311</td>\n",
       "      <td>Ricardo</td>\n",
       "      <td>0.00</td>\n",
       "      <td>2</td>\n",
       "      <td>0</td>\n",
       "      <td>1</td>\n",
       "      <td>no_description</td>\n",
       "      <td>[\"O apto é excelente. Muito espaçoso e uma bel...</td>\n",
       "      <td>2022-12-05</td>\n",
       "      <td>2022</td>\n",
       "      <td>12</td>\n",
       "      <td>5</td>\n",
       "      <td>no_rating</td>\n",
       "      <td>0-5_reviews</td>\n",
       "    </tr>\n",
       "    <tr>\n",
       "      <th>518</th>\n",
       "      <td>73239240</td>\n",
       "      <td>Ricardo</td>\n",
       "      <td>5.00</td>\n",
       "      <td>12</td>\n",
       "      <td>1</td>\n",
       "      <td>1</td>\n",
       "      <td>no_description</td>\n",
       "      <td>[\"Ricardo é um excelente anfitrião!\", \"Fomos  ...</td>\n",
       "      <td>2022-12-05</td>\n",
       "      <td>2022</td>\n",
       "      <td>12</td>\n",
       "      <td>5</td>\n",
       "      <td>very_high</td>\n",
       "      <td>10-15_reviews</td>\n",
       "    </tr>\n",
       "    <tr>\n",
       "      <th>567</th>\n",
       "      <td>20489673</td>\n",
       "      <td>Ricardo</td>\n",
       "      <td>4.29</td>\n",
       "      <td>7</td>\n",
       "      <td>7</td>\n",
       "      <td>1</td>\n",
       "      <td>abogado, 47\\n años casado 2 hijos, hablo españ...</td>\n",
       "      <td>[\"El departamento es muy amplio  con mucho lug...</td>\n",
       "      <td>2022-12-05</td>\n",
       "      <td>2022</td>\n",
       "      <td>12</td>\n",
       "      <td>5</td>\n",
       "      <td>high</td>\n",
       "      <td>5-10_reviews</td>\n",
       "    </tr>\n",
       "    <tr>\n",
       "      <th>575</th>\n",
       "      <td>12495996</td>\n",
       "      <td>Ricardo</td>\n",
       "      <td>0.00</td>\n",
       "      <td>2</td>\n",
       "      <td>1</td>\n",
       "      <td>1</td>\n",
       "      <td>no_description</td>\n",
       "      <td>[\"O apartamento é maravilhoso  muito bem local...</td>\n",
       "      <td>2022-12-05</td>\n",
       "      <td>2022</td>\n",
       "      <td>12</td>\n",
       "      <td>5</td>\n",
       "      <td>no_rating</td>\n",
       "      <td>0-5_reviews</td>\n",
       "    </tr>\n",
       "    <tr>\n",
       "      <th>826</th>\n",
       "      <td>336024803</td>\n",
       "      <td>Ricardo</td>\n",
       "      <td>4.67</td>\n",
       "      <td>3</td>\n",
       "      <td>1</td>\n",
       "      <td>1</td>\n",
       "      <td>no_description</td>\n",
       "      <td>[\"Apartamento ótimo. Bem localizado e higieniz...</td>\n",
       "      <td>2022-12-05</td>\n",
       "      <td>2022</td>\n",
       "      <td>12</td>\n",
       "      <td>5</td>\n",
       "      <td>very_high</td>\n",
       "      <td>0-5_reviews</td>\n",
       "    </tr>\n",
       "    <tr>\n",
       "      <th>831</th>\n",
       "      <td>293117368</td>\n",
       "      <td>Ricardo</td>\n",
       "      <td>0.00</td>\n",
       "      <td>0</td>\n",
       "      <td>0</td>\n",
       "      <td>1</td>\n",
       "      <td>no_description</td>\n",
       "      <td>no_description</td>\n",
       "      <td>2022-12-05</td>\n",
       "      <td>2022</td>\n",
       "      <td>12</td>\n",
       "      <td>5</td>\n",
       "      <td>no_rating</td>\n",
       "      <td>0-5_reviews</td>\n",
       "    </tr>\n",
       "    <tr>\n",
       "      <th>1111</th>\n",
       "      <td>94612437</td>\n",
       "      <td>Ricardo</td>\n",
       "      <td>1.58</td>\n",
       "      <td>7</td>\n",
       "      <td>0</td>\n",
       "      <td>3</td>\n",
       "      <td>no_description</td>\n",
       "      <td>[\"Minha estadia foi  excelente  check in super...</td>\n",
       "      <td>2022-12-05</td>\n",
       "      <td>2022</td>\n",
       "      <td>12</td>\n",
       "      <td>5</td>\n",
       "      <td>no_rating</td>\n",
       "      <td>5-10_reviews</td>\n",
       "    </tr>\n",
       "  </tbody>\n",
       "</table>\n",
       "</div>"
      ],
      "text/plain": [
       "        host_id host_name  host_rating  n_reviews  n_reviews_from_host  n_listings                                         about_host                                           comments aquisition_date   ano  mes  dia host_rating_cat   n_reviews_cat\n",
       "1      84162292   Ricardo         4.93         42                    1           3  Sou casado, tenho uma filha de 9 anos e um fil...  [\"Obrigado Ricardo a estadia  foi ótima muito ...      2022-12-05  2022   12    5       very_high  25-max_reviews\n",
       "39    187183025   Ricardo         4.71          7                    0           1                                     no_description  [\"Adoramos o Apto  camas boas  chuveiros ótimo...      2022-12-05  2022   12    5       very_high    5-10_reviews\n",
       "438   356383311   Ricardo         0.00          2                    0           1                                     no_description  [\"O apto é excelente. Muito espaçoso e uma bel...      2022-12-05  2022   12    5       no_rating     0-5_reviews\n",
       "518    73239240   Ricardo         5.00         12                    1           1                                     no_description  [\"Ricardo é um excelente anfitrião!\", \"Fomos  ...      2022-12-05  2022   12    5       very_high   10-15_reviews\n",
       "567    20489673   Ricardo         4.29          7                    7           1  abogado, 47\\n años casado 2 hijos, hablo españ...  [\"El departamento es muy amplio  con mucho lug...      2022-12-05  2022   12    5            high    5-10_reviews\n",
       "575    12495996   Ricardo         0.00          2                    1           1                                     no_description  [\"O apartamento é maravilhoso  muito bem local...      2022-12-05  2022   12    5       no_rating     0-5_reviews\n",
       "826   336024803   Ricardo         4.67          3                    1           1                                     no_description  [\"Apartamento ótimo. Bem localizado e higieniz...      2022-12-05  2022   12    5       very_high     0-5_reviews\n",
       "831   293117368   Ricardo         0.00          0                    0           1                                     no_description                                     no_description      2022-12-05  2022   12    5       no_rating     0-5_reviews\n",
       "1111   94612437   Ricardo         1.58          7                    0           3                                     no_description  [\"Minha estadia foi  excelente  check in super...      2022-12-05  2022   12    5       no_rating    5-10_reviews"
      ]
     },
     "execution_count": 42,
     "metadata": {},
     "output_type": "execute_result"
    }
   ],
   "source": [
    "df3.loc[(df3['host_name']=='Ricardo')]"
   ]
  },
  {
   "cell_type": "code",
   "execution_count": 43,
   "id": "9d75d33d",
   "metadata": {
    "ExecuteTime": {
     "end_time": "2023-01-30T20:44:20.873876Z",
     "start_time": "2023-01-30T20:44:20.848026Z"
    }
   },
   "outputs": [
    {
     "data": {
      "text/html": [
       "<div>\n",
       "<style scoped>\n",
       "    .dataframe tbody tr th:only-of-type {\n",
       "        vertical-align: middle;\n",
       "    }\n",
       "\n",
       "    .dataframe tbody tr th {\n",
       "        vertical-align: top;\n",
       "    }\n",
       "\n",
       "    .dataframe thead th {\n",
       "        text-align: right;\n",
       "    }\n",
       "</style>\n",
       "<table border=\"1\" class=\"dataframe\">\n",
       "  <thead>\n",
       "    <tr style=\"text-align: right;\">\n",
       "      <th></th>\n",
       "      <th>host_id</th>\n",
       "      <th>host_name</th>\n",
       "      <th>host_rating</th>\n",
       "      <th>n_reviews</th>\n",
       "      <th>n_reviews_from_host</th>\n",
       "      <th>n_listings</th>\n",
       "      <th>about_host</th>\n",
       "      <th>comments</th>\n",
       "      <th>aquisition_date</th>\n",
       "      <th>ano</th>\n",
       "      <th>mes</th>\n",
       "      <th>dia</th>\n",
       "      <th>host_rating_cat</th>\n",
       "      <th>n_reviews_cat</th>\n",
       "    </tr>\n",
       "  </thead>\n",
       "  <tbody>\n",
       "    <tr>\n",
       "      <th>1</th>\n",
       "      <td>84162292</td>\n",
       "      <td>Ricardo</td>\n",
       "      <td>4.93</td>\n",
       "      <td>42</td>\n",
       "      <td>1</td>\n",
       "      <td>3</td>\n",
       "      <td>Sou casado, tenho uma filha de 9 anos e um fil...</td>\n",
       "      <td>[\"Obrigado Ricardo a estadia  foi ótima muito ...</td>\n",
       "      <td>2022-12-05</td>\n",
       "      <td>2022</td>\n",
       "      <td>12</td>\n",
       "      <td>5</td>\n",
       "      <td>very_high</td>\n",
       "      <td>25-max_reviews</td>\n",
       "    </tr>\n",
       "  </tbody>\n",
       "</table>\n",
       "</div>"
      ],
      "text/plain": [
       "    host_id host_name  host_rating  n_reviews  n_reviews_from_host  n_listings                                         about_host                                           comments aquisition_date   ano  mes  dia host_rating_cat   n_reviews_cat\n",
       "1  84162292   Ricardo         4.93         42                    1           3  Sou casado, tenho uma filha de 9 anos e um fil...  [\"Obrigado Ricardo a estadia  foi ótima muito ...      2022-12-05  2022   12    5       very_high  25-max_reviews"
      ]
     },
     "execution_count": 43,
     "metadata": {},
     "output_type": "execute_result"
    }
   ],
   "source": [
    "df3.loc[(df3['host_name']=='Ricardo') & (df3['host_id']==84162292)]"
   ]
  },
  {
   "cell_type": "markdown",
   "id": "5c5d40e2",
   "metadata": {},
   "source": [
    "### n_reviews"
   ]
  },
  {
   "cell_type": "code",
   "execution_count": 44,
   "id": "9809b3b9",
   "metadata": {
    "ExecuteTime": {
     "end_time": "2023-01-30T20:44:20.888565Z",
     "start_time": "2023-01-30T20:44:20.880140Z"
    }
   },
   "outputs": [
    {
     "data": {
      "text/plain": [
       "144"
      ]
     },
     "execution_count": 44,
     "metadata": {},
     "output_type": "execute_result"
    }
   ],
   "source": [
    "df3['n_reviews'].unique().shape[0]"
   ]
  },
  {
   "cell_type": "markdown",
   "id": "c7e36fe5",
   "metadata": {},
   "source": [
    "### n_reviews_cat"
   ]
  },
  {
   "cell_type": "code",
   "execution_count": 45,
   "id": "9542cb4d",
   "metadata": {
    "ExecuteTime": {
     "end_time": "2023-01-30T20:44:21.419773Z",
     "start_time": "2023-01-30T20:44:20.893434Z"
    }
   },
   "outputs": [
    {
     "data": {
      "image/png": "[encoded data removed]",
      "text/plain": [
       "<Figure size 2500x1200 with 1 Axes>"
      ]
     },
     "metadata": {},
     "output_type": "display_data"
    }
   ],
   "source": [
    "sns.countplot(data = df3, x = 'n_reviews_cat');\n",
    "plt.xlabel('Categories', fontsize=20, fontweight = 'bold', color = 'black');\n",
    "plt.ylabel('Number of reviews', fontsize=20, fontweight = 'bold', color = 'black');"
   ]
  },
  {
   "cell_type": "markdown",
   "id": "54504f11",
   "metadata": {},
   "source": [
    "### n_reviews_from_host"
   ]
  },
  {
   "cell_type": "code",
   "execution_count": 46,
   "id": "6aa6b39e",
   "metadata": {
    "ExecuteTime": {
     "end_time": "2023-01-30T20:44:21.444071Z",
     "start_time": "2023-01-30T20:44:21.429912Z"
    }
   },
   "outputs": [
    {
     "data": {
      "text/plain": [
       "23"
      ]
     },
     "execution_count": 46,
     "metadata": {},
     "output_type": "execute_result"
    }
   ],
   "source": [
    "df3['n_reviews_from_host'].unique().shape[0]"
   ]
  },
  {
   "cell_type": "code",
   "execution_count": 47,
   "id": "58de4281",
   "metadata": {
    "ExecuteTime": {
     "end_time": "2023-01-30T20:44:21.495513Z",
     "start_time": "2023-01-30T20:44:21.453313Z"
    }
   },
   "outputs": [
    {
     "data": {
      "text/plain": [
       "array([ 0,  1, 11,  7,  5,  2,  8,  3,  4,  6, 10,  9, 13, 15, 12, 17, 14,\n",
       "       29, 20, 18, 27, 23, 51])"
      ]
     },
     "execution_count": 47,
     "metadata": {},
     "output_type": "execute_result"
    }
   ],
   "source": [
    "df3['n_reviews_from_host'].unique()"
   ]
  },
  {
   "cell_type": "code",
   "execution_count": 48,
   "id": "d6c0aedc",
   "metadata": {
    "ExecuteTime": {
     "end_time": "2023-01-30T20:44:21.508541Z",
     "start_time": "2023-01-30T20:44:21.498567Z"
    }
   },
   "outputs": [
    {
     "data": {
      "text/plain": [
       "0     839\n",
       "1     195\n",
       "2     110\n",
       "3      55\n",
       "5      37\n",
       "4      37\n",
       "6      24\n",
       "7      13\n",
       "8      10\n",
       "10      6\n",
       "9       6\n",
       "13      5\n",
       "17      4\n",
       "11      3\n",
       "15      3\n",
       "14      3\n",
       "12      1\n",
       "29      1\n",
       "20      1\n",
       "18      1\n",
       "27      1\n",
       "23      1\n",
       "51      1\n",
       "Name: n_reviews_from_host, dtype: int64"
      ]
     },
     "execution_count": 48,
     "metadata": {},
     "output_type": "execute_result"
    }
   ],
   "source": [
    "df3['n_reviews_from_host'].value_counts()"
   ]
  },
  {
   "cell_type": "code",
   "execution_count": 49,
   "id": "9f84c7f0",
   "metadata": {
    "ExecuteTime": {
     "end_time": "2023-01-30T20:44:21.525220Z",
     "start_time": "2023-01-30T20:44:21.514682Z"
    }
   },
   "outputs": [
    {
     "data": {
      "text/plain": [
       "0    0.62\n",
       "1    0.14\n",
       "2    0.08\n",
       "3    0.04\n",
       "5    0.03\n",
       "4    0.03\n",
       "6    0.02\n",
       "7    0.01\n",
       "8    0.01\n",
       "10   0.00\n",
       "9    0.00\n",
       "13   0.00\n",
       "17   0.00\n",
       "11   0.00\n",
       "15   0.00\n",
       "14   0.00\n",
       "12   0.00\n",
       "29   0.00\n",
       "20   0.00\n",
       "18   0.00\n",
       "27   0.00\n",
       "23   0.00\n",
       "51   0.00\n",
       "Name: n_reviews_from_host, dtype: float64"
      ]
     },
     "execution_count": 49,
     "metadata": {},
     "output_type": "execute_result"
    }
   ],
   "source": [
    "df3['n_reviews_from_host'].value_counts(normalize = True)"
   ]
  },
  {
   "cell_type": "markdown",
   "id": "d6bde78c",
   "metadata": {},
   "source": [
    "### n_listings"
   ]
  },
  {
   "cell_type": "code",
   "execution_count": 50,
   "id": "41996806",
   "metadata": {
    "ExecuteTime": {
     "end_time": "2023-01-30T20:44:21.539662Z",
     "start_time": "2023-01-30T20:44:21.529665Z"
    }
   },
   "outputs": [
    {
     "data": {
      "text/plain": [
       "32"
      ]
     },
     "execution_count": 50,
     "metadata": {},
     "output_type": "execute_result"
    }
   ],
   "source": [
    "df3['n_listings'].unique().shape[0]"
   ]
  },
  {
   "cell_type": "code",
   "execution_count": 51,
   "id": "b8ec08ef",
   "metadata": {
    "ExecuteTime": {
     "end_time": "2023-01-30T20:44:21.549467Z",
     "start_time": "2023-01-30T20:44:21.543353Z"
    }
   },
   "outputs": [
    {
     "data": {
      "text/plain": [
       "array([  1,   3,   2,   9,   4,  10,  20,   7,   5,  14,   6, 114, 339,\n",
       "         8,  22,  43, 638,  32,  52, 441,  18,  35,  87,  21,  23,  13,\n",
       "        15,   0, 230,  11,  26,  17])"
      ]
     },
     "execution_count": 51,
     "metadata": {},
     "output_type": "execute_result"
    }
   ],
   "source": [
    "df3['n_listings'].unique()"
   ]
  },
  {
   "cell_type": "code",
   "execution_count": 52,
   "id": "7b65b2fa",
   "metadata": {
    "ExecuteTime": {
     "end_time": "2023-01-30T20:44:21.569299Z",
     "start_time": "2023-01-30T20:44:21.557631Z"
    }
   },
   "outputs": [
    {
     "data": {
      "text/plain": [
       "1      876\n",
       "2      237\n",
       "3      101\n",
       "4       44\n",
       "5       29\n",
       "6       13\n",
       "7       10\n",
       "9        9\n",
       "8        6\n",
       "10       4\n",
       "23       2\n",
       "13       2\n",
       "22       2\n",
       "35       2\n",
       "14       2\n",
       "26       2\n",
       "230      1\n",
       "0        1\n",
       "87       1\n",
       "15       1\n",
       "21       1\n",
       "11       1\n",
       "638      1\n",
       "18       1\n",
       "441      1\n",
       "52       1\n",
       "32       1\n",
       "43       1\n",
       "339      1\n",
       "114      1\n",
       "20       1\n",
       "17       1\n",
       "Name: n_listings, dtype: int64"
      ]
     },
     "execution_count": 52,
     "metadata": {},
     "output_type": "execute_result"
    }
   ],
   "source": [
    "df3['n_listings'].value_counts()"
   ]
  },
  {
   "cell_type": "code",
   "execution_count": 53,
   "id": "ebc8e417",
   "metadata": {
    "ExecuteTime": {
     "end_time": "2023-01-30T20:44:21.587397Z",
     "start_time": "2023-01-30T20:44:21.573687Z"
    }
   },
   "outputs": [
    {
     "data": {
      "text/plain": [
       "1     0.65\n",
       "2     0.17\n",
       "3     0.07\n",
       "4     0.03\n",
       "5     0.02\n",
       "6     0.01\n",
       "7     0.01\n",
       "9     0.01\n",
       "8     0.00\n",
       "10    0.00\n",
       "23    0.00\n",
       "13    0.00\n",
       "22    0.00\n",
       "35    0.00\n",
       "14    0.00\n",
       "26    0.00\n",
       "230   0.00\n",
       "0     0.00\n",
       "87    0.00\n",
       "15    0.00\n",
       "21    0.00\n",
       "11    0.00\n",
       "638   0.00\n",
       "18    0.00\n",
       "441   0.00\n",
       "52    0.00\n",
       "32    0.00\n",
       "43    0.00\n",
       "339   0.00\n",
       "114   0.00\n",
       "20    0.00\n",
       "17    0.00\n",
       "Name: n_listings, dtype: float64"
      ]
     },
     "execution_count": 53,
     "metadata": {},
     "output_type": "execute_result"
    }
   ],
   "source": [
    "df3['n_listings'].value_counts(normalize = True)"
   ]
  },
  {
   "cell_type": "code",
   "execution_count": null,
   "id": "a4b9357f",
   "metadata": {},
   "outputs": [],
   "source": []
  }
 ],
 "metadata": {
  "kernelspec": {
   "display_name": "venv_seazone",
   "language": "python",
   "name": "venv_seazone"
  },
  "language_info": {
   "codemirror_mode": {
    "name": "ipython",
    "version": 3
   },
   "file_extension": ".py",
   "mimetype": "text/x-python",
   "name": "python",
   "nbconvert_exporter": "python",
   "pygments_lexer": "ipython3",
   "version": "3.10.7"
  }
 },
 "nbformat": 4,
 "nbformat_minor": 5
}
