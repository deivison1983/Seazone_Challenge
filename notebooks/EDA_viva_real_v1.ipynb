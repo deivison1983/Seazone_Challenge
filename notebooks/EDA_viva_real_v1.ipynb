{
 "cells": [
  {
   "cell_type": "markdown",
   "id": "300f9c6c",
   "metadata": {},
   "source": [
    "# 0.0 Imports"
   ]
  },
  {
   "cell_type": "code",
   "execution_count": 1,
   "id": "65b6a5ed",
   "metadata": {
    "ExecuteTime": {
     "end_time": "2023-01-30T21:57:47.460830Z",
     "start_time": "2023-01-30T21:57:45.613117Z"
    }
   },
   "outputs": [],
   "source": [
    "import pandas as pd\n",
    "import seaborn as sns\n",
    "import numpy as np\n",
    "import math\n",
    "\n",
    "import matplotlib  \n",
    "from matplotlib              import pyplot as plt\n",
    "from matplotlib              import gridspec\n",
    "\n",
    "from IPython.core.display    import HTML\n",
    "from IPython.display         import Image\n",
    "\n",
    "import re"
   ]
  },
  {
   "cell_type": "markdown",
   "id": "2a935d6d",
   "metadata": {},
   "source": [
    "## 0.1 Helper Functions"
   ]
  },
  {
   "cell_type": "code",
   "execution_count": 2,
   "id": "1c53aec0",
   "metadata": {
    "ExecuteTime": {
     "end_time": "2023-01-30T21:57:47.562807Z",
     "start_time": "2023-01-30T21:57:47.464075Z"
    }
   },
   "outputs": [],
   "source": [
    "# show all columns\n",
    "pd.set_option('display.max_columns', None)\n",
    "\n",
    "#ajusta graficos\n",
    "def jupyter_settings():\n",
    "    %matplotlib inline\n",
    "    #%pylab inline\n",
    "    \n",
    "    plt.style.use( 'bmh' )\n",
    "    plt.rcParams['figure.figsize'] = [25, 12]\n",
    "    plt.rcParams['font.size'] = 40\n",
    "    \n",
    "    \n",
    "    display( HTML( '<style>.container { width:100% !important; }</style>') )\n",
    "    pd.options.display.max_columns = None\n",
    "    pd.options.display.max_rows = None\n",
    "    pd.set_option( 'display.expand_frame_repr', False )\n",
    "    \n",
    "    sns.set()\n",
    "    plt.rcParams['xtick.labelsize'] = 18\n",
    "    plt.rcParams['ytick.labelsize'] = 18\n",
    "    \n",
    "#Retirar notação cientifica\n",
    "pd.set_option('display.float_format', lambda x: '%.2f' % x)"
   ]
  },
  {
   "cell_type": "code",
   "execution_count": 3,
   "id": "4b2fc60c",
   "metadata": {
    "ExecuteTime": {
     "end_time": "2023-01-30T21:57:47.589763Z",
     "start_time": "2023-01-30T21:57:47.566892Z"
    }
   },
   "outputs": [
    {
     "data": {
      "text/html": [
       "<style>.container { width:100% !important; }</style>"
      ],
      "text/plain": [
       "<IPython.core.display.HTML object>"
      ]
     },
     "metadata": {},
     "output_type": "display_data"
    }
   ],
   "source": [
    "jupyter_settings()"
   ]
  },
  {
   "cell_type": "markdown",
   "id": "708ccdc7",
   "metadata": {},
   "source": [
    "## 0.2 Loading data"
   ]
  },
  {
   "cell_type": "code",
   "execution_count": 4,
   "id": "c4b6909c",
   "metadata": {
    "ExecuteTime": {
     "end_time": "2023-01-30T21:57:48.138949Z",
     "start_time": "2023-01-30T21:57:47.597779Z"
    }
   },
   "outputs": [],
   "source": [
    "data_raw = pd.read_csv('../data/data_base/VivaReal_Itapema.csv')"
   ]
  },
  {
   "cell_type": "code",
   "execution_count": 5,
   "id": "9e8a8ced",
   "metadata": {
    "ExecuteTime": {
     "end_time": "2023-01-30T21:57:48.186357Z",
     "start_time": "2023-01-30T21:57:48.141500Z"
    }
   },
   "outputs": [
    {
     "data": {
      "text/html": [
       "<div>\n",
       "<style scoped>\n",
       "    .dataframe tbody tr th:only-of-type {\n",
       "        vertical-align: middle;\n",
       "    }\n",
       "\n",
       "    .dataframe tbody tr th {\n",
       "        vertical-align: top;\n",
       "    }\n",
       "\n",
       "    .dataframe thead th {\n",
       "        text-align: right;\n",
       "    }\n",
       "</style>\n",
       "<table border=\"1\" class=\"dataframe\">\n",
       "  <thead>\n",
       "    <tr style=\"text-align: right;\">\n",
       "      <th></th>\n",
       "      <th>listing_id</th>\n",
       "      <th>link_name</th>\n",
       "      <th>link_url</th>\n",
       "      <th>listing_type</th>\n",
       "      <th>listing_title</th>\n",
       "      <th>listing_desc</th>\n",
       "      <th>business_types</th>\n",
       "      <th>unit_type</th>\n",
       "      <th>unit_subtype</th>\n",
       "      <th>property_type</th>\n",
       "      <th>usage_type</th>\n",
       "      <th>sale_price</th>\n",
       "      <th>rental_price</th>\n",
       "      <th>rental_period</th>\n",
       "      <th>yearly_iptu</th>\n",
       "      <th>monthly_condo_fee</th>\n",
       "      <th>amenities</th>\n",
       "      <th>usable_area</th>\n",
       "      <th>total_area</th>\n",
       "      <th>bathrooms</th>\n",
       "      <th>bedrooms</th>\n",
       "      <th>suites</th>\n",
       "      <th>parking_spaces</th>\n",
       "      <th>address_country</th>\n",
       "      <th>address_state</th>\n",
       "      <th>address_city</th>\n",
       "      <th>address_neighborhood</th>\n",
       "      <th>address_street</th>\n",
       "      <th>address_street_number</th>\n",
       "      <th>address_complement</th>\n",
       "      <th>address_zipcode</th>\n",
       "      <th>location_id</th>\n",
       "      <th>advertiser_id</th>\n",
       "      <th>advertiser_name</th>\n",
       "      <th>advertiser_phones</th>\n",
       "      <th>advertiser_whatsapp</th>\n",
       "      <th>advertiser_url</th>\n",
       "      <th>portal</th>\n",
       "      <th>aquisition_date</th>\n",
       "      <th>ano</th>\n",
       "      <th>mes</th>\n",
       "      <th>dia</th>\n",
       "    </tr>\n",
       "  </thead>\n",
       "  <tbody>\n",
       "    <tr>\n",
       "      <th>0</th>\n",
       "      <td>2570403797</td>\n",
       "      <td>Apartamento com 4 Quartos à venda, 187m²</td>\n",
       "      <td>https://www.vivareal.com.br/imovel/apartamento...</td>\n",
       "      <td>USED</td>\n",
       "      <td>Apartamento com 4 dormitórios à venda, 187 m² ...</td>\n",
       "      <td>Situado em uma das melhores regiões da Meia Pr...</td>\n",
       "      <td>[\"SALE\"]</td>\n",
       "      <td>APARTMENT</td>\n",
       "      <td>NaN</td>\n",
       "      <td>UNIT</td>\n",
       "      <td>RESIDENTIAL</td>\n",
       "      <td>2900000.00</td>\n",
       "      <td>NaN</td>\n",
       "      <td>NaN</td>\n",
       "      <td>0.00</td>\n",
       "      <td>0.00</td>\n",
       "      <td>[\"ELEVATOR\", \"SEA_VIEW\"]</td>\n",
       "      <td>187.00</td>\n",
       "      <td>187.00</td>\n",
       "      <td>5.00</td>\n",
       "      <td>4.00</td>\n",
       "      <td>4.00</td>\n",
       "      <td>3.00</td>\n",
       "      <td>BR</td>\n",
       "      <td>SC</td>\n",
       "      <td>Itapema</td>\n",
       "      <td>Andorinha</td>\n",
       "      <td>NaN</td>\n",
       "      <td>NaN</td>\n",
       "      <td>NaN</td>\n",
       "      <td>88220000.00</td>\n",
       "      <td>BR&gt;Santa Catarina&gt;NULL&gt;Itapema&gt;Barrios&gt;Meia Praia</td>\n",
       "      <td>39507409-01f8-3935-dc38-e0fea684b44a</td>\n",
       "      <td>Winner Brokers</td>\n",
       "      <td>[\"44984349088\"]</td>\n",
       "      <td>44984349088.00</td>\n",
       "      <td>https://www.vivareal.com.br/770696/winner-brok...</td>\n",
       "      <td>GRUPOZAP</td>\n",
       "      <td>2022-12-06 00:00:00.000</td>\n",
       "      <td>2022</td>\n",
       "      <td>12</td>\n",
       "      <td>6</td>\n",
       "    </tr>\n",
       "    <tr>\n",
       "      <th>1</th>\n",
       "      <td>2510420914</td>\n",
       "      <td>Apartamento com 4 Quartos à venda, 253m²</td>\n",
       "      <td>https://www.vivareal.com.br/imovel/apartamento...</td>\n",
       "      <td>USED</td>\n",
       "      <td>Apartamento com 4 suítes 3 vagas em Itapema SC</td>\n",
       "      <td>Apartamentos com 04 suítes, 03 vagas de garage...</td>\n",
       "      <td>[\"SALE\"]</td>\n",
       "      <td>APARTMENT</td>\n",
       "      <td>NaN</td>\n",
       "      <td>UNIT</td>\n",
       "      <td>RESIDENTIAL</td>\n",
       "      <td>3500000.00</td>\n",
       "      <td>NaN</td>\n",
       "      <td>NaN</td>\n",
       "      <td>NaN</td>\n",
       "      <td>NaN</td>\n",
       "      <td>[\"KITCHEN\", \"BALCONY\"]</td>\n",
       "      <td>253.00</td>\n",
       "      <td>253.00</td>\n",
       "      <td>5.00</td>\n",
       "      <td>4.00</td>\n",
       "      <td>4.00</td>\n",
       "      <td>3.00</td>\n",
       "      <td>BR</td>\n",
       "      <td>SC</td>\n",
       "      <td>Itapema</td>\n",
       "      <td>NaN</td>\n",
       "      <td>NaN</td>\n",
       "      <td>NaN</td>\n",
       "      <td>NaN</td>\n",
       "      <td>88220000.00</td>\n",
       "      <td>BR&gt;Santa Catarina&gt;NULL&gt;Itapema&gt;Barrios&gt;Meia Praia</td>\n",
       "      <td>cc5bc87d-b746-8b05-90f8-ef61f5020a69</td>\n",
       "      <td>FRANCA FERRAZ IMOBILIARIA</td>\n",
       "      <td>[\"4733630740\", \"47996961130\"]</td>\n",
       "      <td>47996961130.00</td>\n",
       "      <td>https://www.vivareal.com.br/116267/franca-ferr...</td>\n",
       "      <td>GRUPOZAP</td>\n",
       "      <td>2022-12-06 00:00:00.000</td>\n",
       "      <td>2022</td>\n",
       "      <td>12</td>\n",
       "      <td>6</td>\n",
       "    </tr>\n",
       "    <tr>\n",
       "      <th>2</th>\n",
       "      <td>2594648655</td>\n",
       "      <td>Apartamento com 4 Quartos à venda, 210m²</td>\n",
       "      <td>https://www.vivareal.com.br/imovel/apartamento...</td>\n",
       "      <td>USED</td>\n",
       "      <td>Apartamento à venda, Centro, Itapema, SC</td>\n",
       "      <td>Apartamento à Venda, 210m² por R$ 3.000.000. C...</td>\n",
       "      <td>[\"SALE\"]</td>\n",
       "      <td>APARTMENT</td>\n",
       "      <td>NaN</td>\n",
       "      <td>UNIT</td>\n",
       "      <td>RESIDENTIAL</td>\n",
       "      <td>3000000.00</td>\n",
       "      <td>NaN</td>\n",
       "      <td>NaN</td>\n",
       "      <td>NaN</td>\n",
       "      <td>NaN</td>\n",
       "      <td>[\"POOL\", \"BARBECUE_GRILL\", \"BALCONY\", \"AIR_CON...</td>\n",
       "      <td>210.00</td>\n",
       "      <td>210.00</td>\n",
       "      <td>4.00</td>\n",
       "      <td>4.00</td>\n",
       "      <td>1.00</td>\n",
       "      <td>4.00</td>\n",
       "      <td>BR</td>\n",
       "      <td>SC</td>\n",
       "      <td>Itapema</td>\n",
       "      <td>Centro</td>\n",
       "      <td>Avenida Nereu Ramos</td>\n",
       "      <td>579</td>\n",
       "      <td>NaN</td>\n",
       "      <td>88220000.00</td>\n",
       "      <td>BR&gt;Santa Catarina&gt;NULL&gt;Itapema&gt;Barrios&gt;Centro</td>\n",
       "      <td>ac9f84ae-1363-d2aa-1a6d-4adf1631539f</td>\n",
       "      <td>ARBO IMÓVEIS</td>\n",
       "      <td>[\"11999293012\"]</td>\n",
       "      <td>11999293012.00</td>\n",
       "      <td>https://www.vivareal.com.br/656548/arbo-imoveis/</td>\n",
       "      <td>GRUPOZAP</td>\n",
       "      <td>2022-12-06 00:00:00.000</td>\n",
       "      <td>2022</td>\n",
       "      <td>12</td>\n",
       "      <td>6</td>\n",
       "    </tr>\n",
       "    <tr>\n",
       "      <th>3</th>\n",
       "      <td>2578754365</td>\n",
       "      <td>Apartamento com 4 Quartos à venda, 213m²</td>\n",
       "      <td>https://www.vivareal.com.br/imovel/apartamento...</td>\n",
       "      <td>USED</td>\n",
       "      <td>Apartamento - Itapema SC</td>\n",
       "      <td>Apartamento à venda no Saint Laurent Residence...</td>\n",
       "      <td>[\"SALE\"]</td>\n",
       "      <td>APARTMENT</td>\n",
       "      <td>NaN</td>\n",
       "      <td>UNIT</td>\n",
       "      <td>RESIDENTIAL</td>\n",
       "      <td>3412500.00</td>\n",
       "      <td>NaN</td>\n",
       "      <td>NaN</td>\n",
       "      <td>NaN</td>\n",
       "      <td>NaN</td>\n",
       "      <td>[]</td>\n",
       "      <td>213.00</td>\n",
       "      <td>213.00</td>\n",
       "      <td>5.00</td>\n",
       "      <td>4.00</td>\n",
       "      <td>4.00</td>\n",
       "      <td>3.00</td>\n",
       "      <td>BR</td>\n",
       "      <td>SC</td>\n",
       "      <td>Itapema</td>\n",
       "      <td>Meia Praia</td>\n",
       "      <td>Rua 291</td>\n",
       "      <td>NaN</td>\n",
       "      <td>NaN</td>\n",
       "      <td>88220000.00</td>\n",
       "      <td>BR&gt;Santa Catarina&gt;NULL&gt;Itapema&gt;Barrios&gt;Meia Praia</td>\n",
       "      <td>ad814d8a-6f4f-9201-33b9-aa833063206a</td>\n",
       "      <td>Arlete Imóveis</td>\n",
       "      <td>[\"4733694218\"]</td>\n",
       "      <td>NaN</td>\n",
       "      <td>https://www.vivareal.com.br/620916/arlete-imov...</td>\n",
       "      <td>GRUPOZAP</td>\n",
       "      <td>2022-12-06 00:00:00.000</td>\n",
       "      <td>2022</td>\n",
       "      <td>12</td>\n",
       "      <td>6</td>\n",
       "    </tr>\n",
       "    <tr>\n",
       "      <th>4</th>\n",
       "      <td>2580894364</td>\n",
       "      <td>Apartamento com 3 Quartos à venda, 5000m²</td>\n",
       "      <td>https://www.vivareal.com.br/imovel/apartamento...</td>\n",
       "      <td>USED</td>\n",
       "      <td>Diferenciado apartamento com suíte em Balneário</td>\n",
       "      <td>Apartamento à Venda, 142960m² por R$ 3.127.000...</td>\n",
       "      <td>[\"SALE\"]</td>\n",
       "      <td>APARTMENT</td>\n",
       "      <td>NaN</td>\n",
       "      <td>UNIT</td>\n",
       "      <td>RESIDENTIAL</td>\n",
       "      <td>3127000.00</td>\n",
       "      <td>NaN</td>\n",
       "      <td>NaN</td>\n",
       "      <td>368.00</td>\n",
       "      <td>1182.00</td>\n",
       "      <td>[\"FURNISHED\", \"BARBECUE_GRILL\", \"ELEVATOR\", \"G...</td>\n",
       "      <td>5000.00</td>\n",
       "      <td>258.00</td>\n",
       "      <td>3.00</td>\n",
       "      <td>3.00</td>\n",
       "      <td>1.00</td>\n",
       "      <td>2.00</td>\n",
       "      <td>BR</td>\n",
       "      <td>SC</td>\n",
       "      <td>Itapema</td>\n",
       "      <td>Centro</td>\n",
       "      <td>NaN</td>\n",
       "      <td>NaN</td>\n",
       "      <td>NaN</td>\n",
       "      <td>88220000.00</td>\n",
       "      <td>BR&gt;Santa Catarina&gt;NULL&gt;Itapema&gt;Barrios&gt;Centro</td>\n",
       "      <td>589beebf-65a6-0d3e-4897-a0adece5395d</td>\n",
       "      <td>ARBO IMÓVEIS</td>\n",
       "      <td>[\"1140033793\", \"11999293012\"]</td>\n",
       "      <td>11999293012.00</td>\n",
       "      <td>https://www.vivareal.com.br/744943/arbo-imoveis/</td>\n",
       "      <td>GRUPOZAP</td>\n",
       "      <td>2022-12-06 00:00:00.000</td>\n",
       "      <td>2022</td>\n",
       "      <td>12</td>\n",
       "      <td>6</td>\n",
       "    </tr>\n",
       "  </tbody>\n",
       "</table>\n",
       "</div>"
      ],
      "text/plain": [
       "   listing_id                                  link_name                                           link_url listing_type                                      listing_title                                       listing_desc business_types  unit_type unit_subtype property_type   usage_type  sale_price  rental_price rental_period  yearly_iptu  monthly_condo_fee                                          amenities  usable_area  total_area  bathrooms  bedrooms  suites  parking_spaces address_country address_state address_city address_neighborhood       address_street address_street_number  address_complement  address_zipcode                                        location_id                         advertiser_id            advertiser_name              advertiser_phones  advertiser_whatsapp                                     advertiser_url    portal          aquisition_date   ano  mes  dia\n",
       "0  2570403797   Apartamento com 4 Quartos à venda, 187m²  https://www.vivareal.com.br/imovel/apartamento...         USED  Apartamento com 4 dormitórios à venda, 187 m² ...  Situado em uma das melhores regiões da Meia Pr...       [\"SALE\"]  APARTMENT          NaN          UNIT  RESIDENTIAL  2900000.00           NaN           NaN         0.00               0.00                           [\"ELEVATOR\", \"SEA_VIEW\"]       187.00      187.00       5.00      4.00    4.00            3.00              BR            SC      Itapema            Andorinha                  NaN                   NaN                 NaN      88220000.00  BR>Santa Catarina>NULL>Itapema>Barrios>Meia Praia  39507409-01f8-3935-dc38-e0fea684b44a             Winner Brokers                [\"44984349088\"]       44984349088.00  https://www.vivareal.com.br/770696/winner-brok...  GRUPOZAP  2022-12-06 00:00:00.000  2022   12    6\n",
       "1  2510420914   Apartamento com 4 Quartos à venda, 253m²  https://www.vivareal.com.br/imovel/apartamento...         USED     Apartamento com 4 suítes 3 vagas em Itapema SC  Apartamentos com 04 suítes, 03 vagas de garage...       [\"SALE\"]  APARTMENT          NaN          UNIT  RESIDENTIAL  3500000.00           NaN           NaN          NaN                NaN                             [\"KITCHEN\", \"BALCONY\"]       253.00      253.00       5.00      4.00    4.00            3.00              BR            SC      Itapema                  NaN                  NaN                   NaN                 NaN      88220000.00  BR>Santa Catarina>NULL>Itapema>Barrios>Meia Praia  cc5bc87d-b746-8b05-90f8-ef61f5020a69  FRANCA FERRAZ IMOBILIARIA  [\"4733630740\", \"47996961130\"]       47996961130.00  https://www.vivareal.com.br/116267/franca-ferr...  GRUPOZAP  2022-12-06 00:00:00.000  2022   12    6\n",
       "2  2594648655   Apartamento com 4 Quartos à venda, 210m²  https://www.vivareal.com.br/imovel/apartamento...         USED           Apartamento à venda, Centro, Itapema, SC  Apartamento à Venda, 210m² por R$ 3.000.000. C...       [\"SALE\"]  APARTMENT          NaN          UNIT  RESIDENTIAL  3000000.00           NaN           NaN          NaN                NaN  [\"POOL\", \"BARBECUE_GRILL\", \"BALCONY\", \"AIR_CON...       210.00      210.00       4.00      4.00    1.00            4.00              BR            SC      Itapema               Centro  Avenida Nereu Ramos                   579                 NaN      88220000.00      BR>Santa Catarina>NULL>Itapema>Barrios>Centro  ac9f84ae-1363-d2aa-1a6d-4adf1631539f               ARBO IMÓVEIS                [\"11999293012\"]       11999293012.00   https://www.vivareal.com.br/656548/arbo-imoveis/  GRUPOZAP  2022-12-06 00:00:00.000  2022   12    6\n",
       "3  2578754365   Apartamento com 4 Quartos à venda, 213m²  https://www.vivareal.com.br/imovel/apartamento...         USED                           Apartamento - Itapema SC  Apartamento à venda no Saint Laurent Residence...       [\"SALE\"]  APARTMENT          NaN          UNIT  RESIDENTIAL  3412500.00           NaN           NaN          NaN                NaN                                                 []       213.00      213.00       5.00      4.00    4.00            3.00              BR            SC      Itapema           Meia Praia              Rua 291                   NaN                 NaN      88220000.00  BR>Santa Catarina>NULL>Itapema>Barrios>Meia Praia  ad814d8a-6f4f-9201-33b9-aa833063206a             Arlete Imóveis                 [\"4733694218\"]                  NaN  https://www.vivareal.com.br/620916/arlete-imov...  GRUPOZAP  2022-12-06 00:00:00.000  2022   12    6\n",
       "4  2580894364  Apartamento com 3 Quartos à venda, 5000m²  https://www.vivareal.com.br/imovel/apartamento...         USED    Diferenciado apartamento com suíte em Balneário  Apartamento à Venda, 142960m² por R$ 3.127.000...       [\"SALE\"]  APARTMENT          NaN          UNIT  RESIDENTIAL  3127000.00           NaN           NaN       368.00            1182.00  [\"FURNISHED\", \"BARBECUE_GRILL\", \"ELEVATOR\", \"G...      5000.00      258.00       3.00      3.00    1.00            2.00              BR            SC      Itapema               Centro                  NaN                   NaN                 NaN      88220000.00      BR>Santa Catarina>NULL>Itapema>Barrios>Centro  589beebf-65a6-0d3e-4897-a0adece5395d               ARBO IMÓVEIS  [\"1140033793\", \"11999293012\"]       11999293012.00   https://www.vivareal.com.br/744943/arbo-imoveis/  GRUPOZAP  2022-12-06 00:00:00.000  2022   12    6"
      ]
     },
     "execution_count": 5,
     "metadata": {},
     "output_type": "execute_result"
    }
   ],
   "source": [
    "data_raw.head()"
   ]
  },
  {
   "cell_type": "code",
   "execution_count": 6,
   "id": "75a1970e",
   "metadata": {
    "ExecuteTime": {
     "end_time": "2023-01-30T21:57:48.198186Z",
     "start_time": "2023-01-30T21:57:48.190450Z"
    }
   },
   "outputs": [
    {
     "data": {
      "text/plain": [
       "Index(['listing_id', 'link_name', 'link_url', 'listing_type', 'listing_title',\n",
       "       'listing_desc', 'business_types', 'unit_type', 'unit_subtype',\n",
       "       'property_type', 'usage_type', 'sale_price', 'rental_price',\n",
       "       'rental_period', 'yearly_iptu', 'monthly_condo_fee', 'amenities',\n",
       "       'usable_area', 'total_area', 'bathrooms', 'bedrooms', 'suites',\n",
       "       'parking_spaces', 'address_country', 'address_state', 'address_city',\n",
       "       'address_neighborhood', 'address_street', 'address_street_number',\n",
       "       'address_complement', 'address_zipcode', 'location_id', 'advertiser_id',\n",
       "       'advertiser_name', 'advertiser_phones', 'advertiser_whatsapp',\n",
       "       'advertiser_url', 'portal', 'aquisition_date', 'ano', 'mes', 'dia'],\n",
       "      dtype='object')"
      ]
     },
     "execution_count": 6,
     "metadata": {},
     "output_type": "execute_result"
    }
   ],
   "source": [
    "data_raw.columns"
   ]
  },
  {
   "cell_type": "markdown",
   "id": "ff2b06fd",
   "metadata": {},
   "source": [
    "**Descrição das variáveis**\n",
    "\n",
    "**'listing_id':** Identificação\n",
    "\n",
    "**'link_name':** Descrição anuncio\n",
    "\n",
    "**'link_url':** url  \n",
    "\n",
    "**'listing_type':** idade  \n",
    "\n",
    "**'listing_title':** titulo do anuncio  \n",
    "\n",
    "**'listing_desc':** descrição completa do imóvel  \n",
    "\n",
    "**'business_types':** Venda - aluguel  \n",
    "\n",
    "**'unit_type':** Tipo de imóvel  \n",
    "\n",
    "**'unit_subtype':**  \n",
    "\n",
    "**'property_type':** residencial - comercial   \n",
    "\n",
    "**'usage_type':** utilização residencial - comercial  \n",
    "\n",
    "**'sale_price':** preço de venda  \n",
    "\n",
    "**'rental_price':** preço aluguel  \n",
    "\n",
    "**'rental_period':** periodo de aluguel  \n",
    "\n",
    "**'yearly_iptu':** valor do iptu  \n",
    "\n",
    "**'monthly_condo_fee':** taxa de condomínio  \n",
    "\n",
    "**'amenities':** comodidades  \n",
    "\n",
    "**'usable_area':** área util  \n",
    "\n",
    "**'total_area':** área total  \n",
    "\n",
    "**'bathrooms':** número banheiros  \n",
    "\n",
    "**'bedrooms':** número de quartos  \n",
    "\n",
    "**'suites':** número de suítes  \n",
    "\n",
    "**'parking_spaces':** número de vagas  \n",
    "\n",
    "**'address_country':** país  \n",
    "\n",
    "**'address_state':** estado  \n",
    "\n",
    "**'address_city':** cidade  \n",
    "\n",
    "**'address_neighborhood':** bairro  \n",
    "\n",
    "**'address_street':** endereço  \n",
    "\n",
    "**'address_street_number':** número do imóvel  \n",
    "\n",
    "**'address_complement':** complemento endereço  \n",
    "\n",
    "**'address_zipcode':** CEP  \n",
    "\n",
    "**'location_id':** localização  \n",
    "\n",
    "**'advertiser_id':** identificador anuncio    \n",
    "\n",
    "**'advertiser_name':** nome do anunciante  \n",
    "\n",
    "**'advertiser_phones':** telefone anunciante    \n",
    "\n",
    "**'advertiser_whatsapp':** whatsapp anunciante  \n",
    "\n",
    "**'advertiser_url':** url anunciante  \n",
    "\n",
    "**'portal':**  \n",
    "\n",
    "**'aquisition_date':** data da coleta da informação  \n",
    "\n",
    "**'ano':** ano da coleta coleta da informação  \n",
    "\n",
    "**'mes':** mes da coleta coleta da informação  \n",
    "\n",
    "**'dia':** dia da coleta da informação  \n"
   ]
  },
  {
   "cell_type": "markdown",
   "id": "c6a8f6c8",
   "metadata": {},
   "source": [
    "# 1.0 Data description"
   ]
  },
  {
   "cell_type": "code",
   "execution_count": 7,
   "id": "b91985bc",
   "metadata": {
    "ExecuteTime": {
     "end_time": "2023-01-30T21:57:48.211770Z",
     "start_time": "2023-01-30T21:57:48.201459Z"
    }
   },
   "outputs": [],
   "source": [
    "df1 = data_raw.copy()"
   ]
  },
  {
   "cell_type": "markdown",
   "id": "96989583",
   "metadata": {},
   "source": [
    "## 1.1 Data Dimension"
   ]
  },
  {
   "cell_type": "code",
   "execution_count": 8,
   "id": "9c9a5a38",
   "metadata": {
    "ExecuteTime": {
     "end_time": "2023-01-30T21:57:48.221824Z",
     "start_time": "2023-01-30T21:57:48.215544Z"
    }
   },
   "outputs": [
    {
     "name": "stdout",
     "output_type": "stream",
     "text": [
      "Numero de colunas do dataframe:  42 \n",
      "\n",
      "Numero de linhas do dataframe: 17547 \n"
     ]
    }
   ],
   "source": [
    "# Dimensão do dataframe e dimensionalidade\n",
    "print('Numero de colunas do dataframe:  {} '.format(df1.shape[1]) )\n",
    "print('\\nNumero de linhas do dataframe: {} '.format(df1.shape[0]) )"
   ]
  },
  {
   "cell_type": "markdown",
   "id": "31ac426b",
   "metadata": {},
   "source": [
    "## 1.2 Data Type"
   ]
  },
  {
   "cell_type": "code",
   "execution_count": 9,
   "id": "719f0ba8",
   "metadata": {
    "ExecuteTime": {
     "end_time": "2023-01-30T21:57:48.236705Z",
     "start_time": "2023-01-30T21:57:48.225696Z"
    }
   },
   "outputs": [
    {
     "data": {
      "text/plain": [
       "listing_id                 int64\n",
       "link_name                 object\n",
       "link_url                  object\n",
       "listing_type              object\n",
       "listing_title             object\n",
       "listing_desc              object\n",
       "business_types            object\n",
       "unit_type                 object\n",
       "unit_subtype              object\n",
       "property_type             object\n",
       "usage_type                object\n",
       "sale_price               float64\n",
       "rental_price             float64\n",
       "rental_period             object\n",
       "yearly_iptu              float64\n",
       "monthly_condo_fee        float64\n",
       "amenities                 object\n",
       "usable_area              float64\n",
       "total_area               float64\n",
       "bathrooms                float64\n",
       "bedrooms                 float64\n",
       "suites                   float64\n",
       "parking_spaces           float64\n",
       "address_country           object\n",
       "address_state             object\n",
       "address_city              object\n",
       "address_neighborhood      object\n",
       "address_street            object\n",
       "address_street_number     object\n",
       "address_complement       float64\n",
       "address_zipcode          float64\n",
       "location_id               object\n",
       "advertiser_id             object\n",
       "advertiser_name           object\n",
       "advertiser_phones         object\n",
       "advertiser_whatsapp      float64\n",
       "advertiser_url            object\n",
       "portal                    object\n",
       "aquisition_date           object\n",
       "ano                        int64\n",
       "mes                        int64\n",
       "dia                        int64\n",
       "dtype: object"
      ]
     },
     "execution_count": 9,
     "metadata": {},
     "output_type": "execute_result"
    }
   ],
   "source": [
    "df1.dtypes"
   ]
  },
  {
   "cell_type": "markdown",
   "id": "3c8509f4",
   "metadata": {
    "ExecuteTime": {
     "end_time": "2023-01-06T19:02:09.022051Z",
     "start_time": "2023-01-06T19:02:09.011759Z"
    }
   },
   "source": [
    "## 1.3 Check Na's"
   ]
  },
  {
   "cell_type": "code",
   "execution_count": 10,
   "id": "2eb69e9b",
   "metadata": {
    "ExecuteTime": {
     "end_time": "2023-01-30T21:57:48.371163Z",
     "start_time": "2023-01-30T21:57:48.245538Z"
    }
   },
   "outputs": [
    {
     "data": {
      "text/plain": [
       "listing_id                   0\n",
       "link_name                    0\n",
       "link_url                     0\n",
       "listing_type                 0\n",
       "listing_title               11\n",
       "listing_desc                95\n",
       "business_types               0\n",
       "unit_type                    0\n",
       "unit_subtype             17312\n",
       "property_type                0\n",
       "usage_type                   0\n",
       "sale_price                1127\n",
       "rental_price             16381\n",
       "rental_period            16381\n",
       "yearly_iptu               9938\n",
       "monthly_condo_fee         9894\n",
       "amenities                    0\n",
       "usable_area                  6\n",
       "total_area                2072\n",
       "bathrooms                   40\n",
       "bedrooms                    89\n",
       "suites                    1239\n",
       "parking_spaces             785\n",
       "address_country              0\n",
       "address_state                0\n",
       "address_city                 0\n",
       "address_neighborhood       942\n",
       "address_street            6735\n",
       "address_street_number     7199\n",
       "address_complement       17547\n",
       "address_zipcode             17\n",
       "location_id                  0\n",
       "advertiser_id                0\n",
       "advertiser_name              0\n",
       "advertiser_phones            0\n",
       "advertiser_whatsapp       1373\n",
       "advertiser_url               0\n",
       "portal                       0\n",
       "aquisition_date              0\n",
       "ano                          0\n",
       "mes                          0\n",
       "dia                          0\n",
       "dtype: int64"
      ]
     },
     "execution_count": 10,
     "metadata": {},
     "output_type": "execute_result"
    }
   ],
   "source": [
    "df1.isna().sum()"
   ]
  },
  {
   "cell_type": "markdown",
   "id": "5f73d4a1",
   "metadata": {},
   "source": [
    "## 1.4 Fill Na's"
   ]
  },
  {
   "cell_type": "code",
   "execution_count": 11,
   "id": "62309b3d",
   "metadata": {
    "ExecuteTime": {
     "end_time": "2023-01-30T21:57:49.905293Z",
     "start_time": "2023-01-30T21:57:48.375132Z"
    }
   },
   "outputs": [],
   "source": [
    "# listing_title               11\n",
    "df1.listing_title = df1.listing_title.apply(lambda x: 'no_description' if pd.isna(x) else x )\n",
    "\n",
    "# listing_desc                95\n",
    "df1.listing_desc = df1.listing_desc.apply(lambda x: 'no_description' if pd.isna(x) else x )\n",
    "\n",
    "# unit_subtype             17312\n",
    "df1['unit_subtype'] = df1['unit_subtype'].apply(lambda x: 'no_description' if pd.isna(x) else x )\n",
    "\n",
    "# sale_price                1127\n",
    "df1 = df1.loc[~( (df1['sale_price'].isna())&(df1['rental_price'].isna()) )]\n",
    "df1['sale_price'] = df1['sale_price'].apply(lambda x: 1 if pd.isna(x) else x )\n",
    "\n",
    "# rental_price             16381\n",
    "df1['rental_price'] = df1['rental_price'].apply(lambda x: 0 if pd.isna(x) else x )\n",
    "\n",
    "# rental_period            16381\n",
    "df1['rental_period'] = df1['rental_period'].apply(lambda x: 'venda' if pd.isna(x) else x )\n",
    "df1['rental_period'].unique()\n",
    "\n",
    "# yearly_iptu               9938\n",
    "df1['yearly_iptu'] = df1['yearly_iptu'].apply(lambda x: 0 if pd.isna(x) else x )\n",
    "\n",
    "# monthly_condo_fee         9894\n",
    "df1['monthly_condo_fee'] = df1['monthly_condo_fee'].apply(lambda x: 0 if pd.isna(x) else x )\n",
    "\n",
    "# usable_area                  6\n",
    "df1['usable_area'] = df1['usable_area'].apply(lambda x: 0 if pd.isna(x) else x )\n",
    "\n",
    "# total_area                2072\n",
    "df1['total_area'] =  df1['total_area'].apply(lambda x: 0 if pd.isna(x) else x )\n",
    "\n",
    "# bathrooms                   40\n",
    "df1['bathrooms'] = df1['bathrooms'].apply(lambda x: 0 if pd.isna(x) else x )\n",
    "\n",
    "# bedrooms                    89\n",
    "df1['bedrooms'] =df1['bedrooms'].apply(lambda x: 0 if pd.isna(x) else x )\n",
    "\n",
    "# suites                    1239\n",
    "regex4 = r'(\\d suite)'\n",
    "df1['suite2'] = df1['listing_desc'].apply(lambda x: (re.findall( regex4, x )))\n",
    "df1['suite2'] = df1['suite2'].apply(lambda x: ''.join(x) )\n",
    "df1['suite2'] = df1['suite2'].apply( lambda x: x[:1] )\n",
    "df1['suite2'] = df1['suite2'].apply(lambda x: '0' if x ==''else x).astype(int)\n",
    "df1['suites']  = df1.apply(lambda x: x['suite2'] if pd.isna(x['suites']) else x['suites'], axis = 1)\n",
    "\n",
    "# parking_spaces             785\n",
    "regex4 = r'(\\d vaga)'\n",
    "df1['parking_spaces2'] = df1['listing_desc'].apply(lambda x: (re.findall( regex4, x )))\n",
    "df1['parking_spaces2'] = df1['parking_spaces2'].apply(lambda x: ''.join(x) )\n",
    "df1['parking_spaces2'] = df1['parking_spaces2'].apply( lambda x: x[:1] )\n",
    "df1['parking_spaces2'] = df1['parking_spaces2'].apply(lambda x: '0' if x ==''else x).astype(int)\n",
    "df1['parking_spaces']  = df1.apply(lambda x: x['suite2'] if pd.isna(x['suites']) else x['suites'], axis = 1)\n",
    "\n",
    "# address_neighborhood       942\n",
    "df1['address_neighborhood']  = df1['address_neighborhood'].fillna('no_description')\n",
    "\n",
    "# address_street            6735\n",
    "df1['address_street']  = df1['address_street'].fillna('no_description')\n",
    "\n",
    "# address_street_number     7199\n",
    "df1['address_street_number']  = df1['address_street_number'].fillna('no_description')\n",
    "\n",
    "# address_complement       17547\n",
    "df1['address_complement']  = df1['address_complement'].fillna('no_description')\n",
    "\n",
    "# advertiser_whatsapp       1373\n",
    "df1['advertiser_whatsapp']  = df1['advertiser_whatsapp'].fillna(0)\n",
    "\n",
    "# address_zipcode             17\n",
    "df1['address_zipcode']  = df1['address_zipcode'].fillna(0)\n",
    "\n",
    "df1 = df1.drop(['suite2','parking_spaces2'], axis = 1)"
   ]
  },
  {
   "cell_type": "code",
   "execution_count": 12,
   "id": "0b52a567",
   "metadata": {
    "ExecuteTime": {
     "end_time": "2023-01-30T21:57:50.024161Z",
     "start_time": "2023-01-30T21:57:49.908201Z"
    }
   },
   "outputs": [
    {
     "data": {
      "text/plain": [
       "listing_id               0\n",
       "link_name                0\n",
       "link_url                 0\n",
       "listing_type             0\n",
       "listing_title            0\n",
       "listing_desc             0\n",
       "business_types           0\n",
       "unit_type                0\n",
       "unit_subtype             0\n",
       "property_type            0\n",
       "usage_type               0\n",
       "sale_price               0\n",
       "rental_price             0\n",
       "rental_period            0\n",
       "yearly_iptu              0\n",
       "monthly_condo_fee        0\n",
       "amenities                0\n",
       "usable_area              0\n",
       "total_area               0\n",
       "bathrooms                0\n",
       "bedrooms                 0\n",
       "suites                   0\n",
       "parking_spaces           0\n",
       "address_country          0\n",
       "address_state            0\n",
       "address_city             0\n",
       "address_neighborhood     0\n",
       "address_street           0\n",
       "address_street_number    0\n",
       "address_complement       0\n",
       "address_zipcode          0\n",
       "location_id              0\n",
       "advertiser_id            0\n",
       "advertiser_name          0\n",
       "advertiser_phones        0\n",
       "advertiser_whatsapp      0\n",
       "advertiser_url           0\n",
       "portal                   0\n",
       "aquisition_date          0\n",
       "ano                      0\n",
       "mes                      0\n",
       "dia                      0\n",
       "dtype: int64"
      ]
     },
     "execution_count": 12,
     "metadata": {},
     "output_type": "execute_result"
    }
   ],
   "source": [
    "df1.isna().sum()"
   ]
  },
  {
   "cell_type": "code",
   "execution_count": 13,
   "id": "6b045b49",
   "metadata": {
    "ExecuteTime": {
     "end_time": "2023-01-30T21:57:50.043511Z",
     "start_time": "2023-01-30T21:57:50.032070Z"
    }
   },
   "outputs": [
    {
     "data": {
      "text/plain": [
       "listing_id                 int64\n",
       "link_name                 object\n",
       "link_url                  object\n",
       "listing_type              object\n",
       "listing_title             object\n",
       "listing_desc              object\n",
       "business_types            object\n",
       "unit_type                 object\n",
       "unit_subtype              object\n",
       "property_type             object\n",
       "usage_type                object\n",
       "sale_price               float64\n",
       "rental_price             float64\n",
       "rental_period             object\n",
       "yearly_iptu              float64\n",
       "monthly_condo_fee        float64\n",
       "amenities                 object\n",
       "usable_area              float64\n",
       "total_area               float64\n",
       "bathrooms                float64\n",
       "bedrooms                 float64\n",
       "suites                   float64\n",
       "parking_spaces           float64\n",
       "address_country           object\n",
       "address_state             object\n",
       "address_city              object\n",
       "address_neighborhood      object\n",
       "address_street            object\n",
       "address_street_number     object\n",
       "address_complement        object\n",
       "address_zipcode          float64\n",
       "location_id               object\n",
       "advertiser_id             object\n",
       "advertiser_name           object\n",
       "advertiser_phones         object\n",
       "advertiser_whatsapp      float64\n",
       "advertiser_url            object\n",
       "portal                    object\n",
       "aquisition_date           object\n",
       "ano                        int64\n",
       "mes                        int64\n",
       "dia                        int64\n",
       "dtype: object"
      ]
     },
     "execution_count": 13,
     "metadata": {},
     "output_type": "execute_result"
    }
   ],
   "source": [
    "df1.dtypes"
   ]
  },
  {
   "cell_type": "markdown",
   "id": "e46e9a50",
   "metadata": {},
   "source": [
    "## 1.5 Change Type"
   ]
  },
  {
   "cell_type": "code",
   "execution_count": 14,
   "id": "216c9070",
   "metadata": {
    "ExecuteTime": {
     "end_time": "2023-01-30T21:57:50.075834Z",
     "start_time": "2023-01-30T21:57:50.047881Z"
    }
   },
   "outputs": [
    {
     "data": {
      "text/plain": [
       "0   2022-12-06\n",
       "1   2022-12-06\n",
       "2   2022-12-06\n",
       "3   2022-12-06\n",
       "4   2022-12-06\n",
       "Name: aquisition_date, dtype: datetime64[ns]"
      ]
     },
     "execution_count": 14,
     "metadata": {},
     "output_type": "execute_result"
    }
   ],
   "source": [
    "df1['aquisition_date'] = pd.to_datetime(df1['aquisition_date'])\n",
    "df1['aquisition_date'].head()"
   ]
  },
  {
   "cell_type": "code",
   "execution_count": 15,
   "id": "c8e91275",
   "metadata": {
    "ExecuteTime": {
     "end_time": "2023-01-30T21:57:50.085095Z",
     "start_time": "2023-01-30T21:57:50.079253Z"
    }
   },
   "outputs": [],
   "source": [
    "df1['bathrooms'] = df1['bathrooms'].astype(int)"
   ]
  },
  {
   "cell_type": "code",
   "execution_count": 16,
   "id": "21decff1",
   "metadata": {
    "ExecuteTime": {
     "end_time": "2023-01-30T21:57:50.094268Z",
     "start_time": "2023-01-30T21:57:50.088438Z"
    }
   },
   "outputs": [],
   "source": [
    "df1['bedrooms'] = df1['bedrooms'].astype(int)"
   ]
  },
  {
   "cell_type": "code",
   "execution_count": 17,
   "id": "3ecb6c15",
   "metadata": {
    "ExecuteTime": {
     "end_time": "2023-01-30T21:57:50.104651Z",
     "start_time": "2023-01-30T21:57:50.097619Z"
    }
   },
   "outputs": [],
   "source": [
    "df1['suites'] = df1['suites'].astype(int)"
   ]
  },
  {
   "cell_type": "code",
   "execution_count": 18,
   "id": "ee57dcf7",
   "metadata": {
    "ExecuteTime": {
     "end_time": "2023-01-30T21:57:50.116558Z",
     "start_time": "2023-01-30T21:57:50.108595Z"
    }
   },
   "outputs": [],
   "source": [
    "df1['parking_spaces'] = df1['parking_spaces'].astype(int)"
   ]
  },
  {
   "cell_type": "code",
   "execution_count": 19,
   "id": "0ed0faef",
   "metadata": {
    "ExecuteTime": {
     "end_time": "2023-01-30T21:57:50.127253Z",
     "start_time": "2023-01-30T21:57:50.122223Z"
    }
   },
   "outputs": [],
   "source": [
    "df1['address_zipcode'] = df1['address_zipcode'].astype(int)"
   ]
  },
  {
   "cell_type": "code",
   "execution_count": 20,
   "id": "0bda6ac0",
   "metadata": {
    "ExecuteTime": {
     "end_time": "2023-01-30T21:57:50.138255Z",
     "start_time": "2023-01-30T21:57:50.131097Z"
    }
   },
   "outputs": [],
   "source": [
    "df1['advertiser_whatsapp'] = df1['advertiser_whatsapp'].astype(int)"
   ]
  },
  {
   "cell_type": "markdown",
   "id": "9600d7a8",
   "metadata": {},
   "source": [
    "## 1.6 Descriptive Statistics"
   ]
  },
  {
   "cell_type": "code",
   "execution_count": 21,
   "id": "cfe11d07",
   "metadata": {
    "ExecuteTime": {
     "end_time": "2023-01-30T21:57:50.156261Z",
     "start_time": "2023-01-30T21:57:50.141826Z"
    }
   },
   "outputs": [
    {
     "data": {
      "text/plain": [
       "Index(['listing_id', 'sale_price', 'rental_price', 'yearly_iptu',\n",
       "       'monthly_condo_fee', 'usable_area', 'total_area', 'bathrooms',\n",
       "       'bedrooms', 'suites', 'parking_spaces', 'address_zipcode',\n",
       "       'advertiser_whatsapp', 'ano', 'mes', 'dia'],\n",
       "      dtype='object')"
      ]
     },
     "execution_count": 21,
     "metadata": {},
     "output_type": "execute_result"
    }
   ],
   "source": [
    "# numerical attributes\n",
    "num_attributes = df1.select_dtypes(include = ['int64','float64'])\n",
    "num_attributes.columns"
   ]
  },
  {
   "cell_type": "code",
   "execution_count": 22,
   "id": "b0f394ca",
   "metadata": {
    "ExecuteTime": {
     "end_time": "2023-01-30T21:57:50.194376Z",
     "start_time": "2023-01-30T21:57:50.162650Z"
    }
   },
   "outputs": [
    {
     "data": {
      "text/plain": [
       "Index(['link_name', 'link_url', 'listing_type', 'listing_title',\n",
       "       'listing_desc', 'business_types', 'unit_type', 'unit_subtype',\n",
       "       'property_type', 'usage_type', 'rental_period', 'amenities',\n",
       "       'address_country', 'address_state', 'address_city',\n",
       "       'address_neighborhood', 'address_street', 'address_street_number',\n",
       "       'address_complement', 'location_id', 'advertiser_id', 'advertiser_name',\n",
       "       'advertiser_phones', 'advertiser_url', 'portal'],\n",
       "      dtype='object')"
      ]
     },
     "execution_count": 22,
     "metadata": {},
     "output_type": "execute_result"
    }
   ],
   "source": [
    "# categorical categoricas\n",
    "cat_attributes = df1.select_dtypes( exclude = ['int64','float64','datetime64[ns]' ] )\n",
    "cat_attributes.columns"
   ]
  },
  {
   "cell_type": "markdown",
   "id": "855294b4",
   "metadata": {
    "ExecuteTime": {
     "end_time": "2023-01-06T22:39:17.337809Z",
     "start_time": "2023-01-06T22:39:17.331534Z"
    }
   },
   "source": [
    "### 1.6.1 Numerical Attributes"
   ]
  },
  {
   "cell_type": "code",
   "execution_count": 23,
   "id": "491e0366",
   "metadata": {
    "ExecuteTime": {
     "end_time": "2023-01-30T21:57:50.356460Z",
     "start_time": "2023-01-30T21:57:50.198500Z"
    }
   },
   "outputs": [
    {
     "data": {
      "text/html": [
       "<div>\n",
       "<style scoped>\n",
       "    .dataframe tbody tr th:only-of-type {\n",
       "        vertical-align: middle;\n",
       "    }\n",
       "\n",
       "    .dataframe tbody tr th {\n",
       "        vertical-align: top;\n",
       "    }\n",
       "\n",
       "    .dataframe thead th {\n",
       "        text-align: right;\n",
       "    }\n",
       "</style>\n",
       "<table border=\"1\" class=\"dataframe\">\n",
       "  <thead>\n",
       "    <tr style=\"text-align: right;\">\n",
       "      <th></th>\n",
       "      <th>attributes</th>\n",
       "      <th>min</th>\n",
       "      <th>max</th>\n",
       "      <th>range</th>\n",
       "      <th>mean</th>\n",
       "      <th>median</th>\n",
       "      <th>std</th>\n",
       "      <th>skew</th>\n",
       "      <th>kurtosis</th>\n",
       "    </tr>\n",
       "  </thead>\n",
       "  <tbody>\n",
       "    <tr>\n",
       "      <th>0</th>\n",
       "      <td>listing_id</td>\n",
       "      <td>74115762.00</td>\n",
       "      <td>2597569757.00</td>\n",
       "      <td>2523453995.00</td>\n",
       "      <td>2556205972.06</td>\n",
       "      <td>2575522589.50</td>\n",
       "      <td>130272220.11</td>\n",
       "      <td>-14.33</td>\n",
       "      <td>231.14</td>\n",
       "    </tr>\n",
       "    <tr>\n",
       "      <th>1</th>\n",
       "      <td>sale_price</td>\n",
       "      <td>1.00</td>\n",
       "      <td>134744000.00</td>\n",
       "      <td>134743999.00</td>\n",
       "      <td>2015032.67</td>\n",
       "      <td>1550000.00</td>\n",
       "      <td>2689734.01</td>\n",
       "      <td>18.70</td>\n",
       "      <td>753.27</td>\n",
       "    </tr>\n",
       "    <tr>\n",
       "      <th>2</th>\n",
       "      <td>rental_price</td>\n",
       "      <td>0.00</td>\n",
       "      <td>13000.00</td>\n",
       "      <td>13000.00</td>\n",
       "      <td>100.78</td>\n",
       "      <td>0.00</td>\n",
       "      <td>558.03</td>\n",
       "      <td>10.44</td>\n",
       "      <td>146.59</td>\n",
       "    </tr>\n",
       "    <tr>\n",
       "      <th>3</th>\n",
       "      <td>yearly_iptu</td>\n",
       "      <td>0.00</td>\n",
       "      <td>3151000.00</td>\n",
       "      <td>3151000.00</td>\n",
       "      <td>985.87</td>\n",
       "      <td>0.00</td>\n",
       "      <td>35190.22</td>\n",
       "      <td>65.42</td>\n",
       "      <td>4834.74</td>\n",
       "    </tr>\n",
       "    <tr>\n",
       "      <th>4</th>\n",
       "      <td>monthly_condo_fee</td>\n",
       "      <td>0.00</td>\n",
       "      <td>1365000.00</td>\n",
       "      <td>1365000.00</td>\n",
       "      <td>517.41</td>\n",
       "      <td>0.00</td>\n",
       "      <td>18387.73</td>\n",
       "      <td>59.57</td>\n",
       "      <td>3925.14</td>\n",
       "    </tr>\n",
       "    <tr>\n",
       "      <th>5</th>\n",
       "      <td>usable_area</td>\n",
       "      <td>0.00</td>\n",
       "      <td>50000.00</td>\n",
       "      <td>50000.00</td>\n",
       "      <td>184.15</td>\n",
       "      <td>135.00</td>\n",
       "      <td>823.78</td>\n",
       "      <td>37.95</td>\n",
       "      <td>1836.00</td>\n",
       "    </tr>\n",
       "    <tr>\n",
       "      <th>6</th>\n",
       "      <td>total_area</td>\n",
       "      <td>0.00</td>\n",
       "      <td>1321273.00</td>\n",
       "      <td>1321273.00</td>\n",
       "      <td>303.20</td>\n",
       "      <td>135.00</td>\n",
       "      <td>10982.08</td>\n",
       "      <td>108.07</td>\n",
       "      <td>12406.02</td>\n",
       "    </tr>\n",
       "    <tr>\n",
       "      <th>7</th>\n",
       "      <td>bathrooms</td>\n",
       "      <td>0.00</td>\n",
       "      <td>13.00</td>\n",
       "      <td>13.00</td>\n",
       "      <td>3.22</td>\n",
       "      <td>4.00</td>\n",
       "      <td>1.57</td>\n",
       "      <td>-0.06</td>\n",
       "      <td>-0.66</td>\n",
       "    </tr>\n",
       "    <tr>\n",
       "      <th>8</th>\n",
       "      <td>bedrooms</td>\n",
       "      <td>0.00</td>\n",
       "      <td>22.00</td>\n",
       "      <td>22.00</td>\n",
       "      <td>3.12</td>\n",
       "      <td>3.00</td>\n",
       "      <td>0.99</td>\n",
       "      <td>0.24</td>\n",
       "      <td>13.06</td>\n",
       "    </tr>\n",
       "    <tr>\n",
       "      <th>9</th>\n",
       "      <td>suites</td>\n",
       "      <td>0.00</td>\n",
       "      <td>9.00</td>\n",
       "      <td>9.00</td>\n",
       "      <td>2.53</td>\n",
       "      <td>3.00</td>\n",
       "      <td>1.41</td>\n",
       "      <td>-0.34</td>\n",
       "      <td>-0.96</td>\n",
       "    </tr>\n",
       "    <tr>\n",
       "      <th>10</th>\n",
       "      <td>parking_spaces</td>\n",
       "      <td>0.00</td>\n",
       "      <td>9.00</td>\n",
       "      <td>9.00</td>\n",
       "      <td>2.53</td>\n",
       "      <td>3.00</td>\n",
       "      <td>1.41</td>\n",
       "      <td>-0.34</td>\n",
       "      <td>-0.96</td>\n",
       "    </tr>\n",
       "    <tr>\n",
       "      <th>11</th>\n",
       "      <td>address_zipcode</td>\n",
       "      <td>0.00</td>\n",
       "      <td>88330970.00</td>\n",
       "      <td>88330970.00</td>\n",
       "      <td>88134466.90</td>\n",
       "      <td>88220000.00</td>\n",
       "      <td>2744836.64</td>\n",
       "      <td>-32.08</td>\n",
       "      <td>1027.29</td>\n",
       "    </tr>\n",
       "    <tr>\n",
       "      <th>12</th>\n",
       "      <td>advertiser_whatsapp</td>\n",
       "      <td>0.00</td>\n",
       "      <td>84992116837.00</td>\n",
       "      <td>84992116837.00</td>\n",
       "      <td>40829030167.88</td>\n",
       "      <td>47992129052.00</td>\n",
       "      <td>15804690524.30</td>\n",
       "      <td>-1.81</td>\n",
       "      <td>1.54</td>\n",
       "    </tr>\n",
       "    <tr>\n",
       "      <th>13</th>\n",
       "      <td>ano</td>\n",
       "      <td>2022.00</td>\n",
       "      <td>2022.00</td>\n",
       "      <td>0.00</td>\n",
       "      <td>2022.00</td>\n",
       "      <td>2022.00</td>\n",
       "      <td>0.00</td>\n",
       "      <td>0.00</td>\n",
       "      <td>0.00</td>\n",
       "    </tr>\n",
       "    <tr>\n",
       "      <th>14</th>\n",
       "      <td>mes</td>\n",
       "      <td>12.00</td>\n",
       "      <td>12.00</td>\n",
       "      <td>0.00</td>\n",
       "      <td>12.00</td>\n",
       "      <td>12.00</td>\n",
       "      <td>0.00</td>\n",
       "      <td>0.00</td>\n",
       "      <td>0.00</td>\n",
       "    </tr>\n",
       "    <tr>\n",
       "      <th>15</th>\n",
       "      <td>dia</td>\n",
       "      <td>6.00</td>\n",
       "      <td>6.00</td>\n",
       "      <td>0.00</td>\n",
       "      <td>6.00</td>\n",
       "      <td>6.00</td>\n",
       "      <td>0.00</td>\n",
       "      <td>0.00</td>\n",
       "      <td>0.00</td>\n",
       "    </tr>\n",
       "  </tbody>\n",
       "</table>\n",
       "</div>"
      ],
      "text/plain": [
       "             attributes         min            max          range           mean         median            std   skew  kurtosis\n",
       "0            listing_id 74115762.00  2597569757.00  2523453995.00  2556205972.06  2575522589.50   130272220.11 -14.33    231.14\n",
       "1            sale_price        1.00   134744000.00   134743999.00     2015032.67     1550000.00     2689734.01  18.70    753.27\n",
       "2          rental_price        0.00       13000.00       13000.00         100.78           0.00         558.03  10.44    146.59\n",
       "3           yearly_iptu        0.00     3151000.00     3151000.00         985.87           0.00       35190.22  65.42   4834.74\n",
       "4     monthly_condo_fee        0.00     1365000.00     1365000.00         517.41           0.00       18387.73  59.57   3925.14\n",
       "5           usable_area        0.00       50000.00       50000.00         184.15         135.00         823.78  37.95   1836.00\n",
       "6            total_area        0.00     1321273.00     1321273.00         303.20         135.00       10982.08 108.07  12406.02\n",
       "7             bathrooms        0.00          13.00          13.00           3.22           4.00           1.57  -0.06     -0.66\n",
       "8              bedrooms        0.00          22.00          22.00           3.12           3.00           0.99   0.24     13.06\n",
       "9                suites        0.00           9.00           9.00           2.53           3.00           1.41  -0.34     -0.96\n",
       "10       parking_spaces        0.00           9.00           9.00           2.53           3.00           1.41  -0.34     -0.96\n",
       "11      address_zipcode        0.00    88330970.00    88330970.00    88134466.90    88220000.00     2744836.64 -32.08   1027.29\n",
       "12  advertiser_whatsapp        0.00 84992116837.00 84992116837.00 40829030167.88 47992129052.00 15804690524.30  -1.81      1.54\n",
       "13                  ano     2022.00        2022.00           0.00        2022.00        2022.00           0.00   0.00      0.00\n",
       "14                  mes       12.00          12.00           0.00          12.00          12.00           0.00   0.00      0.00\n",
       "15                  dia        6.00           6.00           0.00           6.00           6.00           0.00   0.00      0.00"
      ]
     },
     "execution_count": 23,
     "metadata": {},
     "output_type": "execute_result"
    }
   ],
   "source": [
    "#Central Tendency 1 - mean\n",
    "ct1 = pd.DataFrame( num_attributes.apply( np.mean ) ).T\n",
    "\n",
    "#central Tendency 2 -median\n",
    "ct2 = pd.DataFrame( num_attributes.apply( np.median ) ).T\n",
    "\n",
    "#dispersion\n",
    "\n",
    "#standart Deviation std\n",
    "d1 = pd.DataFrame( num_attributes.apply( np.std ) ).T\n",
    "\n",
    "#minimal\n",
    "d2 = pd.DataFrame( num_attributes.apply( min ) ).T\n",
    "\n",
    "#maximal\n",
    "d3 = pd.DataFrame( num_attributes.apply( max ) ).T\n",
    "\n",
    "#range\n",
    "d4 = pd.DataFrame( num_attributes.apply( lambda x: x.max() - x.min() ) ).T\n",
    "\n",
    "#assimetria - Skew\n",
    "d5 = pd.DataFrame( num_attributes.apply( lambda x: x.skew() ) ).T\n",
    "\n",
    "#Curtose - Kurtosis\n",
    "d6 = pd.DataFrame( num_attributes.apply( lambda x: x.kurtosis() ) ).T\n",
    "\n",
    "\n",
    "#Table\n",
    "m = pd.concat( [ d2, d3, d4, ct1, ct2, d1, d5, d6 ] ).T.reset_index()\n",
    "m.columns = ['attributes','min','max','range','mean','median','std','skew','kurtosis']\n",
    "m"
   ]
  },
  {
   "cell_type": "code",
   "execution_count": null,
   "id": "6edec1ea",
   "metadata": {},
   "outputs": [],
   "source": []
  },
  {
   "cell_type": "markdown",
   "id": "862eeb13",
   "metadata": {},
   "source": [
    "### 1.6.2 Categorical Attributes"
   ]
  },
  {
   "cell_type": "code",
   "execution_count": 24,
   "id": "8187ae3c",
   "metadata": {
    "ExecuteTime": {
     "end_time": "2023-01-30T21:57:50.487660Z",
     "start_time": "2023-01-30T21:57:50.360265Z"
    }
   },
   "outputs": [
    {
     "data": {
      "text/plain": [
       "link_name                 1388\n",
       "link_url                 13792\n",
       "listing_type                 2\n",
       "listing_title             9032\n",
       "listing_desc             11535\n",
       "business_types               4\n",
       "unit_type                   18\n",
       "unit_subtype                13\n",
       "property_type                2\n",
       "usage_type                   2\n",
       "rental_period                3\n",
       "amenities                 6254\n",
       "address_country              1\n",
       "address_state                1\n",
       "address_city                 1\n",
       "address_neighborhood        30\n",
       "address_street             321\n",
       "address_street_number      829\n",
       "address_complement           1\n",
       "location_id                 20\n",
       "advertiser_id              489\n",
       "advertiser_name            483\n",
       "advertiser_phones          486\n",
       "advertiser_url             489\n",
       "portal                       2\n",
       "dtype: int64"
      ]
     },
     "execution_count": 24,
     "metadata": {},
     "output_type": "execute_result"
    }
   ],
   "source": [
    "#Analisys categorical atributes - sumary\n",
    "cat_attributes.apply( lambda x: x.unique().shape[0] )"
   ]
  },
  {
   "cell_type": "markdown",
   "id": "d9e29c41",
   "metadata": {},
   "source": [
    "# 2.0 Feature Engineering"
   ]
  },
  {
   "cell_type": "code",
   "execution_count": 25,
   "id": "dd80f18c",
   "metadata": {
    "ExecuteTime": {
     "end_time": "2023-01-30T21:57:50.495786Z",
     "start_time": "2023-01-30T21:57:50.491535Z"
    }
   },
   "outputs": [],
   "source": [
    "#df2 = df1.copy()"
   ]
  },
  {
   "cell_type": "markdown",
   "id": "fc8cde4b",
   "metadata": {},
   "source": [
    "# 3.0 Filtragem de Variáveis"
   ]
  },
  {
   "cell_type": "code",
   "execution_count": 26,
   "id": "3e7d5d06",
   "metadata": {
    "ExecuteTime": {
     "end_time": "2023-01-30T21:57:50.532883Z",
     "start_time": "2023-01-30T21:57:50.500234Z"
    }
   },
   "outputs": [],
   "source": [
    "df3 = df1.copy()"
   ]
  },
  {
   "cell_type": "code",
   "execution_count": 27,
   "id": "a7b5c89a",
   "metadata": {
    "ExecuteTime": {
     "end_time": "2023-01-30T21:57:50.561373Z",
     "start_time": "2023-01-30T21:57:50.536654Z"
    }
   },
   "outputs": [
    {
     "name": "stdout",
     "output_type": "stream",
     "text": [
      "Quantidade de imóveis anunciados duplicados: 3752\n"
     ]
    }
   ],
   "source": [
    "# quantidade de ids duplicados\n",
    "print('Quantidade de imóveis anunciados duplicados: {}'.format( (df3.shape[0])-(df3['listing_id'].unique().shape[0]) ) )\n",
    "\n",
    "# removendo ids duplicados\n",
    "df3 = df3.drop_duplicates(subset = 'listing_id',ignore_index=True)"
   ]
  },
  {
   "cell_type": "code",
   "execution_count": 28,
   "id": "f5aae591",
   "metadata": {
    "ExecuteTime": {
     "end_time": "2023-01-30T21:57:50.593856Z",
     "start_time": "2023-01-30T21:57:50.572266Z"
    }
   },
   "outputs": [],
   "source": [
    "# sale_price\n",
    "\n",
    "# remover valor max\n",
    "df3 = df3.loc[~(df3['sale_price']==134744000.00)].copy()"
   ]
  },
  {
   "cell_type": "code",
   "execution_count": 29,
   "id": "15da3e0c",
   "metadata": {
    "ExecuteTime": {
     "end_time": "2023-01-30T21:57:50.616253Z",
     "start_time": "2023-01-30T21:57:50.601320Z"
    }
   },
   "outputs": [],
   "source": [
    "# yearly_iptu\n",
    "df3['yearly_iptu'] = df3['yearly_iptu'].apply(lambda x: x/1000 if x>30000 else x)"
   ]
  },
  {
   "cell_type": "code",
   "execution_count": 30,
   "id": "6b3a38b6",
   "metadata": {
    "ExecuteTime": {
     "end_time": "2023-01-30T21:57:50.843560Z",
     "start_time": "2023-01-30T21:57:50.620786Z"
    }
   },
   "outputs": [],
   "source": [
    "# usable_area\n",
    "df3['usable_area'] = df3.apply( lambda x: 142.96 if x['listing_id']==2580894364  else x['usable_area'], axis = 1)"
   ]
  },
  {
   "cell_type": "code",
   "execution_count": 31,
   "id": "cfd2127b",
   "metadata": {
    "ExecuteTime": {
     "end_time": "2023-01-30T21:57:51.298744Z",
     "start_time": "2023-01-30T21:57:50.846138Z"
    }
   },
   "outputs": [],
   "source": [
    "# total_area\n",
    "df3['total_area'] = df3.apply(lambda x: x['usable_area'] if (x['total_area'] == 1321273.00) else x['total_area'], axis = 1)\n",
    "df3['total_area'] = df3.apply(lambda x: x['usable_area'] if (x['total_area'] == 69700.00) else x['total_area'], axis = 1)"
   ]
  },
  {
   "cell_type": "code",
   "execution_count": 32,
   "id": "4e530bc2",
   "metadata": {
    "ExecuteTime": {
     "end_time": "2023-01-30T21:57:51.317354Z",
     "start_time": "2023-01-30T21:57:51.301128Z"
    }
   },
   "outputs": [],
   "source": [
    "df3 = df3.loc[~(df3['total_area']==589875.00)]"
   ]
  },
  {
   "cell_type": "code",
   "execution_count": 33,
   "id": "0790ca76",
   "metadata": {
    "ExecuteTime": {
     "end_time": "2023-01-30T21:57:51.340020Z",
     "start_time": "2023-01-30T21:57:51.321249Z"
    }
   },
   "outputs": [],
   "source": [
    "# business_types\n",
    "df3['business_types'] = df3['business_types'].apply(lambda x: '[\"SALE\", \"RENTAL\"]' if x == '[\"RENTAL\", \"SALE\"]' else x)"
   ]
  },
  {
   "cell_type": "code",
   "execution_count": 34,
   "id": "bc4ecfa6",
   "metadata": {
    "ExecuteTime": {
     "end_time": "2023-01-30T21:57:51.350023Z",
     "start_time": "2023-01-30T21:57:51.344232Z"
    }
   },
   "outputs": [],
   "source": [
    "# separar datasets imóveis a venda e aluguel"
   ]
  },
  {
   "cell_type": "markdown",
   "id": "0482ad67",
   "metadata": {},
   "source": [
    "# 4.0 Exploratory Data Analysis -EDA"
   ]
  },
  {
   "cell_type": "code",
   "execution_count": 35,
   "id": "919bd0a4",
   "metadata": {
    "ExecuteTime": {
     "end_time": "2023-01-30T21:57:51.378215Z",
     "start_time": "2023-01-30T21:57:51.355182Z"
    }
   },
   "outputs": [],
   "source": [
    "df4 = df3.copy()"
   ]
  },
  {
   "cell_type": "markdown",
   "id": "7d1c3196",
   "metadata": {},
   "source": [
    "## 4.1 Cenário Bairro Centro - Itapema SC"
   ]
  },
  {
   "cell_type": "markdown",
   "id": "4ebd0a1a",
   "metadata": {},
   "source": [
    "### 4.1.1 Informações Apartamentos Bairro Centro"
   ]
  },
  {
   "cell_type": "code",
   "execution_count": 36,
   "id": "00e3f684",
   "metadata": {
    "ExecuteTime": {
     "end_time": "2023-01-30T21:57:51.395544Z",
     "start_time": "2023-01-30T21:57:51.381917Z"
    }
   },
   "outputs": [],
   "source": [
    "df_centro = df4.loc[(df4['address_neighborhood']=='Centro')&(df4['unit_type']=='APARTMENT')]"
   ]
  },
  {
   "cell_type": "code",
   "execution_count": 37,
   "id": "fee135ad",
   "metadata": {
    "ExecuteTime": {
     "end_time": "2023-01-30T21:57:51.406718Z",
     "start_time": "2023-01-30T21:57:51.399377Z"
    }
   },
   "outputs": [
    {
     "data": {
      "text/plain": [
       "(1276, 42)"
      ]
     },
     "execution_count": 37,
     "metadata": {},
     "output_type": "execute_result"
    }
   ],
   "source": [
    "# total de imóveis\n",
    "df_centro.shape"
   ]
  },
  {
   "cell_type": "markdown",
   "id": "9bb37b1b",
   "metadata": {},
   "source": [
    "#### Quartos"
   ]
  },
  {
   "cell_type": "code",
   "execution_count": 38,
   "id": "933a239e",
   "metadata": {
    "ExecuteTime": {
     "end_time": "2023-01-30T21:57:51.433445Z",
     "start_time": "2023-01-30T21:57:51.419052Z"
    }
   },
   "outputs": [
    {
     "data": {
      "text/plain": [
       "count   1276.00\n",
       "mean       3.43\n",
       "std        0.77\n",
       "min        1.00\n",
       "25%        3.00\n",
       "50%        3.00\n",
       "75%        4.00\n",
       "max        7.00\n",
       "Name: bedrooms, dtype: float64"
      ]
     },
     "execution_count": 38,
     "metadata": {},
     "output_type": "execute_result"
    }
   ],
   "source": [
    "df_centro['bedrooms'].describe()"
   ]
  },
  {
   "cell_type": "code",
   "execution_count": 39,
   "id": "ef3135d7",
   "metadata": {
    "ExecuteTime": {
     "end_time": "2023-01-30T21:57:52.021947Z",
     "start_time": "2023-01-30T21:57:51.437337Z"
    }
   },
   "outputs": [
    {
     "data": {
      "image/png": "[encoded data removed]",
      "text/plain": [
       "<Figure size 2500x1200 with 1 Axes>"
      ]
     },
     "metadata": {},
     "output_type": "display_data"
    }
   ],
   "source": [
    "# Número de quartos x Quantidade de imóveis\n",
    "sns.countplot(data = df_centro, x = 'bedrooms');\n",
    "fontdict={'fontsize': 24,\n",
    "        'fontweight' : 'book',\n",
    "        'verticalalignment': 'baseline',\n",
    "        'horizontalalignment': 'center'}\n",
    "plt.xlabel('Número de Quartos', fontsize = 20, fontweight = 'bold', color = 'black');\n",
    "plt.ylabel('Quantidade de imóveis', fontsize = 20, fontweight = 'bold', color = 'black');\n",
    "plt.title('Número de quartos x Quantidade de imóveis', fontdict = fontdict, color = 'black',position=(0.5,1));"
   ]
  },
  {
   "cell_type": "markdown",
   "id": "75d72515",
   "metadata": {},
   "source": [
    "#### Banheiros"
   ]
  },
  {
   "cell_type": "code",
   "execution_count": 40,
   "id": "7157fadf",
   "metadata": {
    "ExecuteTime": {
     "end_time": "2023-01-30T21:57:52.040670Z",
     "start_time": "2023-01-30T21:57:52.025251Z"
    }
   },
   "outputs": [
    {
     "data": {
      "text/plain": [
       "count   1276.00\n",
       "mean       3.62\n",
       "std        1.53\n",
       "min        1.00\n",
       "25%        3.00\n",
       "50%        4.00\n",
       "75%        5.00\n",
       "max        9.00\n",
       "Name: bathrooms, dtype: float64"
      ]
     },
     "execution_count": 40,
     "metadata": {},
     "output_type": "execute_result"
    }
   ],
   "source": [
    "df_centro['bathrooms'].describe()"
   ]
  },
  {
   "cell_type": "code",
   "execution_count": 41,
   "id": "0c2cc971",
   "metadata": {
    "ExecuteTime": {
     "end_time": "2023-01-30T21:57:52.668490Z",
     "start_time": "2023-01-30T21:57:52.046998Z"
    }
   },
   "outputs": [
    {
     "data": {
      "image/png": "[encoded data removed]",
      "text/plain": [
       "<Figure size 2500x1200 with 1 Axes>"
      ]
     },
     "metadata": {},
     "output_type": "display_data"
    }
   ],
   "source": [
    "# Número de banheiros x Quantidade de imóveis\n",
    "sns.countplot(data = df_centro, x = 'bathrooms');\n",
    "fontdict={'fontsize': 24,\n",
    "        'fontweight' : 'book',\n",
    "        'verticalalignment': 'baseline',\n",
    "        'horizontalalignment': 'center'}\n",
    "plt.xlabel('Número de banheiros', fontsize = 20, fontweight = 'bold', color = 'black');\n",
    "plt.ylabel('Quantidade de imóveis', fontsize = 20, fontweight = 'bold', color = 'black');\n",
    "plt.title('Número de banheiros x Quantidade de imóveis', fontdict = fontdict, color = 'black',position=(0.5,1));"
   ]
  },
  {
   "cell_type": "markdown",
   "id": "bc5f0067",
   "metadata": {},
   "source": [
    "#### Área apartamento"
   ]
  },
  {
   "cell_type": "code",
   "execution_count": 42,
   "id": "b4cb1caa",
   "metadata": {
    "ExecuteTime": {
     "end_time": "2023-01-30T21:57:52.691259Z",
     "start_time": "2023-01-30T21:57:52.672124Z"
    }
   },
   "outputs": [
    {
     "data": {
      "text/plain": [
       "count   1276.00\n",
       "mean     171.46\n",
       "std       87.36\n",
       "min       14.00\n",
       "25%      120.75\n",
       "50%      149.00\n",
       "75%      197.00\n",
       "max      815.00\n",
       "Name: usable_area, dtype: float64"
      ]
     },
     "execution_count": 42,
     "metadata": {},
     "output_type": "execute_result"
    }
   ],
   "source": [
    "df_centro['usable_area'].describe()"
   ]
  },
  {
   "cell_type": "code",
   "execution_count": 43,
   "id": "9d12ec1d",
   "metadata": {
    "ExecuteTime": {
     "end_time": "2023-01-30T21:57:52.743902Z",
     "start_time": "2023-01-30T21:57:52.698803Z"
    }
   },
   "outputs": [
    {
     "data": {
      "text/html": [
       "<div>\n",
       "<style scoped>\n",
       "    .dataframe tbody tr th:only-of-type {\n",
       "        vertical-align: middle;\n",
       "    }\n",
       "\n",
       "    .dataframe tbody tr th {\n",
       "        vertical-align: top;\n",
       "    }\n",
       "\n",
       "    .dataframe thead th {\n",
       "        text-align: right;\n",
       "    }\n",
       "</style>\n",
       "<table border=\"1\" class=\"dataframe\">\n",
       "  <thead>\n",
       "    <tr style=\"text-align: right;\">\n",
       "      <th></th>\n",
       "      <th>usable_area</th>\n",
       "      <th>bathrooms</th>\n",
       "      <th>bedrooms</th>\n",
       "      <th>parking_spaces</th>\n",
       "    </tr>\n",
       "  </thead>\n",
       "  <tbody>\n",
       "    <tr>\n",
       "      <th>count</th>\n",
       "      <td>1276.00</td>\n",
       "      <td>1276.00</td>\n",
       "      <td>1276.00</td>\n",
       "      <td>1276.00</td>\n",
       "    </tr>\n",
       "    <tr>\n",
       "      <th>mean</th>\n",
       "      <td>171.46</td>\n",
       "      <td>3.62</td>\n",
       "      <td>3.43</td>\n",
       "      <td>3.08</td>\n",
       "    </tr>\n",
       "    <tr>\n",
       "      <th>std</th>\n",
       "      <td>87.36</td>\n",
       "      <td>1.53</td>\n",
       "      <td>0.77</td>\n",
       "      <td>1.21</td>\n",
       "    </tr>\n",
       "    <tr>\n",
       "      <th>min</th>\n",
       "      <td>14.00</td>\n",
       "      <td>1.00</td>\n",
       "      <td>1.00</td>\n",
       "      <td>0.00</td>\n",
       "    </tr>\n",
       "    <tr>\n",
       "      <th>25%</th>\n",
       "      <td>120.75</td>\n",
       "      <td>3.00</td>\n",
       "      <td>3.00</td>\n",
       "      <td>3.00</td>\n",
       "    </tr>\n",
       "    <tr>\n",
       "      <th>50%</th>\n",
       "      <td>149.00</td>\n",
       "      <td>4.00</td>\n",
       "      <td>3.00</td>\n",
       "      <td>3.00</td>\n",
       "    </tr>\n",
       "    <tr>\n",
       "      <th>75%</th>\n",
       "      <td>197.00</td>\n",
       "      <td>5.00</td>\n",
       "      <td>4.00</td>\n",
       "      <td>4.00</td>\n",
       "    </tr>\n",
       "    <tr>\n",
       "      <th>max</th>\n",
       "      <td>815.00</td>\n",
       "      <td>9.00</td>\n",
       "      <td>7.00</td>\n",
       "      <td>7.00</td>\n",
       "    </tr>\n",
       "  </tbody>\n",
       "</table>\n",
       "</div>"
      ],
      "text/plain": [
       "       usable_area  bathrooms  bedrooms  parking_spaces\n",
       "count      1276.00    1276.00   1276.00         1276.00\n",
       "mean        171.46       3.62      3.43            3.08\n",
       "std          87.36       1.53      0.77            1.21\n",
       "min          14.00       1.00      1.00            0.00\n",
       "25%         120.75       3.00      3.00            3.00\n",
       "50%         149.00       4.00      3.00            3.00\n",
       "75%         197.00       5.00      4.00            4.00\n",
       "max         815.00       9.00      7.00            7.00"
      ]
     },
     "execution_count": 43,
     "metadata": {},
     "output_type": "execute_result"
    }
   ],
   "source": [
    "df_centro[['usable_area','bathrooms','bedrooms','parking_spaces']].describe()"
   ]
  },
  {
   "cell_type": "markdown",
   "id": "37bb14cd",
   "metadata": {
    "ExecuteTime": {
     "end_time": "2023-01-09T14:35:28.599380Z",
     "start_time": "2023-01-09T14:35:28.588091Z"
    }
   },
   "source": [
    "* A área util média dos aptos corresponde: 171.46 metros quadrados\n",
    "* A área util mediana dos aptos corresponde: 149.0 metros quadrados"
   ]
  },
  {
   "cell_type": "code",
   "execution_count": 44,
   "id": "ed16d19a",
   "metadata": {
    "ExecuteTime": {
     "end_time": "2023-01-30T21:57:53.515248Z",
     "start_time": "2023-01-30T21:57:52.747939Z"
    }
   },
   "outputs": [
    {
     "data": {
      "image/png": "[encoded data removed]",
      "text/plain": [
       "<Figure size 2500x1200 with 1 Axes>"
      ]
     },
     "metadata": {},
     "output_type": "display_data"
    }
   ],
   "source": [
    "# Área apartamento x Quantidade de imóveis\n",
    "sns.histplot(data = df_centro, x = 'usable_area');\n",
    "fontdict={'fontsize': 24,\n",
    "        'fontweight' : 'book',\n",
    "        'verticalalignment': 'baseline',\n",
    "        'horizontalalignment': 'center'}\n",
    "plt.xlabel('Área do apartamento', fontsize = 20, fontweight = 'bold', color = 'black');\n",
    "plt.ylabel('Quantidade de imóveis', fontsize = 20, fontweight = 'bold', color = 'black');\n",
    "plt.title('Área do apartamento x Quantidade de imóveis', fontdict = fontdict, color = 'black',position=(0.5,1));"
   ]
  },
  {
   "cell_type": "code",
   "execution_count": 45,
   "id": "c3d2efbe",
   "metadata": {
    "ExecuteTime": {
     "end_time": "2023-01-30T21:57:53.533208Z",
     "start_time": "2023-01-30T21:57:53.520641Z"
    }
   },
   "outputs": [
    {
     "data": {
      "text/plain": [
       "3   0.40\n",
       "4   0.37\n",
       "1   0.09\n",
       "2   0.06\n",
       "0   0.05\n",
       "5   0.02\n",
       "6   0.01\n",
       "7   0.00\n",
       "Name: parking_spaces, dtype: float64"
      ]
     },
     "execution_count": 45,
     "metadata": {},
     "output_type": "execute_result"
    }
   ],
   "source": [
    "# vagas de garagem\n",
    "df_centro['parking_spaces'].value_counts(normalize=True)"
   ]
  },
  {
   "cell_type": "markdown",
   "id": "7cbd272c",
   "metadata": {},
   "source": [
    "**Dos apartamentos de 3 quartos com 2 banheiros localizados no Centro possuem:**\n",
    "* 40% possuem 3 vagas de garagem.\n",
    "* 37% possuem 4 vagas de garagem.\n",
    "* 9%  possuem 1 vaga de garagem.\n",
    "* 6%  possuem 2 vagas de garagem."
   ]
  },
  {
   "cell_type": "code",
   "execution_count": 46,
   "id": "6d7d0070",
   "metadata": {
    "ExecuteTime": {
     "end_time": "2023-01-30T21:57:54.219507Z",
     "start_time": "2023-01-30T21:57:53.538114Z"
    }
   },
   "outputs": [
    {
     "data": {
      "image/png": "[encoded data removed]",
      "text/plain": [
       "<Figure size 2500x1200 with 1 Axes>"
      ]
     },
     "metadata": {},
     "output_type": "display_data"
    }
   ],
   "source": [
    "# Número de garagens x Quantidade de imóveis\n",
    "sns.countplot(data = df_centro, x = 'parking_spaces');\n",
    "fontdict={'fontsize': 24,\n",
    "        'fontweight' : 'book',\n",
    "        'verticalalignment': 'baseline',\n",
    "        'horizontalalignment': 'center'}\n",
    "plt.xlabel('Número de garagens', fontsize = 20, fontweight = 'bold', color = 'black');\n",
    "plt.ylabel('Quantidade de imóveis', fontsize = 20, fontweight = 'bold', color = 'black');\n",
    "plt.title('Número de garagens x Quantidade de imóveis', fontdict = fontdict, color = 'black',position=(0.5,1));"
   ]
  },
  {
   "cell_type": "markdown",
   "id": "75f58506",
   "metadata": {},
   "source": [
    "### 4.1.2 Informações Apto 3 quartos 2 banheiros - Bairro Centro"
   ]
  },
  {
   "cell_type": "code",
   "execution_count": 47,
   "id": "18ec4681",
   "metadata": {
    "ExecuteTime": {
     "end_time": "2023-01-30T21:57:54.244984Z",
     "start_time": "2023-01-30T21:57:54.225501Z"
    }
   },
   "outputs": [],
   "source": [
    "df_centro = pd.DataFrame()\n",
    "# Filtrando dados \n",
    "df_centro = ( df4.loc[(df4['address_neighborhood']=='Centro')&(df4['bedrooms']==3)&\n",
    "                      (df4['bathrooms']==2)&(df4['unit_type']=='APARTMENT')].copy() )"
   ]
  },
  {
   "cell_type": "code",
   "execution_count": 48,
   "id": "e6a84b7f",
   "metadata": {
    "ExecuteTime": {
     "end_time": "2023-01-30T21:57:54.260285Z",
     "start_time": "2023-01-30T21:57:54.252192Z"
    }
   },
   "outputs": [
    {
     "data": {
      "text/plain": [
       "(40, 42)"
      ]
     },
     "execution_count": 48,
     "metadata": {},
     "output_type": "execute_result"
    }
   ],
   "source": [
    "# total de imóveis com esse perfil\n",
    "df_centro.shape"
   ]
  },
  {
   "cell_type": "code",
   "execution_count": 49,
   "id": "a408d9df",
   "metadata": {
    "ExecuteTime": {
     "end_time": "2023-01-30T21:57:54.342856Z",
     "start_time": "2023-01-30T21:57:54.265871Z"
    }
   },
   "outputs": [
    {
     "data": {
      "text/html": [
       "<div>\n",
       "<style scoped>\n",
       "    .dataframe tbody tr th:only-of-type {\n",
       "        vertical-align: middle;\n",
       "    }\n",
       "\n",
       "    .dataframe tbody tr th {\n",
       "        vertical-align: top;\n",
       "    }\n",
       "\n",
       "    .dataframe thead th {\n",
       "        text-align: right;\n",
       "    }\n",
       "</style>\n",
       "<table border=\"1\" class=\"dataframe\">\n",
       "  <thead>\n",
       "    <tr style=\"text-align: right;\">\n",
       "      <th></th>\n",
       "      <th>listing_id</th>\n",
       "      <th>link_name</th>\n",
       "      <th>link_url</th>\n",
       "      <th>listing_type</th>\n",
       "      <th>listing_title</th>\n",
       "      <th>listing_desc</th>\n",
       "      <th>business_types</th>\n",
       "      <th>unit_type</th>\n",
       "      <th>unit_subtype</th>\n",
       "      <th>property_type</th>\n",
       "      <th>usage_type</th>\n",
       "      <th>sale_price</th>\n",
       "      <th>rental_price</th>\n",
       "      <th>rental_period</th>\n",
       "      <th>yearly_iptu</th>\n",
       "      <th>monthly_condo_fee</th>\n",
       "      <th>amenities</th>\n",
       "      <th>usable_area</th>\n",
       "      <th>total_area</th>\n",
       "      <th>bathrooms</th>\n",
       "      <th>bedrooms</th>\n",
       "      <th>suites</th>\n",
       "      <th>parking_spaces</th>\n",
       "      <th>address_country</th>\n",
       "      <th>address_state</th>\n",
       "      <th>address_city</th>\n",
       "      <th>address_neighborhood</th>\n",
       "      <th>address_street</th>\n",
       "      <th>address_street_number</th>\n",
       "      <th>address_complement</th>\n",
       "      <th>address_zipcode</th>\n",
       "      <th>location_id</th>\n",
       "      <th>advertiser_id</th>\n",
       "      <th>advertiser_name</th>\n",
       "      <th>advertiser_phones</th>\n",
       "      <th>advertiser_whatsapp</th>\n",
       "      <th>advertiser_url</th>\n",
       "      <th>portal</th>\n",
       "      <th>aquisition_date</th>\n",
       "      <th>ano</th>\n",
       "      <th>mes</th>\n",
       "      <th>dia</th>\n",
       "    </tr>\n",
       "  </thead>\n",
       "  <tbody>\n",
       "    <tr>\n",
       "      <th>132</th>\n",
       "      <td>2591986699</td>\n",
       "      <td>Apartamento com 3 Quartos à venda, 115m²</td>\n",
       "      <td>https://www.vivareal.com.br/imovel/apartamento...</td>\n",
       "      <td>USED</td>\n",
       "      <td>Apartamento no Hely elena com 3 dorm e 115m, O...</td>\n",
       "      <td>Apartamento 3 dormitorios frente Mar,em Itapem...</td>\n",
       "      <td>[\"SALE\"]</td>\n",
       "      <td>APARTMENT</td>\n",
       "      <td>no_description</td>\n",
       "      <td>UNIT</td>\n",
       "      <td>RESIDENTIAL</td>\n",
       "      <td>1679840.00</td>\n",
       "      <td>0.00</td>\n",
       "      <td>venda</td>\n",
       "      <td>1200.00</td>\n",
       "      <td>800.00</td>\n",
       "      <td>[\"BARBECUE_GRILL\", \"ELEVATOR\", \"GOURMET_SPACE\"...</td>\n",
       "      <td>115.00</td>\n",
       "      <td>115.00</td>\n",
       "      <td>2</td>\n",
       "      <td>3</td>\n",
       "      <td>1</td>\n",
       "      <td>1</td>\n",
       "      <td>BR</td>\n",
       "      <td>SC</td>\n",
       "      <td>Itapema</td>\n",
       "      <td>Centro</td>\n",
       "      <td>Avenida Nereu Ramos</td>\n",
       "      <td>100</td>\n",
       "      <td>no_description</td>\n",
       "      <td>88220000</td>\n",
       "      <td>BR&gt;Santa Catarina&gt;NULL&gt;Itapema&gt;Barrios&gt;Centro</td>\n",
       "      <td>0fb716c4-073a-b274-60a8-3640b2458f46</td>\n",
       "      <td>USUÁRIO NEWCORE</td>\n",
       "      <td>[\"11958196257\"]</td>\n",
       "      <td>11958196257</td>\n",
       "      <td>https://www.vivareal.com.br/234940/usuario-new...</td>\n",
       "      <td>GRUPOZAP</td>\n",
       "      <td>2022-12-06</td>\n",
       "      <td>2022</td>\n",
       "      <td>12</td>\n",
       "      <td>6</td>\n",
       "    </tr>\n",
       "    <tr>\n",
       "      <th>185</th>\n",
       "      <td>2594196109</td>\n",
       "      <td>Apartamento com 3 Quartos à venda, 135m²</td>\n",
       "      <td>https://www.vivareal.com.br/imovel/apartamento...</td>\n",
       "      <td>USED</td>\n",
       "      <td>Apartamento no Residencial São Francisco de As...</td>\n",
       "      <td>Quadra Mar&lt;br&gt;Vista para o mar&lt;br&gt;Andar alto&lt;b...</td>\n",
       "      <td>[\"SALE\"]</td>\n",
       "      <td>APARTMENT</td>\n",
       "      <td>no_description</td>\n",
       "      <td>UNIT</td>\n",
       "      <td>RESIDENTIAL</td>\n",
       "      <td>1699600.00</td>\n",
       "      <td>0.00</td>\n",
       "      <td>venda</td>\n",
       "      <td>2890.00</td>\n",
       "      <td>0.00</td>\n",
       "      <td>[\"BARBECUE_GRILL\", \"PARTY_HALL\", \"ELEVATOR\"]</td>\n",
       "      <td>135.00</td>\n",
       "      <td>135.00</td>\n",
       "      <td>2</td>\n",
       "      <td>3</td>\n",
       "      <td>1</td>\n",
       "      <td>1</td>\n",
       "      <td>BR</td>\n",
       "      <td>SC</td>\n",
       "      <td>Itapema</td>\n",
       "      <td>Centro</td>\n",
       "      <td>Avenida Beira Mar</td>\n",
       "      <td>100</td>\n",
       "      <td>no_description</td>\n",
       "      <td>88220000</td>\n",
       "      <td>BR&gt;Santa Catarina&gt;NULL&gt;Itapema&gt;Barrios&gt;Meia Praia</td>\n",
       "      <td>0fb716c4-073a-b274-60a8-3640b2458f46</td>\n",
       "      <td>USUÁRIO NEWCORE</td>\n",
       "      <td>[\"11958196257\"]</td>\n",
       "      <td>11958196257</td>\n",
       "      <td>https://www.vivareal.com.br/234940/usuario-new...</td>\n",
       "      <td>GRUPOZAP</td>\n",
       "      <td>2022-12-06</td>\n",
       "      <td>2022</td>\n",
       "      <td>12</td>\n",
       "      <td>6</td>\n",
       "    </tr>\n",
       "    <tr>\n",
       "      <th>1765</th>\n",
       "      <td>2537463146</td>\n",
       "      <td>Apartamento com 3 Quartos à venda, 101m²</td>\n",
       "      <td>https://www.vivareal.com.br/imovel/apartamento...</td>\n",
       "      <td>USED</td>\n",
       "      <td>APARTAMENTO A VENDA NO EDIFÍCIO ROYAL GARDEN I...</td>\n",
       "      <td>Valor à vista R$ 839.500,00&lt;br&gt;Valor parcelado...</td>\n",
       "      <td>[\"SALE\"]</td>\n",
       "      <td>APARTMENT</td>\n",
       "      <td>no_description</td>\n",
       "      <td>UNIT</td>\n",
       "      <td>RESIDENTIAL</td>\n",
       "      <td>839000.00</td>\n",
       "      <td>0.00</td>\n",
       "      <td>venda</td>\n",
       "      <td>0.00</td>\n",
       "      <td>0.00</td>\n",
       "      <td>[\"BARBECUE_GRILL\", \"ELEVATOR\", \"BALCONY\", \"GYM...</td>\n",
       "      <td>101.00</td>\n",
       "      <td>140.00</td>\n",
       "      <td>2</td>\n",
       "      <td>3</td>\n",
       "      <td>1</td>\n",
       "      <td>1</td>\n",
       "      <td>BR</td>\n",
       "      <td>SC</td>\n",
       "      <td>Itapema</td>\n",
       "      <td>Centro</td>\n",
       "      <td>Rua 121</td>\n",
       "      <td>no_description</td>\n",
       "      <td>no_description</td>\n",
       "      <td>88220000</td>\n",
       "      <td>BR&gt;Santa Catarina&gt;NULL&gt;Itapema&gt;Barrios&gt;Centro</td>\n",
       "      <td>c33c1d33-3282-b51f-ae43-cca22d554052</td>\n",
       "      <td>Imóveis MMD Ltda ME</td>\n",
       "      <td>[\"4733678181\", \"47999181250\"]</td>\n",
       "      <td>47999181250</td>\n",
       "      <td>https://www.vivareal.com.br/126358/imoveis-mmd...</td>\n",
       "      <td>GRUPOZAP</td>\n",
       "      <td>2022-12-06</td>\n",
       "      <td>2022</td>\n",
       "      <td>12</td>\n",
       "      <td>6</td>\n",
       "    </tr>\n",
       "    <tr>\n",
       "      <th>1777</th>\n",
       "      <td>2566981325</td>\n",
       "      <td>Apartamento com 3 Quartos à venda, 105m²</td>\n",
       "      <td>https://www.vivareal.com.br/imovel/apartamento...</td>\n",
       "      <td>USED</td>\n",
       "      <td>Apartamento pronto 3 dormitórios Centro Itapem...</td>\n",
       "      <td>Apartamento pronto para morar no Centro de Ita...</td>\n",
       "      <td>[\"SALE\"]</td>\n",
       "      <td>APARTMENT</td>\n",
       "      <td>no_description</td>\n",
       "      <td>UNIT</td>\n",
       "      <td>RESIDENTIAL</td>\n",
       "      <td>839500.00</td>\n",
       "      <td>0.00</td>\n",
       "      <td>venda</td>\n",
       "      <td>0.00</td>\n",
       "      <td>0.00</td>\n",
       "      <td>[\"KITCHEN\", \"BALCONY\"]</td>\n",
       "      <td>105.00</td>\n",
       "      <td>185.00</td>\n",
       "      <td>2</td>\n",
       "      <td>3</td>\n",
       "      <td>1</td>\n",
       "      <td>1</td>\n",
       "      <td>BR</td>\n",
       "      <td>SC</td>\n",
       "      <td>Itapema</td>\n",
       "      <td>Centro</td>\n",
       "      <td>no_description</td>\n",
       "      <td>no_description</td>\n",
       "      <td>no_description</td>\n",
       "      <td>88220000</td>\n",
       "      <td>BR&gt;Santa Catarina&gt;NULL&gt;Itapema&gt;Barrios&gt;Centro</td>\n",
       "      <td>cc5bc87d-b746-8b05-90f8-ef61f5020a69</td>\n",
       "      <td>FRANCA FERRAZ IMOBILIARIA</td>\n",
       "      <td>[\"4733630740\", \"47996961130\"]</td>\n",
       "      <td>47996961130</td>\n",
       "      <td>https://www.vivareal.com.br/116267/franca-ferr...</td>\n",
       "      <td>GRUPOZAP</td>\n",
       "      <td>2022-12-06</td>\n",
       "      <td>2022</td>\n",
       "      <td>12</td>\n",
       "      <td>6</td>\n",
       "    </tr>\n",
       "    <tr>\n",
       "      <th>3306</th>\n",
       "      <td>2594046968</td>\n",
       "      <td>Apartamento com 3 Quartos à venda, 100m²</td>\n",
       "      <td>https://www.vivareal.com.br/imovel/apartamento...</td>\n",
       "      <td>USED</td>\n",
       "      <td>Apartamento no Edifício Royal Garden em Itapema</td>\n",
       "      <td>ÓTIMA LOCALIZAÇÃO - Apartamento no Edifício Ro...</td>\n",
       "      <td>[\"SALE\"]</td>\n",
       "      <td>APARTMENT</td>\n",
       "      <td>no_description</td>\n",
       "      <td>UNIT</td>\n",
       "      <td>RESIDENTIAL</td>\n",
       "      <td>795000.00</td>\n",
       "      <td>0.00</td>\n",
       "      <td>venda</td>\n",
       "      <td>0.00</td>\n",
       "      <td>0.00</td>\n",
       "      <td>[\"POOL\", \"BARBECUE_GRILL\", \"ELEVATOR\", \"BALCON...</td>\n",
       "      <td>100.00</td>\n",
       "      <td>100.00</td>\n",
       "      <td>2</td>\n",
       "      <td>3</td>\n",
       "      <td>1</td>\n",
       "      <td>1</td>\n",
       "      <td>BR</td>\n",
       "      <td>SC</td>\n",
       "      <td>Itapema</td>\n",
       "      <td>Centro</td>\n",
       "      <td>Rua 121</td>\n",
       "      <td>55</td>\n",
       "      <td>no_description</td>\n",
       "      <td>88220000</td>\n",
       "      <td>BR&gt;Santa Catarina&gt;NULL&gt;Itapema&gt;Barrios&gt;Centro</td>\n",
       "      <td>b9662d53-836d-02dd-a511-6cfbe8463dc0</td>\n",
       "      <td>Imobille Negócios Imobiliários</td>\n",
       "      <td>[\"4721256500\", \"47991801111\"]</td>\n",
       "      <td>47991801111</td>\n",
       "      <td>https://www.vivareal.com.br/82690/imobille-neg...</td>\n",
       "      <td>GRUPOZAP</td>\n",
       "      <td>2022-12-06</td>\n",
       "      <td>2022</td>\n",
       "      <td>12</td>\n",
       "      <td>6</td>\n",
       "    </tr>\n",
       "  </tbody>\n",
       "</table>\n",
       "</div>"
      ],
      "text/plain": [
       "      listing_id                                 link_name                                           link_url listing_type                                      listing_title                                       listing_desc business_types  unit_type    unit_subtype property_type   usage_type  sale_price  rental_price rental_period  yearly_iptu  monthly_condo_fee                                          amenities  usable_area  total_area  bathrooms  bedrooms  suites  parking_spaces address_country address_state address_city address_neighborhood       address_street address_street_number address_complement  address_zipcode                                        location_id                         advertiser_id                 advertiser_name              advertiser_phones  advertiser_whatsapp                                     advertiser_url    portal aquisition_date   ano  mes  dia\n",
       "132   2591986699  Apartamento com 3 Quartos à venda, 115m²  https://www.vivareal.com.br/imovel/apartamento...         USED  Apartamento no Hely elena com 3 dorm e 115m, O...  Apartamento 3 dormitorios frente Mar,em Itapem...       [\"SALE\"]  APARTMENT  no_description          UNIT  RESIDENTIAL  1679840.00          0.00         venda      1200.00             800.00  [\"BARBECUE_GRILL\", \"ELEVATOR\", \"GOURMET_SPACE\"...       115.00      115.00          2         3       1               1              BR            SC      Itapema               Centro  Avenida Nereu Ramos                   100     no_description         88220000      BR>Santa Catarina>NULL>Itapema>Barrios>Centro  0fb716c4-073a-b274-60a8-3640b2458f46                 USUÁRIO NEWCORE                [\"11958196257\"]          11958196257  https://www.vivareal.com.br/234940/usuario-new...  GRUPOZAP      2022-12-06  2022   12    6\n",
       "185   2594196109  Apartamento com 3 Quartos à venda, 135m²  https://www.vivareal.com.br/imovel/apartamento...         USED  Apartamento no Residencial São Francisco de As...  Quadra Mar<br>Vista para o mar<br>Andar alto<b...       [\"SALE\"]  APARTMENT  no_description          UNIT  RESIDENTIAL  1699600.00          0.00         venda      2890.00               0.00       [\"BARBECUE_GRILL\", \"PARTY_HALL\", \"ELEVATOR\"]       135.00      135.00          2         3       1               1              BR            SC      Itapema               Centro    Avenida Beira Mar                   100     no_description         88220000  BR>Santa Catarina>NULL>Itapema>Barrios>Meia Praia  0fb716c4-073a-b274-60a8-3640b2458f46                 USUÁRIO NEWCORE                [\"11958196257\"]          11958196257  https://www.vivareal.com.br/234940/usuario-new...  GRUPOZAP      2022-12-06  2022   12    6\n",
       "1765  2537463146  Apartamento com 3 Quartos à venda, 101m²  https://www.vivareal.com.br/imovel/apartamento...         USED  APARTAMENTO A VENDA NO EDIFÍCIO ROYAL GARDEN I...  Valor à vista R$ 839.500,00<br>Valor parcelado...       [\"SALE\"]  APARTMENT  no_description          UNIT  RESIDENTIAL   839000.00          0.00         venda         0.00               0.00  [\"BARBECUE_GRILL\", \"ELEVATOR\", \"BALCONY\", \"GYM...       101.00      140.00          2         3       1               1              BR            SC      Itapema               Centro              Rua 121        no_description     no_description         88220000      BR>Santa Catarina>NULL>Itapema>Barrios>Centro  c33c1d33-3282-b51f-ae43-cca22d554052             Imóveis MMD Ltda ME  [\"4733678181\", \"47999181250\"]          47999181250  https://www.vivareal.com.br/126358/imoveis-mmd...  GRUPOZAP      2022-12-06  2022   12    6\n",
       "1777  2566981325  Apartamento com 3 Quartos à venda, 105m²  https://www.vivareal.com.br/imovel/apartamento...         USED  Apartamento pronto 3 dormitórios Centro Itapem...  Apartamento pronto para morar no Centro de Ita...       [\"SALE\"]  APARTMENT  no_description          UNIT  RESIDENTIAL   839500.00          0.00         venda         0.00               0.00                             [\"KITCHEN\", \"BALCONY\"]       105.00      185.00          2         3       1               1              BR            SC      Itapema               Centro       no_description        no_description     no_description         88220000      BR>Santa Catarina>NULL>Itapema>Barrios>Centro  cc5bc87d-b746-8b05-90f8-ef61f5020a69       FRANCA FERRAZ IMOBILIARIA  [\"4733630740\", \"47996961130\"]          47996961130  https://www.vivareal.com.br/116267/franca-ferr...  GRUPOZAP      2022-12-06  2022   12    6\n",
       "3306  2594046968  Apartamento com 3 Quartos à venda, 100m²  https://www.vivareal.com.br/imovel/apartamento...         USED    Apartamento no Edifício Royal Garden em Itapema  ÓTIMA LOCALIZAÇÃO - Apartamento no Edifício Ro...       [\"SALE\"]  APARTMENT  no_description          UNIT  RESIDENTIAL   795000.00          0.00         venda         0.00               0.00  [\"POOL\", \"BARBECUE_GRILL\", \"ELEVATOR\", \"BALCON...       100.00      100.00          2         3       1               1              BR            SC      Itapema               Centro              Rua 121                    55     no_description         88220000      BR>Santa Catarina>NULL>Itapema>Barrios>Centro  b9662d53-836d-02dd-a511-6cfbe8463dc0  Imobille Negócios Imobiliários  [\"4721256500\", \"47991801111\"]          47991801111  https://www.vivareal.com.br/82690/imobille-neg...  GRUPOZAP      2022-12-06  2022   12    6"
      ]
     },
     "execution_count": 49,
     "metadata": {},
     "output_type": "execute_result"
    }
   ],
   "source": [
    "df_centro.head()"
   ]
  },
  {
   "cell_type": "code",
   "execution_count": 50,
   "id": "498176f1",
   "metadata": {
    "ExecuteTime": {
     "end_time": "2023-01-30T21:57:54.368180Z",
     "start_time": "2023-01-30T21:57:54.349057Z"
    }
   },
   "outputs": [
    {
     "data": {
      "text/plain": [
       "count    40.00\n",
       "mean    117.97\n",
       "std      26.36\n",
       "min      84.00\n",
       "25%     100.00\n",
       "50%     113.00\n",
       "75%     128.25\n",
       "max     220.00\n",
       "Name: usable_area, dtype: float64"
      ]
     },
     "execution_count": 50,
     "metadata": {},
     "output_type": "execute_result"
    }
   ],
   "source": [
    "# area dos apartamentos 3 com 2 banheiros disponiveis\n",
    "df_centro['usable_area'].describe()"
   ]
  },
  {
   "cell_type": "markdown",
   "id": "38935fc4",
   "metadata": {},
   "source": [
    "* A área util média dos aptos de 3 quartos com 2 banheiros corresponde: 117.97 metros quadrados\n",
    "* A área util mediana dos aptos de 3 quartos com 2 banheiros corresponde: 113.0 metros quadrados"
   ]
  },
  {
   "cell_type": "code",
   "execution_count": 51,
   "id": "9edf73ab",
   "metadata": {
    "ExecuteTime": {
     "end_time": "2023-01-30T21:57:54.389254Z",
     "start_time": "2023-01-30T21:57:54.374649Z"
    }
   },
   "outputs": [
    {
     "data": {
      "text/plain": [
       "1   0.88\n",
       "0   0.07\n",
       "2   0.05\n",
       "Name: parking_spaces, dtype: float64"
      ]
     },
     "execution_count": 51,
     "metadata": {},
     "output_type": "execute_result"
    }
   ],
   "source": [
    "# vagas de garagem\n",
    "df_centro['parking_spaces'].value_counts(normalize=True)"
   ]
  },
  {
   "cell_type": "markdown",
   "id": "d6010b05",
   "metadata": {},
   "source": [
    "**Dos apartamentos de 3 quartos com 2 banheiros localizados no Centro possuem:**\n",
    "* 88% possuem 1 vaga de garagem.\n",
    "* 5%  possuem 2 vagas de garagem.\n",
    "* 7%  não possuem vaga de garagem."
   ]
  },
  {
   "cell_type": "markdown",
   "id": "8b947511",
   "metadata": {},
   "source": [
    "## 4.2 Cenário Lote / casas disponíveis no bairro Centro"
   ]
  },
  {
   "cell_type": "code",
   "execution_count": 52,
   "id": "96bf4b4d",
   "metadata": {
    "ExecuteTime": {
     "end_time": "2023-01-30T21:57:54.407095Z",
     "start_time": "2023-01-30T21:57:54.394252Z"
    }
   },
   "outputs": [
    {
     "data": {
      "text/plain": [
       "array(['[\"SALE\"]', '[\"SALE\", \"RENTAL\"]', '[\"RENTAL\"]'], dtype=object)"
      ]
     },
     "execution_count": 52,
     "metadata": {},
     "output_type": "execute_result"
    }
   ],
   "source": [
    "df4['business_types'].unique()"
   ]
  },
  {
   "cell_type": "code",
   "execution_count": 53,
   "id": "a10c5a90",
   "metadata": {
    "ExecuteTime": {
     "end_time": "2023-01-30T21:57:54.441237Z",
     "start_time": "2023-01-30T21:57:54.412774Z"
    }
   },
   "outputs": [],
   "source": [
    "df_lote = df4.loc[ (df4['business_types']=='[\"SALE\"]')&( (df4['unit_type']=='RESIDENTIAL_ALLOTMENT_LAND') | (df4['unit_type']== 'ALLOTMENT_LAND') | (df4['unit_type']== 'HOME'))].copy()"
   ]
  },
  {
   "cell_type": "code",
   "execution_count": 54,
   "id": "c21613cc",
   "metadata": {
    "ExecuteTime": {
     "end_time": "2023-01-30T21:57:54.464250Z",
     "start_time": "2023-01-30T21:57:54.455426Z"
    }
   },
   "outputs": [
    {
     "data": {
      "text/plain": [
       "(726, 42)"
      ]
     },
     "execution_count": 54,
     "metadata": {},
     "output_type": "execute_result"
    }
   ],
   "source": [
    "df_lote.shape"
   ]
  },
  {
   "cell_type": "code",
   "execution_count": 55,
   "id": "8763e64b",
   "metadata": {
    "ExecuteTime": {
     "end_time": "2023-01-30T21:57:54.596522Z",
     "start_time": "2023-01-30T21:57:54.469957Z"
    }
   },
   "outputs": [
    {
     "data": {
      "text/html": [
       "<div>\n",
       "<style scoped>\n",
       "    .dataframe tbody tr th:only-of-type {\n",
       "        vertical-align: middle;\n",
       "    }\n",
       "\n",
       "    .dataframe tbody tr th {\n",
       "        vertical-align: top;\n",
       "    }\n",
       "\n",
       "    .dataframe thead th {\n",
       "        text-align: right;\n",
       "    }\n",
       "</style>\n",
       "<table border=\"1\" class=\"dataframe\">\n",
       "  <thead>\n",
       "    <tr style=\"text-align: right;\">\n",
       "      <th></th>\n",
       "      <th>count</th>\n",
       "      <th>mean</th>\n",
       "      <th>std</th>\n",
       "      <th>min</th>\n",
       "      <th>25%</th>\n",
       "      <th>50%</th>\n",
       "      <th>75%</th>\n",
       "      <th>max</th>\n",
       "    </tr>\n",
       "  </thead>\n",
       "  <tbody>\n",
       "    <tr>\n",
       "      <th>listing_id</th>\n",
       "      <td>726.00</td>\n",
       "      <td>2556421089.37</td>\n",
       "      <td>147564566.82</td>\n",
       "      <td>74121422.00</td>\n",
       "      <td>2560636954.50</td>\n",
       "      <td>2568574730.00</td>\n",
       "      <td>2583772213.00</td>\n",
       "      <td>2597486872.00</td>\n",
       "    </tr>\n",
       "    <tr>\n",
       "      <th>sale_price</th>\n",
       "      <td>726.00</td>\n",
       "      <td>2411289.43</td>\n",
       "      <td>6904672.59</td>\n",
       "      <td>175000.00</td>\n",
       "      <td>449000.00</td>\n",
       "      <td>550000.00</td>\n",
       "      <td>1260225.00</td>\n",
       "      <td>79500000.00</td>\n",
       "    </tr>\n",
       "    <tr>\n",
       "      <th>rental_price</th>\n",
       "      <td>726.00</td>\n",
       "      <td>0.00</td>\n",
       "      <td>0.00</td>\n",
       "      <td>0.00</td>\n",
       "      <td>0.00</td>\n",
       "      <td>0.00</td>\n",
       "      <td>0.00</td>\n",
       "      <td>0.00</td>\n",
       "    </tr>\n",
       "    <tr>\n",
       "      <th>yearly_iptu</th>\n",
       "      <td>726.00</td>\n",
       "      <td>415.92</td>\n",
       "      <td>1422.01</td>\n",
       "      <td>0.00</td>\n",
       "      <td>0.00</td>\n",
       "      <td>0.00</td>\n",
       "      <td>500.00</td>\n",
       "      <td>15000.00</td>\n",
       "    </tr>\n",
       "    <tr>\n",
       "      <th>monthly_condo_fee</th>\n",
       "      <td>726.00</td>\n",
       "      <td>30.15</td>\n",
       "      <td>183.91</td>\n",
       "      <td>0.00</td>\n",
       "      <td>0.00</td>\n",
       "      <td>0.00</td>\n",
       "      <td>0.00</td>\n",
       "      <td>2000.00</td>\n",
       "    </tr>\n",
       "    <tr>\n",
       "      <th>usable_area</th>\n",
       "      <td>726.00</td>\n",
       "      <td>474.74</td>\n",
       "      <td>1881.82</td>\n",
       "      <td>0.00</td>\n",
       "      <td>86.25</td>\n",
       "      <td>116.00</td>\n",
       "      <td>288.00</td>\n",
       "      <td>25000.00</td>\n",
       "    </tr>\n",
       "    <tr>\n",
       "      <th>total_area</th>\n",
       "      <td>726.00</td>\n",
       "      <td>500.59</td>\n",
       "      <td>1905.02</td>\n",
       "      <td>0.00</td>\n",
       "      <td>80.00</td>\n",
       "      <td>120.00</td>\n",
       "      <td>300.00</td>\n",
       "      <td>25000.00</td>\n",
       "    </tr>\n",
       "    <tr>\n",
       "      <th>bathrooms</th>\n",
       "      <td>726.00</td>\n",
       "      <td>1.98</td>\n",
       "      <td>1.59</td>\n",
       "      <td>0.00</td>\n",
       "      <td>1.00</td>\n",
       "      <td>2.00</td>\n",
       "      <td>3.00</td>\n",
       "      <td>9.00</td>\n",
       "    </tr>\n",
       "    <tr>\n",
       "      <th>bedrooms</th>\n",
       "      <td>726.00</td>\n",
       "      <td>2.12</td>\n",
       "      <td>1.51</td>\n",
       "      <td>0.00</td>\n",
       "      <td>2.00</td>\n",
       "      <td>2.00</td>\n",
       "      <td>3.00</td>\n",
       "      <td>10.00</td>\n",
       "    </tr>\n",
       "    <tr>\n",
       "      <th>suites</th>\n",
       "      <td>726.00</td>\n",
       "      <td>0.96</td>\n",
       "      <td>1.22</td>\n",
       "      <td>0.00</td>\n",
       "      <td>0.00</td>\n",
       "      <td>1.00</td>\n",
       "      <td>2.00</td>\n",
       "      <td>6.00</td>\n",
       "    </tr>\n",
       "    <tr>\n",
       "      <th>parking_spaces</th>\n",
       "      <td>726.00</td>\n",
       "      <td>0.96</td>\n",
       "      <td>1.22</td>\n",
       "      <td>0.00</td>\n",
       "      <td>0.00</td>\n",
       "      <td>1.00</td>\n",
       "      <td>2.00</td>\n",
       "      <td>6.00</td>\n",
       "    </tr>\n",
       "    <tr>\n",
       "      <th>address_zipcode</th>\n",
       "      <td>726.00</td>\n",
       "      <td>88219775.21</td>\n",
       "      <td>1845.75</td>\n",
       "      <td>88200000.00</td>\n",
       "      <td>88220000.00</td>\n",
       "      <td>88220000.00</td>\n",
       "      <td>88220000.00</td>\n",
       "      <td>88220972.00</td>\n",
       "    </tr>\n",
       "    <tr>\n",
       "      <th>advertiser_whatsapp</th>\n",
       "      <td>726.00</td>\n",
       "      <td>41328248599.68</td>\n",
       "      <td>15768482988.32</td>\n",
       "      <td>0.00</td>\n",
       "      <td>47991351378.75</td>\n",
       "      <td>47996284031.00</td>\n",
       "      <td>47997347886.00</td>\n",
       "      <td>71992018959.00</td>\n",
       "    </tr>\n",
       "    <tr>\n",
       "      <th>ano</th>\n",
       "      <td>726.00</td>\n",
       "      <td>2022.00</td>\n",
       "      <td>0.00</td>\n",
       "      <td>2022.00</td>\n",
       "      <td>2022.00</td>\n",
       "      <td>2022.00</td>\n",
       "      <td>2022.00</td>\n",
       "      <td>2022.00</td>\n",
       "    </tr>\n",
       "    <tr>\n",
       "      <th>mes</th>\n",
       "      <td>726.00</td>\n",
       "      <td>12.00</td>\n",
       "      <td>0.00</td>\n",
       "      <td>12.00</td>\n",
       "      <td>12.00</td>\n",
       "      <td>12.00</td>\n",
       "      <td>12.00</td>\n",
       "      <td>12.00</td>\n",
       "    </tr>\n",
       "    <tr>\n",
       "      <th>dia</th>\n",
       "      <td>726.00</td>\n",
       "      <td>6.00</td>\n",
       "      <td>0.00</td>\n",
       "      <td>6.00</td>\n",
       "      <td>6.00</td>\n",
       "      <td>6.00</td>\n",
       "      <td>6.00</td>\n",
       "      <td>6.00</td>\n",
       "    </tr>\n",
       "  </tbody>\n",
       "</table>\n",
       "</div>"
      ],
      "text/plain": [
       "                     count           mean            std         min            25%            50%            75%            max\n",
       "listing_id          726.00  2556421089.37   147564566.82 74121422.00  2560636954.50  2568574730.00  2583772213.00  2597486872.00\n",
       "sale_price          726.00     2411289.43     6904672.59   175000.00      449000.00      550000.00     1260225.00    79500000.00\n",
       "rental_price        726.00           0.00           0.00        0.00           0.00           0.00           0.00           0.00\n",
       "yearly_iptu         726.00         415.92        1422.01        0.00           0.00           0.00         500.00       15000.00\n",
       "monthly_condo_fee   726.00          30.15         183.91        0.00           0.00           0.00           0.00        2000.00\n",
       "usable_area         726.00         474.74        1881.82        0.00          86.25         116.00         288.00       25000.00\n",
       "total_area          726.00         500.59        1905.02        0.00          80.00         120.00         300.00       25000.00\n",
       "bathrooms           726.00           1.98           1.59        0.00           1.00           2.00           3.00           9.00\n",
       "bedrooms            726.00           2.12           1.51        0.00           2.00           2.00           3.00          10.00\n",
       "suites              726.00           0.96           1.22        0.00           0.00           1.00           2.00           6.00\n",
       "parking_spaces      726.00           0.96           1.22        0.00           0.00           1.00           2.00           6.00\n",
       "address_zipcode     726.00    88219775.21        1845.75 88200000.00    88220000.00    88220000.00    88220000.00    88220972.00\n",
       "advertiser_whatsapp 726.00 41328248599.68 15768482988.32        0.00 47991351378.75 47996284031.00 47997347886.00 71992018959.00\n",
       "ano                 726.00        2022.00           0.00     2022.00        2022.00        2022.00        2022.00        2022.00\n",
       "mes                 726.00          12.00           0.00       12.00          12.00          12.00          12.00          12.00\n",
       "dia                 726.00           6.00           0.00        6.00           6.00           6.00           6.00           6.00"
      ]
     },
     "execution_count": 55,
     "metadata": {},
     "output_type": "execute_result"
    }
   ],
   "source": [
    "df_lote.describe().T"
   ]
  },
  {
   "cell_type": "code",
   "execution_count": 56,
   "id": "a71b490e",
   "metadata": {
    "ExecuteTime": {
     "end_time": "2023-01-30T21:57:54.613719Z",
     "start_time": "2023-01-30T21:57:54.602625Z"
    }
   },
   "outputs": [
    {
     "data": {
      "text/plain": [
       "Morretes                   325\n",
       "Meia Praia                 106\n",
       "Sertão do Trombudo          50\n",
       "Alto São Bento              39\n",
       "Canto da Praia              38\n",
       "Centro                      36\n",
       "Ilhota                      30\n",
       "Casa Branca                 28\n",
       "no_description              25\n",
       "Varzea                      15\n",
       "Jardim Praia Mar            11\n",
       "Tabuleiro dos Oliveiras      9\n",
       "Andorinha                    7\n",
       "Sertãozinho                  4\n",
       "Castelo Branco               3\n",
       "Name: address_neighborhood, dtype: int64"
      ]
     },
     "execution_count": 56,
     "metadata": {},
     "output_type": "execute_result"
    }
   ],
   "source": [
    "df_lote['address_neighborhood'].value_counts()"
   ]
  },
  {
   "cell_type": "code",
   "execution_count": 57,
   "id": "8dbf2f08",
   "metadata": {
    "ExecuteTime": {
     "end_time": "2023-01-30T21:57:54.684441Z",
     "start_time": "2023-01-30T21:57:54.619620Z"
    }
   },
   "outputs": [
    {
     "data": {
      "text/html": [
       "<div>\n",
       "<style scoped>\n",
       "    .dataframe tbody tr th:only-of-type {\n",
       "        vertical-align: middle;\n",
       "    }\n",
       "\n",
       "    .dataframe tbody tr th {\n",
       "        vertical-align: top;\n",
       "    }\n",
       "\n",
       "    .dataframe thead th {\n",
       "        text-align: right;\n",
       "    }\n",
       "</style>\n",
       "<table border=\"1\" class=\"dataframe\">\n",
       "  <thead>\n",
       "    <tr style=\"text-align: right;\">\n",
       "      <th></th>\n",
       "      <th>listing_id</th>\n",
       "      <th>link_name</th>\n",
       "      <th>link_url</th>\n",
       "      <th>listing_type</th>\n",
       "      <th>listing_title</th>\n",
       "      <th>listing_desc</th>\n",
       "      <th>business_types</th>\n",
       "      <th>unit_type</th>\n",
       "      <th>unit_subtype</th>\n",
       "      <th>property_type</th>\n",
       "      <th>usage_type</th>\n",
       "      <th>sale_price</th>\n",
       "      <th>rental_price</th>\n",
       "      <th>rental_period</th>\n",
       "      <th>yearly_iptu</th>\n",
       "      <th>monthly_condo_fee</th>\n",
       "      <th>amenities</th>\n",
       "      <th>usable_area</th>\n",
       "      <th>total_area</th>\n",
       "      <th>bathrooms</th>\n",
       "      <th>bedrooms</th>\n",
       "      <th>suites</th>\n",
       "      <th>parking_spaces</th>\n",
       "      <th>address_country</th>\n",
       "      <th>address_state</th>\n",
       "      <th>address_city</th>\n",
       "      <th>address_neighborhood</th>\n",
       "      <th>address_street</th>\n",
       "      <th>address_street_number</th>\n",
       "      <th>address_complement</th>\n",
       "      <th>address_zipcode</th>\n",
       "      <th>location_id</th>\n",
       "      <th>advertiser_id</th>\n",
       "      <th>advertiser_name</th>\n",
       "      <th>advertiser_phones</th>\n",
       "      <th>advertiser_whatsapp</th>\n",
       "      <th>advertiser_url</th>\n",
       "      <th>portal</th>\n",
       "      <th>aquisition_date</th>\n",
       "      <th>ano</th>\n",
       "      <th>mes</th>\n",
       "      <th>dia</th>\n",
       "    </tr>\n",
       "  </thead>\n",
       "  <tbody>\n",
       "    <tr>\n",
       "      <th>998</th>\n",
       "      <td>2570287068</td>\n",
       "      <td>Lote/Terreno à venda, 520m²</td>\n",
       "      <td>https://www.vivareal.com.br/imovel/lote-terren...</td>\n",
       "      <td>USED</td>\n",
       "      <td>Terreno em rua - Bairro Centro em Itapema</td>\n",
       "      <td>O Terreno:&lt;br&gt;* 02 lotes;&lt;br&gt;* 520m².&lt;br&gt;&lt;br&gt;F...</td>\n",
       "      <td>[\"SALE\"]</td>\n",
       "      <td>RESIDENTIAL_ALLOTMENT_LAND</td>\n",
       "      <td>no_description</td>\n",
       "      <td>UNIT</td>\n",
       "      <td>RESIDENTIAL</td>\n",
       "      <td>3030000.00</td>\n",
       "      <td>0.00</td>\n",
       "      <td>venda</td>\n",
       "      <td>0.00</td>\n",
       "      <td>0.00</td>\n",
       "      <td>[]</td>\n",
       "      <td>520.00</td>\n",
       "      <td>520.00</td>\n",
       "      <td>0</td>\n",
       "      <td>0</td>\n",
       "      <td>0</td>\n",
       "      <td>0</td>\n",
       "      <td>BR</td>\n",
       "      <td>SC</td>\n",
       "      <td>Itapema</td>\n",
       "      <td>Centro</td>\n",
       "      <td>Rua 129 A</td>\n",
       "      <td>154</td>\n",
       "      <td>no_description</td>\n",
       "      <td>88220000</td>\n",
       "      <td>BR&gt;Santa Catarina&gt;NULL&gt;Itapema&gt;Barrios&gt;Centro</td>\n",
       "      <td>703ad00c-ca24-aa67-ac7e-004ce24d7e39</td>\n",
       "      <td>InterPraias Imóveis</td>\n",
       "      <td>[\"4733635655\", \"47991574579\"]</td>\n",
       "      <td>47991574579</td>\n",
       "      <td>https://www.vivareal.com.br/521447/interpraias...</td>\n",
       "      <td>GRUPOZAP</td>\n",
       "      <td>2022-12-06</td>\n",
       "      <td>2022</td>\n",
       "      <td>12</td>\n",
       "      <td>6</td>\n",
       "    </tr>\n",
       "    <tr>\n",
       "      <th>1023</th>\n",
       "      <td>2578956186</td>\n",
       "      <td>Lote/Terreno à venda, 890m²</td>\n",
       "      <td>https://www.vivareal.com.br/imovel/lote-terren...</td>\n",
       "      <td>USED</td>\n",
       "      <td>Terreno em Centro - Itapema</td>\n",
       "      <td>TERRENO COM 890M² NO COND. PLAZA ITAPEMA - ALT...</td>\n",
       "      <td>[\"SALE\"]</td>\n",
       "      <td>RESIDENTIAL_ALLOTMENT_LAND</td>\n",
       "      <td>no_description</td>\n",
       "      <td>UNIT</td>\n",
       "      <td>RESIDENTIAL</td>\n",
       "      <td>3750000.00</td>\n",
       "      <td>0.00</td>\n",
       "      <td>venda</td>\n",
       "      <td>15000.00</td>\n",
       "      <td>1700.00</td>\n",
       "      <td>[\"GOURMET_BALCONY\"]</td>\n",
       "      <td>890.00</td>\n",
       "      <td>890.00</td>\n",
       "      <td>0</td>\n",
       "      <td>0</td>\n",
       "      <td>0</td>\n",
       "      <td>0</td>\n",
       "      <td>BR</td>\n",
       "      <td>SC</td>\n",
       "      <td>Itapema</td>\n",
       "      <td>Centro</td>\n",
       "      <td>Avenida Nereu Ramos</td>\n",
       "      <td>700</td>\n",
       "      <td>no_description</td>\n",
       "      <td>88220972</td>\n",
       "      <td>BR&gt;Santa Catarina&gt;NULL&gt;Itapema&gt;Barrios&gt;Centro</td>\n",
       "      <td>bc0f6406-1483-e4ab-8741-378019a39174</td>\n",
       "      <td>Felipe Leal Imóveis</td>\n",
       "      <td>[\"4833757515\", \"48988150008\"]</td>\n",
       "      <td>48988150008</td>\n",
       "      <td>https://www.vivareal.com.br/553787/felipe-leal...</td>\n",
       "      <td>GRUPOZAP</td>\n",
       "      <td>2022-12-06</td>\n",
       "      <td>2022</td>\n",
       "      <td>12</td>\n",
       "      <td>6</td>\n",
       "    </tr>\n",
       "    <tr>\n",
       "      <th>1036</th>\n",
       "      <td>2565198126</td>\n",
       "      <td>Lote/Terreno à venda, 200m²</td>\n",
       "      <td>https://www.vivareal.com.br/imovel/lote-terren...</td>\n",
       "      <td>USED</td>\n",
       "      <td>Terreno à venda no bairro Centro - Itapema/SC</td>\n",
       "      <td>Considerada a cidade com a maior valorização i...</td>\n",
       "      <td>[\"SALE\"]</td>\n",
       "      <td>RESIDENTIAL_ALLOTMENT_LAND</td>\n",
       "      <td>no_description</td>\n",
       "      <td>UNIT</td>\n",
       "      <td>RESIDENTIAL</td>\n",
       "      <td>227688.00</td>\n",
       "      <td>0.00</td>\n",
       "      <td>venda</td>\n",
       "      <td>1.00</td>\n",
       "      <td>1.00</td>\n",
       "      <td>[\"NEAR_SCHOOL\", \"ESSENTIAL_PUBLIC_SERVICES\"]</td>\n",
       "      <td>200.00</td>\n",
       "      <td>200.00</td>\n",
       "      <td>0</td>\n",
       "      <td>0</td>\n",
       "      <td>0</td>\n",
       "      <td>0</td>\n",
       "      <td>BR</td>\n",
       "      <td>SC</td>\n",
       "      <td>Itapema</td>\n",
       "      <td>Centro</td>\n",
       "      <td>no_description</td>\n",
       "      <td>no_description</td>\n",
       "      <td>no_description</td>\n",
       "      <td>88220000</td>\n",
       "      <td>BR&gt;Santa Catarina&gt;NULL&gt;Itapema&gt;Barrios&gt;Centro</td>\n",
       "      <td>5dc320f7-1bfd-9bb6-6c4c-45025f21edee</td>\n",
       "      <td>Thiago Vieira Imóveis</td>\n",
       "      <td>[\"48991033549\"]</td>\n",
       "      <td>48991033549</td>\n",
       "      <td>https://www.vivareal.com.br/666194/thiago-viei...</td>\n",
       "      <td>GRUPOZAP</td>\n",
       "      <td>2022-12-06</td>\n",
       "      <td>2022</td>\n",
       "      <td>12</td>\n",
       "      <td>6</td>\n",
       "    </tr>\n",
       "    <tr>\n",
       "      <th>1072</th>\n",
       "      <td>2571877487</td>\n",
       "      <td>Lote/Terreno à venda, 200m²</td>\n",
       "      <td>https://www.vivareal.com.br/imovel/lote-terren...</td>\n",
       "      <td>USED</td>\n",
       "      <td>ITAPEMA - Terreno Padrão - Centro</td>\n",
       "      <td>Terreno urbano à venda, em excelente localizaç...</td>\n",
       "      <td>[\"SALE\"]</td>\n",
       "      <td>RESIDENTIAL_ALLOTMENT_LAND</td>\n",
       "      <td>no_description</td>\n",
       "      <td>UNIT</td>\n",
       "      <td>RESIDENTIAL</td>\n",
       "      <td>1795500.00</td>\n",
       "      <td>0.00</td>\n",
       "      <td>venda</td>\n",
       "      <td>100.00</td>\n",
       "      <td>0.00</td>\n",
       "      <td>[]</td>\n",
       "      <td>200.00</td>\n",
       "      <td>200.00</td>\n",
       "      <td>0</td>\n",
       "      <td>0</td>\n",
       "      <td>0</td>\n",
       "      <td>0</td>\n",
       "      <td>BR</td>\n",
       "      <td>SC</td>\n",
       "      <td>Itapema</td>\n",
       "      <td>Centro</td>\n",
       "      <td>no_description</td>\n",
       "      <td>84</td>\n",
       "      <td>no_description</td>\n",
       "      <td>88220000</td>\n",
       "      <td>BR&gt;Santa Catarina&gt;NULL&gt;Itapema&gt;Barrios&gt;Centro</td>\n",
       "      <td>c0e60545-529c-e436-2945-1ca32d421676</td>\n",
       "      <td>Auxiliadora Predial - Praias Belas</td>\n",
       "      <td>[\"5133988705\", \"5192537477\"]</td>\n",
       "      <td>0</td>\n",
       "      <td>https://www.vivareal.com.br/84477/auxiliadora-...</td>\n",
       "      <td>GRUPOZAP</td>\n",
       "      <td>2022-12-06</td>\n",
       "      <td>2022</td>\n",
       "      <td>12</td>\n",
       "      <td>6</td>\n",
       "    </tr>\n",
       "    <tr>\n",
       "      <th>1097</th>\n",
       "      <td>2560639097</td>\n",
       "      <td>Lote/Terreno à venda, 283m²</td>\n",
       "      <td>https://www.vivareal.com.br/imovel/lote-terren...</td>\n",
       "      <td>USED</td>\n",
       "      <td>Terreno em Centro - Itapema</td>\n",
       "      <td>&lt;b&gt; TERRENO– ITAPEMA &lt;/b&gt;&lt;br&gt; &lt;br&gt; O terreno f...</td>\n",
       "      <td>[\"SALE\"]</td>\n",
       "      <td>RESIDENTIAL_ALLOTMENT_LAND</td>\n",
       "      <td>no_description</td>\n",
       "      <td>UNIT</td>\n",
       "      <td>RESIDENTIAL</td>\n",
       "      <td>1350000.00</td>\n",
       "      <td>0.00</td>\n",
       "      <td>venda</td>\n",
       "      <td>0.00</td>\n",
       "      <td>0.00</td>\n",
       "      <td>[]</td>\n",
       "      <td>283.00</td>\n",
       "      <td>283.00</td>\n",
       "      <td>0</td>\n",
       "      <td>0</td>\n",
       "      <td>0</td>\n",
       "      <td>0</td>\n",
       "      <td>BR</td>\n",
       "      <td>SC</td>\n",
       "      <td>Itapema</td>\n",
       "      <td>Centro</td>\n",
       "      <td>no_description</td>\n",
       "      <td>no_description</td>\n",
       "      <td>no_description</td>\n",
       "      <td>88220000</td>\n",
       "      <td>BR&gt;Santa Catarina&gt;NULL&gt;Itapema&gt;Barrios&gt;Centro</td>\n",
       "      <td>63c605b8-da30-a469-c73a-709ed776b9c1</td>\n",
       "      <td>Imobiliária Morada do Sol</td>\n",
       "      <td>[\"4733686988\", \"47991590058\"]</td>\n",
       "      <td>47991590058</td>\n",
       "      <td>https://www.vivareal.com.br/73768/imobiliaria-...</td>\n",
       "      <td>GRUPOZAP</td>\n",
       "      <td>2022-12-06</td>\n",
       "      <td>2022</td>\n",
       "      <td>12</td>\n",
       "      <td>6</td>\n",
       "    </tr>\n",
       "  </tbody>\n",
       "</table>\n",
       "</div>"
      ],
      "text/plain": [
       "      listing_id                    link_name                                           link_url listing_type                                  listing_title                                       listing_desc business_types                   unit_type    unit_subtype property_type   usage_type  sale_price  rental_price rental_period  yearly_iptu  monthly_condo_fee                                     amenities  usable_area  total_area  bathrooms  bedrooms  suites  parking_spaces address_country address_state address_city address_neighborhood       address_street address_street_number address_complement  address_zipcode                                    location_id                         advertiser_id                     advertiser_name              advertiser_phones  advertiser_whatsapp                                     advertiser_url    portal aquisition_date   ano  mes  dia\n",
       "998   2570287068  Lote/Terreno à venda, 520m²  https://www.vivareal.com.br/imovel/lote-terren...         USED      Terreno em rua - Bairro Centro em Itapema  O Terreno:<br>* 02 lotes;<br>* 520m².<br><br>F...       [\"SALE\"]  RESIDENTIAL_ALLOTMENT_LAND  no_description          UNIT  RESIDENTIAL  3030000.00          0.00         venda         0.00               0.00                                            []       520.00      520.00          0         0       0               0              BR            SC      Itapema               Centro            Rua 129 A                   154     no_description         88220000  BR>Santa Catarina>NULL>Itapema>Barrios>Centro  703ad00c-ca24-aa67-ac7e-004ce24d7e39                 InterPraias Imóveis  [\"4733635655\", \"47991574579\"]          47991574579  https://www.vivareal.com.br/521447/interpraias...  GRUPOZAP      2022-12-06  2022   12    6\n",
       "1023  2578956186  Lote/Terreno à venda, 890m²  https://www.vivareal.com.br/imovel/lote-terren...         USED                    Terreno em Centro - Itapema  TERRENO COM 890M² NO COND. PLAZA ITAPEMA - ALT...       [\"SALE\"]  RESIDENTIAL_ALLOTMENT_LAND  no_description          UNIT  RESIDENTIAL  3750000.00          0.00         venda     15000.00            1700.00                           [\"GOURMET_BALCONY\"]       890.00      890.00          0         0       0               0              BR            SC      Itapema               Centro  Avenida Nereu Ramos                   700     no_description         88220972  BR>Santa Catarina>NULL>Itapema>Barrios>Centro  bc0f6406-1483-e4ab-8741-378019a39174                 Felipe Leal Imóveis  [\"4833757515\", \"48988150008\"]          48988150008  https://www.vivareal.com.br/553787/felipe-leal...  GRUPOZAP      2022-12-06  2022   12    6\n",
       "1036  2565198126  Lote/Terreno à venda, 200m²  https://www.vivareal.com.br/imovel/lote-terren...         USED  Terreno à venda no bairro Centro - Itapema/SC  Considerada a cidade com a maior valorização i...       [\"SALE\"]  RESIDENTIAL_ALLOTMENT_LAND  no_description          UNIT  RESIDENTIAL   227688.00          0.00         venda         1.00               1.00  [\"NEAR_SCHOOL\", \"ESSENTIAL_PUBLIC_SERVICES\"]       200.00      200.00          0         0       0               0              BR            SC      Itapema               Centro       no_description        no_description     no_description         88220000  BR>Santa Catarina>NULL>Itapema>Barrios>Centro  5dc320f7-1bfd-9bb6-6c4c-45025f21edee               Thiago Vieira Imóveis                [\"48991033549\"]          48991033549  https://www.vivareal.com.br/666194/thiago-viei...  GRUPOZAP      2022-12-06  2022   12    6\n",
       "1072  2571877487  Lote/Terreno à venda, 200m²  https://www.vivareal.com.br/imovel/lote-terren...         USED              ITAPEMA - Terreno Padrão - Centro  Terreno urbano à venda, em excelente localizaç...       [\"SALE\"]  RESIDENTIAL_ALLOTMENT_LAND  no_description          UNIT  RESIDENTIAL  1795500.00          0.00         venda       100.00               0.00                                            []       200.00      200.00          0         0       0               0              BR            SC      Itapema               Centro       no_description                    84     no_description         88220000  BR>Santa Catarina>NULL>Itapema>Barrios>Centro  c0e60545-529c-e436-2945-1ca32d421676  Auxiliadora Predial - Praias Belas   [\"5133988705\", \"5192537477\"]                    0  https://www.vivareal.com.br/84477/auxiliadora-...  GRUPOZAP      2022-12-06  2022   12    6\n",
       "1097  2560639097  Lote/Terreno à venda, 283m²  https://www.vivareal.com.br/imovel/lote-terren...         USED                    Terreno em Centro - Itapema  <b> TERRENO– ITAPEMA </b><br> <br> O terreno f...       [\"SALE\"]  RESIDENTIAL_ALLOTMENT_LAND  no_description          UNIT  RESIDENTIAL  1350000.00          0.00         venda         0.00               0.00                                            []       283.00      283.00          0         0       0               0              BR            SC      Itapema               Centro       no_description        no_description     no_description         88220000  BR>Santa Catarina>NULL>Itapema>Barrios>Centro  63c605b8-da30-a469-c73a-709ed776b9c1           Imobiliária Morada do Sol  [\"4733686988\", \"47991590058\"]          47991590058  https://www.vivareal.com.br/73768/imobiliaria-...  GRUPOZAP      2022-12-06  2022   12    6"
      ]
     },
     "execution_count": 57,
     "metadata": {},
     "output_type": "execute_result"
    }
   ],
   "source": [
    "df_lote.loc[df_lote['address_neighborhood']=='Centro'].head()"
   ]
  },
  {
   "cell_type": "markdown",
   "id": "5ffe88f3",
   "metadata": {},
   "source": [
    "**possível imóvel escolhido:** 2557742571\n"
   ]
  },
  {
   "cell_type": "code",
   "execution_count": null,
   "id": "44ea64d7",
   "metadata": {},
   "outputs": [],
   "source": []
  }
 ],
 "metadata": {
  "kernelspec": {
   "display_name": "venv_seazone",
   "language": "python",
   "name": "venv_seazone"
  },
  "language_info": {
   "codemirror_mode": {
    "name": "ipython",
    "version": 3
   },
   "file_extension": ".py",
   "mimetype": "text/x-python",
   "name": "python",
   "nbconvert_exporter": "python",
   "pygments_lexer": "ipython3",
   "version": "3.10.7"
  }
 },
 "nbformat": 4,
 "nbformat_minor": 5
}
